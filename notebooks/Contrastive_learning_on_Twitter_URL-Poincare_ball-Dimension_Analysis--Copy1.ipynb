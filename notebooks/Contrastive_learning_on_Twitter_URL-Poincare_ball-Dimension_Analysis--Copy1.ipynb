{
 "cells": [
  {
   "cell_type": "code",
   "execution_count": 1,
   "id": "b9191228-a8b4-4150-afa8-118762902356",
   "metadata": {},
   "outputs": [
    {
     "name": "stderr",
     "output_type": "stream",
     "text": [
      "/cronus_data/vraja/dysarthria/lib/python3.11/site-packages/transformers/utils/hub.py:105: FutureWarning: Using `TRANSFORMERS_CACHE` is deprecated and will be removed in v5 of Transformers. Use `HF_HOME` instead.\n",
      "  warnings.warn(\n"
     ]
    },
    {
     "name": "stdout",
     "output_type": "stream",
     "text": [
      "Max group size: 20\n",
      "unique group sizes = {8, 9, 10, 20}\n",
      "Max group size: 20\n",
      "unique group sizes = {10, 20}\n",
      "Train size: 4197\n",
      "Val size: 467\n",
      "Test size: 1010\n"
     ]
    }
   ],
   "source": [
    "import torch\n",
    "from torch.utils.data import Dataset, DataLoader\n",
    "import torch.nn as nn\n",
    "import torch.nn.functional as F\n",
    "import csv\n",
    "import os\n",
    "from transformers import AutoTokenizer, AutoModel\n",
    "from torch.utils.data import random_split\n",
    "from sklearn.model_selection import GroupShuffleSplit\n",
    "from scipy.stats import spearmanr\n",
    "from tqdm import tqdm  # make sure you have tqdm installed\n",
    "import geoopt\n",
    "from datetime import datetime\n",
    "import json\n",
    "import numpy as np\n",
    "# there was an error with geoopt scipy version compatibility, it was fixed by-\n",
    "# nano /cronus_data/vraja/dysarthria/lib/python3.11/site-packages/geoopt/optim/rlinesearch.py\n",
    "# added this to the import -\n",
    "# try:\n",
    "#     from scipy.optimize.linesearch import scalar_search_wolfe2, scalar_search_armijo\n",
    "# except ImportError:\n",
    "#     from scipy.optimize._linesearch import scalar_search_wolfe2, scalar_search_armijo\n",
    "torch.manual_seed(42)  # Before random_split\n",
    "base_path = \"\"\n",
    "\n",
    "os.environ[\"CUDA_VISIBLE_DEVICES\"] = \"2\"\n",
    "device = torch.device('cuda:0' if torch.cuda.is_available() else 'cpu')\n",
    "# -----------------------------\n",
    "# 1. Dataset Class\n",
    "# -----------------------------\n",
    "\n",
    "class TwitterURLDataset(Dataset):\n",
    "    def __init__(self, file_path, tokenizer, max_length=128):\n",
    "        self.data = self.read_file(file_path)\n",
    "        self.tokenizer = tokenizer\n",
    "        self.max_length = max_length\n",
    "        self.groups = self.group_data()\n",
    "        self.group_ids = [i for i, _ in enumerate(self.groups)]\n",
    "        \n",
    "        # Pre-compute maximum group size\n",
    "        self.max_group_size = max(len(group) for group in self.groups)  # Cap at 10\n",
    "        print(f\"Max group size: {self.max_group_size}\")\n",
    "        print(f\"unique group sizes = {set([len(group) for group in self.groups])}\")\n",
    "\n",
    "\n",
    "\n",
    "    def read_file(self, file_path):\n",
    "        data = []\n",
    "        with open(file_path, 'r', encoding='utf-8') as f:\n",
    "            reader = csv.reader(f, delimiter='\\t')\n",
    "            for row in reader:\n",
    "                if len(row) != 4:\n",
    "                    continue\n",
    "                sentence1, sentence2, score_str, url = row\n",
    "                try:\n",
    "                    score = int(score_str.strip('()').split(',')[0])\n",
    "                except:\n",
    "                    continue\n",
    "                data.append((sentence1.strip(), sentence2.strip(), score))\n",
    "        return data\n",
    "\n",
    "\n",
    "    def group_data(self):\n",
    "        groups = []\n",
    "        current_group = []\n",
    "        last_sentence1 = None\n",
    "        for item in self.data:\n",
    "            sentence1, sentence2, score = item\n",
    "            if sentence1 != last_sentence1 and current_group:\n",
    "                groups.append(current_group)\n",
    "                current_group = []\n",
    "            current_group.append(item)\n",
    "            last_sentence1 = sentence1\n",
    "        if current_group:\n",
    "            groups.append(current_group)\n",
    "        return groups\n",
    "\n",
    "    def __len__(self):\n",
    "        return len(self.groups)\n",
    "\n",
    "    def __getitem__(self, idx):\n",
    "        group = self.groups[idx]\n",
    "        anchor_text = group[0][0]\n",
    "        \n",
    "        # Pad group to max_group_size with dummy entries if needed\n",
    "        padded_group = group + [(\"\", \"\", 0)] * (self.max_group_size - len(group))\n",
    "        \n",
    "        sentences = [item[1] for item in padded_group]\n",
    "        scores = torch.tensor([item[2] for item in padded_group], dtype=torch.float32)\n",
    "        \n",
    "        anchor_input = self.tokenizer(\n",
    "            anchor_text, \n",
    "            padding='max_length', \n",
    "            truncation=True, \n",
    "            max_length=self.max_length, \n",
    "            return_tensors=\"pt\",\n",
    "            return_token_type_ids=False  # Add this line\n",
    "        )\n",
    "        \n",
    "        sentence_inputs = [\n",
    "            self.tokenizer(\n",
    "                s, \n",
    "                padding='max_length', \n",
    "                truncation=True, \n",
    "                max_length=self.max_length, \n",
    "                return_tensors=\"pt\",\n",
    "                return_token_type_ids=False  # Add this line\n",
    "            ) for s in sentences\n",
    "        ]\n",
    "        \n",
    "        return {\n",
    "            'anchor_input': {k: v.squeeze(0) for k, v in anchor_input.items()},\n",
    "            'sentence_inputs': [{k: v.squeeze(0) for k, v in inp.items()} for inp in sentence_inputs],\n",
    "            'scores': scores,\n",
    "            'mask': torch.tensor([1]*len(group) + [0]*(self.max_group_size - len(group)))  # Mask for real vs padded\n",
    "        }\n",
    "\n",
    "\n",
    "# -----------------------------\n",
    "# 2. Model\n",
    "# -----------------------------    \n",
    "class HyperbolicMapper(nn.Module):\n",
    "    def __init__(self, sbert_model_name='sentence-transformers/all-MiniLM-L6-v2', output_dim=32):\n",
    "        super(HyperbolicMapper, self).__init__()\n",
    "        # Frozen SBERT\n",
    "        self.sbert = AutoModel.from_pretrained(sbert_model_name)\n",
    "        for param in self.sbert.parameters():\n",
    "            param.requires_grad = False\n",
    "        \n",
    "        sbert_hidden_dim = self.sbert.config.hidden_size  # usually 384 for MiniLM\n",
    "        self.curvature = nn.Parameter(torch.tensor(1.0))\n",
    "        self.temperature = nn.Parameter(torch.tensor(1.0))\n",
    "        # self.fc = nn.Linear(sbert_hidden_dim, output_dim)\n",
    "        self.projection = nn.Sequential(\n",
    "            # nn.LayerNorm(sbert_hidden_dim),\n",
    "            # nn.Linear(sbert_hidden_dim, sbert_hidden_dim//2),\n",
    "            # nn.GELU(),\n",
    "            # nn.Linear(sbert_hidden_dim//2, output_dim))\n",
    "            nn.Linear(sbert_hidden_dim, output_dim))\n",
    "        print(\"initialized model\")\n",
    "\n",
    "    def poincare_project(self, x):\n",
    "        x = x / self.temperature\n",
    "        norm = torch.norm(x, p=2, dim=-1, keepdim=True)\n",
    "        scale = (1 - 1e-5) / torch.clamp(norm * torch.sqrt(self.curvature), min=1e-5)\n",
    "        return x * scale\n",
    "        \n",
    "    def forward(self, input_ids, attention_mask):\n",
    "        with torch.no_grad():\n",
    "            sbert_output = self.sbert(input_ids=input_ids, attention_mask=attention_mask)\n",
    "            cls_embedding = sbert_output.last_hidden_state[:, 0]\n",
    "        \n",
    "        projected = self.projection(cls_embedding)\n",
    "        return self.poincare_project(projected)\n",
    "\n",
    "# -----------------------------\n",
    "# 3. Margin Ranking Loss and Poincare distance\n",
    "# -----------------------------\n",
    "\n",
    "# margin_ranking_loss = nn.MarginRankingLoss(margin=0.2)\n",
    "def hyperbolic_margin_loss(anchor, positive, negative, margin=0.2, \n",
    "                          curvature=1.0, temperature=1.0):\n",
    "    # Scale margin by temperature\n",
    "    effective_margin = margin * temperature\n",
    "\n",
    "    # print(\"TRAIN:anchor.shape = \",anchor.shape)\n",
    "    # print(\"TRAIN:negative.shape = \",negative.shape)\n",
    "    # print(\"TRAIN:positive.shape = \",positive.shape)\n",
    "    pos_dist = poincare_distance(anchor/temperature, \n",
    "                               positive/temperature, \n",
    "                               curvature)\n",
    "    neg_dist = poincare_distance(anchor/temperature,\n",
    "                               negative/temperature,\n",
    "                               curvature)\n",
    "    \n",
    "    return F.relu(pos_dist - neg_dist + effective_margin).mean()\n",
    "\n",
    "def poincare_distance(x, y, curvature=1.0, eps=1e-5):\n",
    "    \"\"\"Batch-supported Poincaré distance with curvature\"\"\"\n",
    "    sqrt_c = torch.sqrt(curvature + eps)\n",
    "\n",
    "    # Ensure same batch shape if needed\n",
    "    if x.dim() == 2 and y.dim() == 3:\n",
    "        # x: [B, D] -> [B, 1, D]\n",
    "        x = x.unsqueeze(1)\n",
    "    elif x.dim() == 2 and y.dim() == 2:\n",
    "        # x: [B, D], y: [B, D] — no reshaping needed\n",
    "        pass\n",
    "    else:\n",
    "        raise ValueError(f\"Incompatible shapes: x {x.shape}, y {y.shape}\")\n",
    "    \n",
    "    # Compute norms\n",
    "    x_norm = torch.norm(x, p=2, dim=-1, keepdim=True) * sqrt_c  # [B, 1, 1]\n",
    "    y_norm = torch.norm(y, p=2, dim=-1, keepdim=True) * sqrt_c  # [B, G, 1]\n",
    "    # Pairwise distances\n",
    "    pairwise_norm = torch.norm(x - y, p=2, dim=-1, keepdim=True) * sqrt_c  # [B, G, 1]\n",
    "    \n",
    "    # # Hyperbolic distance calculation\n",
    "    # denominator = (1 - curvature * x_norm**2) * (1 - curvature * y_norm**2)\n",
    "    # inside = 1 + 2 * curvature * pairwise_norm**2 / (denominator.clamp(min=eps))\n",
    "    # return torch.acosh(torch.clamp(inside, min=1+eps)) / (sqrt_c + eps)  # [B, G, 1] -> [B, G]\n",
    "    # Distance\n",
    "    denominator = (1 - curvature * x_norm**2) * (1 - curvature * y_norm**2)\n",
    "    inside = 1 + 2 * curvature * pairwise_norm**2 / (denominator.clamp(min=eps))\n",
    "    return torch.acosh(torch.clamp(inside, min=1+eps)).squeeze(-1) / (sqrt_c + eps)\n",
    "    \n",
    "# -----------------------------\n",
    "# 5. Training Step\n",
    "# -----------------------------\n",
    "\n",
    "def train_one_epoch(train_loader, model, optimizer, device):\n",
    "    model.train()\n",
    "    total_loss = 0\n",
    "    total_pairs = 0\n",
    "    \n",
    "    # Wrap your loader with tqdm for a progress bar\n",
    "    prog_bar = tqdm(train_loader, desc=\"Training\", leave=False)\n",
    "    \n",
    "    for batch in prog_bar:\n",
    "        optimizer.zero_grad()\n",
    "        \n",
    "        anchor_input = {k: v.to(device) for k, v in batch['anchor_input'].items()}\n",
    "        anchor_embed = model(**anchor_input)\n",
    "        \n",
    "        sentence_inputs = {k: v.to(device) for k, v in batch['sentence_inputs'].items()}\n",
    "        sentence_embeds = model(**sentence_inputs)\n",
    "        \n",
    "        batch_size, max_group_size = batch['scores'].shape\n",
    "        sentence_embeds = sentence_embeds.view(batch_size, max_group_size, -1)\n",
    "        scores = batch['scores'].to(device)\n",
    "        mask = batch['mask'].to(device).bool()       \n",
    "        \n",
    "        # Create all valid pairs\n",
    "        pos_mask = (scores.unsqueeze(2) > scores.unsqueeze(1)) & mask.unsqueeze(2) & mask.unsqueeze(1)\n",
    "        \n",
    "        if pos_mask.any():\n",
    "            # Get indices of all valid pairs\n",
    "            anchor_idx, pos_idx, neg_idx = torch.where(pos_mask)\n",
    "            \n",
    "            # Compute hyperbolic margin loss directly\n",
    "            loss = hyperbolic_margin_loss(\n",
    "                anchor_embed[anchor_idx],          # Anchor embeddings\n",
    "                sentence_embeds[anchor_idx, pos_idx],  # Positive embeddings\n",
    "                sentence_embeds[anchor_idx, neg_idx],  # Negative embeddings\n",
    "                margin=0.2,\n",
    "                curvature=model.curvature,\n",
    "                temperature=model.temperature\n",
    "            )\n",
    "            \n",
    "            loss.backward()\n",
    "            optimizer.step()\n",
    "            \n",
    "            # Update tracking\n",
    "            num_pairs = pos_mask.sum().item()\n",
    "            total_loss += loss.item() * num_pairs\n",
    "            total_pairs += num_pairs\n",
    "            \n",
    "        prog_bar.set_postfix({\n",
    "            'loss': loss.item() if pos_mask.any() else 0,\n",
    "            'pairs': pos_mask.sum().item() if pos_mask.any() else 0,\n",
    "            'curv': model.curvature.item(),\n",
    "            'temp': model.temperature.item()\n",
    "        })\n",
    "    \n",
    "    # Return average loss per pair\n",
    "    return total_loss / total_pairs if total_pairs > 0 else 0\n",
    "\n",
    "\n",
    "def validate(loader, model, device):\n",
    "    model.eval()\n",
    "    # total_loss = 0\n",
    "    # total_pairs = 0\n",
    "    all_anchor_spearmans = []\n",
    "    \n",
    "    with torch.no_grad():\n",
    "        for batch in loader:\n",
    "            anchor_input = {k: v.to(device) for k, v in batch['anchor_input'].items()}\n",
    "            anchor_embed = model(**anchor_input)\n",
    "            \n",
    "            # Process all sentences (with masking)\n",
    "            sentence_inputs = {k: v.to(device) for k, v in batch['sentence_inputs'].items()}\n",
    "            sentence_embeds = model(**sentence_inputs)\n",
    "\n",
    "            # Reshape and mask\n",
    "            batch_size, max_group_size = batch['scores'].shape\n",
    "            sentence_embeds = sentence_embeds.view(batch_size, max_group_size, -1)\n",
    "            mask = batch['mask'].to(device)\n",
    "            scores = batch['scores'].to(device)\n",
    "\n",
    "            # print(\"anchor_embed.shape = \",anchor_embed.shape)\n",
    "            # print(\"sentence_embeds.shape = \",sentence_embeds.shape)\n",
    "            # Compute similarities -> Now poincare distance\n",
    "            dists = poincare_distance(\n",
    "                anchor_embed, #.unsqueeze(1), #.expand_as(sentence_embeds),\n",
    "                sentence_embeds,\n",
    "                curvature=model.curvature\n",
    "            ) * mask\n",
    "            # Flip distance -> similarity\n",
    "            sims = -dists\n",
    "\n",
    "            for i in range(batch_size):\n",
    "                valid_idx = torch.where(mask[i] == 1)[0]\n",
    "                if len(valid_idx) < 2:  # Need at least 2 for correlation\n",
    "                    continue\n",
    "\n",
    "                # Calculate per-anchor Spearman\n",
    "                anchor_scores = scores[i, valid_idx].cpu().numpy()\n",
    "                anchor_preds = sims[i, valid_idx].cpu().numpy()\n",
    "\n",
    "                if len(np.unique(anchor_scores)) > 1:  # Check for rankable scores\n",
    "                    spear = spearmanr(anchor_scores, anchor_preds).correlation\n",
    "                    all_anchor_spearmans.append(spear)\n",
    "\n",
    "                # # Validation loss part. Im just adding cause it was also in training. Dont really need it\n",
    "                # pos_mask = (scores[i].unsqueeze(1) > scores[i].unsqueeze(0)) & mask[i].unsqueeze(1) & mask[i].unsqueeze(0)\n",
    "                # if pos_mask.any():\n",
    "                #     a_idx, p_idx, n_idx = torch.where(pos_mask)\n",
    "                #     loss = hyperbolic_margin_loss(\n",
    "                #         anchor_embed[i].unsqueeze(0).expand(len(a_idx), -1),\n",
    "                #         sentence_embeds[i, p_idx],\n",
    "                #         sentence_embeds[i, n_idx],\n",
    "                #         margin=0.2,\n",
    "                #         curvature=model.curvature,\n",
    "                #         temperature=model.temperature\n",
    "                #     )\n",
    "                #     total_loss += loss.item() * len(a_idx)\n",
    "                #     total_pairs += len(a_idx)\n",
    "    \n",
    "    # Compute metrics\n",
    "    mean_spearman = np.mean(all_anchor_spearmans) if all_anchor_spearmans else 0.0\n",
    "    # avg_loss = total_loss / total_pairs if total_pairs > 0 else 0.0\n",
    "    \n",
    "    return mean_spearman\n",
    "\n",
    "\n",
    "def collate_fn(batch):\n",
    "    # Find actual max group size in this batch\n",
    "    batch_max_len = max(len(item['mask'][item['mask'] == 1]) for item in batch)\n",
    "    \n",
    "    # Truncate all inputs to this length\n",
    "    anchor_inputs = {\n",
    "        k: torch.stack([item['anchor_input'][k] for item in batch])\n",
    "        for k in batch[0]['anchor_input']\n",
    "    }\n",
    "    \n",
    "    sentence_inputs = {\n",
    "        k: torch.stack([\n",
    "            inp[k] \n",
    "            for item in batch \n",
    "            for inp in item['sentence_inputs'][:batch_max_len]  # Only take needed elements\n",
    "        ])\n",
    "        for k in batch[0]['sentence_inputs'][0]\n",
    "    }\n",
    "    \n",
    "    scores = torch.stack([item['scores'][:batch_max_len] for item in batch])\n",
    "    masks = torch.stack([item['mask'][:batch_max_len] for item in batch])\n",
    "    \n",
    "    return {\n",
    "        'anchor_input': anchor_inputs,\n",
    "        'sentence_inputs': sentence_inputs,\n",
    "        'scores': scores,\n",
    "        'mask': masks\n",
    "    }\n",
    "\n",
    "\n",
    "tokenizer = AutoTokenizer.from_pretrained('sentence-transformers/all-MiniLM-L6-v2')\n",
    "\n",
    "\n",
    "def group_aware_split(dataset, test_size=0.1, random_state=42):\n",
    "    splitter = GroupShuffleSplit(\n",
    "        n_splits=1, \n",
    "        test_size=test_size, \n",
    "        random_state=random_state\n",
    "    )\n",
    "    train_idx, val_idx = next(splitter.split(\n",
    "        range(len(dataset)), \n",
    "        groups=dataset.group_ids  # Critical: Group by anchor IDs\n",
    "    ))\n",
    "    return (\n",
    "        torch.utils.data.Subset(dataset, train_idx),\n",
    "        torch.utils.data.Subset(dataset, val_idx)\n",
    "    )\n",
    "\n",
    "# Load datasets\n",
    "full_train_dataset = TwitterURLDataset(f'{base_path}paraphrase_dataset_emnlp2017/Twitter_URL_Corpus_train.txt', tokenizer)\n",
    "test_dataset = TwitterURLDataset(f'{base_path}paraphrase_dataset_emnlp2017/Twitter_URL_Corpus_test.txt', tokenizer)\n",
    "\n",
    "# Group-aware split (90% train, 10% val)\n",
    "train_dataset, val_dataset = group_aware_split(full_train_dataset, test_size=0.1)\n",
    "\n",
    "# For all splits (train/val/test), use the same collate_fn\n",
    "train_loader = DataLoader(\n",
    "    train_dataset, \n",
    "    batch_size=32, \n",
    "    shuffle=True, \n",
    "    collate_fn=collate_fn  # Same as training\n",
    ")\n",
    "\n",
    "val_loader = DataLoader(\n",
    "    val_dataset, \n",
    "    batch_size=32, \n",
    "    shuffle=False,  # No shuffling for val/test\n",
    "    collate_fn=collate_fn  # Same collate function!\n",
    ")\n",
    "\n",
    "test_loader = DataLoader(\n",
    "    test_dataset, \n",
    "    batch_size=32, \n",
    "    shuffle=False,\n",
    "    collate_fn=collate_fn  # Consistency is key\n",
    ")\n",
    "\n",
    "print(f\"Train size: {len(train_dataset)}\")\n",
    "print(f\"Val size: {len(val_dataset)}\")\n",
    "print(f\"Test size: {len(test_dataset)}\")\n"
   ]
  },
  {
   "cell_type": "code",
   "execution_count": 2,
   "id": "7ece6d6d-111d-4217-bdb0-aaac2b1edf7b",
   "metadata": {},
   "outputs": [
    {
     "name": "stdout",
     "output_type": "stream",
     "text": [
      "Initiliazing model\n",
      "initialized model\n",
      "Starting training\n",
      "Epoch 1/40\n"
     ]
    },
    {
     "name": "stderr",
     "output_type": "stream",
     "text": [
      "                                                                                                                                     "
     ]
    },
    {
     "name": "stdout",
     "output_type": "stream",
     "text": [
      "Epoch 1/40\n",
      "  Train Loss: 0.1083\n",
      "  Val Spearman (-ve):   0.6095\n",
      "  -> Best model saved (val_loss improved to 0.6095)\n",
      "Epoch 2/40\n"
     ]
    },
    {
     "name": "stderr",
     "output_type": "stream",
     "text": [
      "                                                                                                                                     "
     ]
    },
    {
     "name": "stdout",
     "output_type": "stream",
     "text": [
      "Epoch 2/40\n",
      "  Train Loss: 0.0996\n",
      "  Val Spearman (-ve):   0.6217\n",
      "  -> Best model saved (val_loss improved to 0.6217)\n",
      "Epoch 3/40\n"
     ]
    },
    {
     "name": "stderr",
     "output_type": "stream",
     "text": [
      "                                                                                                                                     "
     ]
    },
    {
     "name": "stdout",
     "output_type": "stream",
     "text": [
      "Epoch 3/40\n",
      "  Train Loss: 0.0935\n",
      "  Val Spearman (-ve):   0.6258\n",
      "  -> Best model saved (val_loss improved to 0.6258)\n",
      "Epoch 4/40\n"
     ]
    },
    {
     "name": "stderr",
     "output_type": "stream",
     "text": [
      "                                                                                                                                     "
     ]
    },
    {
     "name": "stdout",
     "output_type": "stream",
     "text": [
      "Epoch 4/40\n",
      "  Train Loss: 0.0897\n",
      "  Val Spearman (-ve):   0.6287\n",
      "  -> Best model saved (val_loss improved to 0.6287)\n",
      "Epoch 5/40\n"
     ]
    },
    {
     "name": "stderr",
     "output_type": "stream",
     "text": [
      "                                                                                                                                     "
     ]
    },
    {
     "name": "stdout",
     "output_type": "stream",
     "text": [
      "Epoch 5/40\n",
      "  Train Loss: 0.0875\n",
      "  Val Spearman (-ve):   0.6324\n",
      "  -> Best model saved (val_loss improved to 0.6324)\n",
      "Epoch 6/40\n"
     ]
    },
    {
     "name": "stderr",
     "output_type": "stream",
     "text": [
      "                                                                                                                                     "
     ]
    },
    {
     "name": "stdout",
     "output_type": "stream",
     "text": [
      "Epoch 6/40\n",
      "  Train Loss: 0.0843\n",
      "  Val Spearman (-ve):   0.6354\n",
      "  -> Best model saved (val_loss improved to 0.6354)\n",
      "Epoch 7/40\n"
     ]
    },
    {
     "name": "stderr",
     "output_type": "stream",
     "text": [
      "                                                                                                                                     "
     ]
    },
    {
     "name": "stdout",
     "output_type": "stream",
     "text": [
      "Epoch 7/40\n",
      "  Train Loss: 0.0817\n",
      "  Val Spearman (-ve):   0.6391\n",
      "  -> Best model saved (val_loss improved to 0.6391)\n",
      "Epoch 8/40\n"
     ]
    },
    {
     "name": "stderr",
     "output_type": "stream",
     "text": [
      "                                                                                                                                     "
     ]
    },
    {
     "name": "stdout",
     "output_type": "stream",
     "text": [
      "Epoch 8/40\n",
      "  Train Loss: 0.0795\n",
      "  Val Spearman (-ve):   0.6414\n",
      "  -> Best model saved (val_loss improved to 0.6414)\n",
      "Epoch 9/40\n"
     ]
    },
    {
     "name": "stderr",
     "output_type": "stream",
     "text": [
      "                                                                                                                                     "
     ]
    },
    {
     "name": "stdout",
     "output_type": "stream",
     "text": [
      "Epoch 9/40\n",
      "  Train Loss: 0.0763\n",
      "  Val Spearman (-ve):   0.6426\n",
      "  -> Best model saved (val_loss improved to 0.6426)\n",
      "Epoch 10/40\n"
     ]
    },
    {
     "name": "stderr",
     "output_type": "stream",
     "text": [
      "                                                                                                                                     "
     ]
    },
    {
     "name": "stdout",
     "output_type": "stream",
     "text": [
      "Epoch 10/40\n",
      "  Train Loss: 0.0750\n",
      "  Val Spearman (-ve):   0.6444\n",
      "  -> Best model saved (val_loss improved to 0.6444)\n",
      "Epoch 11/40\n"
     ]
    },
    {
     "name": "stderr",
     "output_type": "stream",
     "text": [
      "                                                                                                                                     "
     ]
    },
    {
     "name": "stdout",
     "output_type": "stream",
     "text": [
      "Epoch 11/40\n",
      "  Train Loss: 0.0740\n",
      "  Val Spearman (-ve):   0.6432\n",
      "Epoch 12/40\n"
     ]
    },
    {
     "name": "stderr",
     "output_type": "stream",
     "text": [
      "                                                                                                                                     "
     ]
    },
    {
     "name": "stdout",
     "output_type": "stream",
     "text": [
      "Epoch 12/40\n",
      "  Train Loss: 0.0716\n",
      "  Val Spearman (-ve):   0.6445\n",
      "  -> Best model saved (val_loss improved to 0.6445)\n",
      "Epoch 13/40\n"
     ]
    },
    {
     "name": "stderr",
     "output_type": "stream",
     "text": [
      "                                                                                                                                     "
     ]
    },
    {
     "name": "stdout",
     "output_type": "stream",
     "text": [
      "Epoch 13/40\n",
      "  Train Loss: 0.0685\n",
      "  Val Spearman (-ve):   0.6450\n",
      "  -> Best model saved (val_loss improved to 0.6450)\n",
      "Epoch 14/40\n"
     ]
    },
    {
     "name": "stderr",
     "output_type": "stream",
     "text": [
      "                                                                                                                                     "
     ]
    },
    {
     "name": "stdout",
     "output_type": "stream",
     "text": [
      "Epoch 14/40\n",
      "  Train Loss: 0.0673\n",
      "  Val Spearman (-ve):   0.6442\n",
      "Epoch 15/40\n"
     ]
    },
    {
     "name": "stderr",
     "output_type": "stream",
     "text": [
      "                                                                                                                                     "
     ]
    },
    {
     "name": "stdout",
     "output_type": "stream",
     "text": [
      "Epoch 15/40\n",
      "  Train Loss: 0.0659\n",
      "  Val Spearman (-ve):   0.6456\n",
      "  -> Best model saved (val_loss improved to 0.6456)\n",
      "Epoch 16/40\n"
     ]
    },
    {
     "name": "stderr",
     "output_type": "stream",
     "text": [
      "                                                                                                                                     "
     ]
    },
    {
     "name": "stdout",
     "output_type": "stream",
     "text": [
      "Epoch 16/40\n",
      "  Train Loss: 0.0646\n",
      "  Val Spearman (-ve):   0.6435\n",
      "Epoch 17/40\n"
     ]
    },
    {
     "name": "stderr",
     "output_type": "stream",
     "text": [
      "                                                                                                                                     "
     ]
    },
    {
     "name": "stdout",
     "output_type": "stream",
     "text": [
      "Epoch 17/40\n",
      "  Train Loss: 0.0626\n",
      "  Val Spearman (-ve):   0.6449\n",
      "Epoch 18/40\n"
     ]
    },
    {
     "name": "stderr",
     "output_type": "stream",
     "text": [
      "                                                                                                                                     "
     ]
    },
    {
     "name": "stdout",
     "output_type": "stream",
     "text": [
      "Epoch 18/40\n",
      "  Train Loss: 0.0610\n",
      "  Val Spearman (-ve):   0.6468\n",
      "  -> Best model saved (val_loss improved to 0.6468)\n",
      "Epoch 19/40\n"
     ]
    },
    {
     "name": "stderr",
     "output_type": "stream",
     "text": [
      "                                                                                                                                     "
     ]
    },
    {
     "name": "stdout",
     "output_type": "stream",
     "text": [
      "Epoch 19/40\n",
      "  Train Loss: 0.0595\n",
      "  Val Spearman (-ve):   0.6441\n",
      "Epoch 20/40\n"
     ]
    },
    {
     "name": "stderr",
     "output_type": "stream",
     "text": [
      "                                                                                                                                     "
     ]
    },
    {
     "name": "stdout",
     "output_type": "stream",
     "text": [
      "Epoch 20/40\n",
      "  Train Loss: 0.0586\n",
      "  Val Spearman (-ve):   0.6474\n",
      "  -> Best model saved (val_loss improved to 0.6474)\n",
      "Epoch 21/40\n"
     ]
    },
    {
     "name": "stderr",
     "output_type": "stream",
     "text": [
      "                                                                                                                                     "
     ]
    },
    {
     "name": "stdout",
     "output_type": "stream",
     "text": [
      "Epoch 21/40\n",
      "  Train Loss: 0.0570\n",
      "  Val Spearman (-ve):   0.6475\n",
      "  -> Best model saved (val_loss improved to 0.6475)\n",
      "Epoch 22/40\n"
     ]
    },
    {
     "name": "stderr",
     "output_type": "stream",
     "text": [
      "                                                                                                                                     "
     ]
    },
    {
     "name": "stdout",
     "output_type": "stream",
     "text": [
      "Epoch 22/40\n",
      "  Train Loss: 0.0553\n",
      "  Val Spearman (-ve):   0.6485\n",
      "  -> Best model saved (val_loss improved to 0.6485)\n",
      "Epoch 23/40\n"
     ]
    },
    {
     "name": "stderr",
     "output_type": "stream",
     "text": [
      "                                                                                                                                     "
     ]
    },
    {
     "name": "stdout",
     "output_type": "stream",
     "text": [
      "Epoch 23/40\n",
      "  Train Loss: 0.0541\n",
      "  Val Spearman (-ve):   0.6490\n",
      "  -> Best model saved (val_loss improved to 0.6490)\n",
      "Epoch 24/40\n"
     ]
    },
    {
     "name": "stderr",
     "output_type": "stream",
     "text": [
      "                                                                                                                                     "
     ]
    },
    {
     "name": "stdout",
     "output_type": "stream",
     "text": [
      "Epoch 24/40\n",
      "  Train Loss: 0.0530\n",
      "  Val Spearman (-ve):   0.6491\n",
      "  -> Best model saved (val_loss improved to 0.6491)\n",
      "Epoch 25/40\n"
     ]
    },
    {
     "name": "stderr",
     "output_type": "stream",
     "text": [
      "                                                                                                                                     "
     ]
    },
    {
     "name": "stdout",
     "output_type": "stream",
     "text": [
      "Epoch 25/40\n",
      "  Train Loss: 0.0518\n",
      "  Val Spearman (-ve):   0.6488\n",
      "Epoch 26/40\n"
     ]
    },
    {
     "name": "stderr",
     "output_type": "stream",
     "text": [
      "                                                                                                                                     "
     ]
    },
    {
     "name": "stdout",
     "output_type": "stream",
     "text": [
      "Epoch 26/40\n",
      "  Train Loss: 0.0508\n",
      "  Val Spearman (-ve):   0.6487\n",
      "Epoch 27/40\n"
     ]
    },
    {
     "name": "stderr",
     "output_type": "stream",
     "text": [
      "                                                                                                                                     "
     ]
    },
    {
     "name": "stdout",
     "output_type": "stream",
     "text": [
      "Epoch 27/40\n",
      "  Train Loss: 0.0495\n",
      "  Val Spearman (-ve):   0.6502\n",
      "  -> Best model saved (val_loss improved to 0.6502)\n",
      "Epoch 28/40\n"
     ]
    },
    {
     "name": "stderr",
     "output_type": "stream",
     "text": [
      "                                                                                                                                     "
     ]
    },
    {
     "name": "stdout",
     "output_type": "stream",
     "text": [
      "Epoch 28/40\n",
      "  Train Loss: 0.0486\n",
      "  Val Spearman (-ve):   0.6513\n",
      "  -> Best model saved (val_loss improved to 0.6513)\n",
      "Epoch 29/40\n"
     ]
    },
    {
     "name": "stderr",
     "output_type": "stream",
     "text": [
      "                                                                                                                                     "
     ]
    },
    {
     "name": "stdout",
     "output_type": "stream",
     "text": [
      "Epoch 29/40\n",
      "  Train Loss: 0.0470\n",
      "  Val Spearman (-ve):   0.6508\n",
      "Epoch 30/40\n"
     ]
    },
    {
     "name": "stderr",
     "output_type": "stream",
     "text": [
      "                                                                                                                                     "
     ]
    },
    {
     "name": "stdout",
     "output_type": "stream",
     "text": [
      "Epoch 30/40\n",
      "  Train Loss: 0.0459\n",
      "  Val Spearman (-ve):   0.6508\n",
      "Epoch 31/40\n"
     ]
    },
    {
     "name": "stderr",
     "output_type": "stream",
     "text": [
      "                                                                                                                                     "
     ]
    },
    {
     "name": "stdout",
     "output_type": "stream",
     "text": [
      "Epoch 31/40\n",
      "  Train Loss: 0.0449\n",
      "  Val Spearman (-ve):   0.6521\n",
      "  -> Best model saved (val_loss improved to 0.6521)\n",
      "Epoch 32/40\n"
     ]
    },
    {
     "name": "stderr",
     "output_type": "stream",
     "text": [
      "                                                                                                                                     "
     ]
    },
    {
     "name": "stdout",
     "output_type": "stream",
     "text": [
      "Epoch 32/40\n",
      "  Train Loss: 0.0438\n",
      "  Val Spearman (-ve):   0.6501\n",
      "Epoch 33/40\n"
     ]
    },
    {
     "name": "stderr",
     "output_type": "stream",
     "text": [
      "                                                                                                                                     "
     ]
    },
    {
     "name": "stdout",
     "output_type": "stream",
     "text": [
      "Epoch 33/40\n",
      "  Train Loss: 0.0431\n",
      "  Val Spearman (-ve):   0.6513\n",
      "Epoch 34/40\n"
     ]
    },
    {
     "name": "stderr",
     "output_type": "stream",
     "text": [
      "                                                                                                                                     "
     ]
    },
    {
     "name": "stdout",
     "output_type": "stream",
     "text": [
      "Epoch 34/40\n",
      "  Train Loss: 0.0420\n",
      "  Val Spearman (-ve):   0.6518\n",
      "Epoch 35/40\n"
     ]
    },
    {
     "name": "stderr",
     "output_type": "stream",
     "text": [
      "                                                                                                                                     "
     ]
    },
    {
     "name": "stdout",
     "output_type": "stream",
     "text": [
      "Epoch 35/40\n",
      "  Train Loss: 0.0407\n",
      "  Val Spearman (-ve):   0.6516\n",
      "Epoch 36/40\n"
     ]
    },
    {
     "name": "stderr",
     "output_type": "stream",
     "text": [
      "                                                                                                                                     "
     ]
    },
    {
     "name": "stdout",
     "output_type": "stream",
     "text": [
      "Epoch 36/40\n",
      "  Train Loss: 0.0398\n",
      "  Val Spearman (-ve):   0.6502\n",
      "Epoch 37/40\n"
     ]
    },
    {
     "name": "stderr",
     "output_type": "stream",
     "text": [
      "                                                                                                                                     "
     ]
    },
    {
     "name": "stdout",
     "output_type": "stream",
     "text": [
      "Epoch 37/40\n",
      "  Train Loss: 0.0386\n",
      "  Val Spearman (-ve):   0.6503\n",
      "Epoch 38/40\n"
     ]
    },
    {
     "name": "stderr",
     "output_type": "stream",
     "text": [
      "                                                                                                                                     "
     ]
    },
    {
     "name": "stdout",
     "output_type": "stream",
     "text": [
      "Epoch 38/40\n",
      "  Train Loss: 0.0372\n",
      "  Val Spearman (-ve):   0.6502\n",
      "Epoch 39/40\n"
     ]
    },
    {
     "name": "stderr",
     "output_type": "stream",
     "text": [
      "                                                                                                                                     "
     ]
    },
    {
     "name": "stdout",
     "output_type": "stream",
     "text": [
      "Epoch 39/40\n",
      "  Train Loss: 0.0366\n",
      "  Val Spearman (-ve):   0.6497\n",
      "Epoch 40/40\n"
     ]
    },
    {
     "name": "stderr",
     "output_type": "stream",
     "text": [
      "                                                                                                                                     "
     ]
    },
    {
     "name": "stdout",
     "output_type": "stream",
     "text": [
      "Epoch 40/40\n",
      "  Train Loss: 0.0356\n",
      "  Val Spearman (-ve):   0.6503\n",
      "Test Spearman with 384 dimensions: 0.6252\n",
      "Initiliazing model\n",
      "initialized model\n",
      "Starting training\n",
      "Epoch 1/40\n"
     ]
    },
    {
     "name": "stderr",
     "output_type": "stream",
     "text": [
      "                                                                                                                                     "
     ]
    },
    {
     "name": "stdout",
     "output_type": "stream",
     "text": [
      "Epoch 1/40\n",
      "  Train Loss: 0.1114\n",
      "  Val Spearman (-ve):   0.5902\n",
      "  -> Best model saved (val_loss improved to 0.5902)\n",
      "Epoch 2/40\n"
     ]
    },
    {
     "name": "stderr",
     "output_type": "stream",
     "text": [
      "                                                                                                                                     "
     ]
    },
    {
     "name": "stdout",
     "output_type": "stream",
     "text": [
      "Epoch 2/40\n",
      "  Train Loss: 0.1032\n",
      "  Val Spearman (-ve):   0.6039\n",
      "  -> Best model saved (val_loss improved to 0.6039)\n",
      "Epoch 3/40\n"
     ]
    },
    {
     "name": "stderr",
     "output_type": "stream",
     "text": [
      "                                                                                                                                     "
     ]
    },
    {
     "name": "stdout",
     "output_type": "stream",
     "text": [
      "Epoch 3/40\n",
      "  Train Loss: 0.0972\n",
      "  Val Spearman (-ve):   0.6115\n",
      "  -> Best model saved (val_loss improved to 0.6115)\n",
      "Epoch 4/40\n"
     ]
    },
    {
     "name": "stderr",
     "output_type": "stream",
     "text": [
      "                                                                                                                                     "
     ]
    },
    {
     "name": "stdout",
     "output_type": "stream",
     "text": [
      "Epoch 4/40\n",
      "  Train Loss: 0.0931\n",
      "  Val Spearman (-ve):   0.6168\n",
      "  -> Best model saved (val_loss improved to 0.6168)\n",
      "Epoch 5/40\n"
     ]
    },
    {
     "name": "stderr",
     "output_type": "stream",
     "text": [
      "                                                                                                                                     "
     ]
    },
    {
     "name": "stdout",
     "output_type": "stream",
     "text": [
      "Epoch 5/40\n",
      "  Train Loss: 0.0904\n",
      "  Val Spearman (-ve):   0.6213\n",
      "  -> Best model saved (val_loss improved to 0.6213)\n",
      "Epoch 6/40\n"
     ]
    },
    {
     "name": "stderr",
     "output_type": "stream",
     "text": [
      "                                                                                                                                     "
     ]
    },
    {
     "name": "stdout",
     "output_type": "stream",
     "text": [
      "Epoch 6/40\n",
      "  Train Loss: 0.0869\n",
      "  Val Spearman (-ve):   0.6216\n",
      "  -> Best model saved (val_loss improved to 0.6216)\n",
      "Epoch 7/40\n"
     ]
    },
    {
     "name": "stderr",
     "output_type": "stream",
     "text": [
      "                                                                                                                                     "
     ]
    },
    {
     "name": "stdout",
     "output_type": "stream",
     "text": [
      "Epoch 7/40\n",
      "  Train Loss: 0.0843\n",
      "  Val Spearman (-ve):   0.6231\n",
      "  -> Best model saved (val_loss improved to 0.6231)\n",
      "Epoch 8/40\n"
     ]
    },
    {
     "name": "stderr",
     "output_type": "stream",
     "text": [
      "                                                                                                                                     "
     ]
    },
    {
     "name": "stdout",
     "output_type": "stream",
     "text": [
      "Epoch 8/40\n",
      "  Train Loss: 0.0817\n",
      "  Val Spearman (-ve):   0.6223\n",
      "Epoch 9/40\n"
     ]
    },
    {
     "name": "stderr",
     "output_type": "stream",
     "text": [
      "                                                                                                                                     "
     ]
    },
    {
     "name": "stdout",
     "output_type": "stream",
     "text": [
      "Epoch 9/40\n",
      "  Train Loss: 0.0808\n",
      "  Val Spearman (-ve):   0.6221\n",
      "Epoch 10/40\n"
     ]
    },
    {
     "name": "stderr",
     "output_type": "stream",
     "text": [
      "                                                                                                                                     "
     ]
    },
    {
     "name": "stdout",
     "output_type": "stream",
     "text": [
      "Epoch 10/40\n",
      "  Train Loss: 0.0771\n",
      "  Val Spearman (-ve):   0.6266\n",
      "  -> Best model saved (val_loss improved to 0.6266)\n",
      "Epoch 11/40\n"
     ]
    },
    {
     "name": "stderr",
     "output_type": "stream",
     "text": [
      "                                                                                                                                     "
     ]
    },
    {
     "name": "stdout",
     "output_type": "stream",
     "text": [
      "Epoch 11/40\n",
      "  Train Loss: 0.0749\n",
      "  Val Spearman (-ve):   0.6256\n",
      "Epoch 12/40\n"
     ]
    },
    {
     "name": "stderr",
     "output_type": "stream",
     "text": [
      "                                                                                                                                     "
     ]
    },
    {
     "name": "stdout",
     "output_type": "stream",
     "text": [
      "Epoch 12/40\n",
      "  Train Loss: 0.0735\n",
      "  Val Spearman (-ve):   0.6265\n",
      "Epoch 13/40\n"
     ]
    },
    {
     "name": "stderr",
     "output_type": "stream",
     "text": [
      "                                                                                                                                     "
     ]
    },
    {
     "name": "stdout",
     "output_type": "stream",
     "text": [
      "Epoch 13/40\n",
      "  Train Loss: 0.0712\n",
      "  Val Spearman (-ve):   0.6302\n",
      "  -> Best model saved (val_loss improved to 0.6302)\n",
      "Epoch 14/40\n"
     ]
    },
    {
     "name": "stderr",
     "output_type": "stream",
     "text": [
      "                                                                                                                                     "
     ]
    },
    {
     "name": "stdout",
     "output_type": "stream",
     "text": [
      "Epoch 14/40\n",
      "  Train Loss: 0.0701\n",
      "  Val Spearman (-ve):   0.6302\n",
      "Epoch 15/40\n"
     ]
    },
    {
     "name": "stderr",
     "output_type": "stream",
     "text": [
      "                                                                                                                                     "
     ]
    },
    {
     "name": "stdout",
     "output_type": "stream",
     "text": [
      "Epoch 15/40\n",
      "  Train Loss: 0.0674\n",
      "  Val Spearman (-ve):   0.6297\n",
      "Epoch 16/40\n"
     ]
    },
    {
     "name": "stderr",
     "output_type": "stream",
     "text": [
      "                                                                                                                                     "
     ]
    },
    {
     "name": "stdout",
     "output_type": "stream",
     "text": [
      "Epoch 16/40\n",
      "  Train Loss: 0.0667\n",
      "  Val Spearman (-ve):   0.6319\n",
      "  -> Best model saved (val_loss improved to 0.6319)\n",
      "Epoch 17/40\n"
     ]
    },
    {
     "name": "stderr",
     "output_type": "stream",
     "text": [
      "                                                                                                                                     "
     ]
    },
    {
     "name": "stdout",
     "output_type": "stream",
     "text": [
      "Epoch 17/40\n",
      "  Train Loss: 0.0644\n",
      "  Val Spearman (-ve):   0.6331\n",
      "  -> Best model saved (val_loss improved to 0.6331)\n",
      "Epoch 18/40\n"
     ]
    },
    {
     "name": "stderr",
     "output_type": "stream",
     "text": [
      "                                                                                                                                     "
     ]
    },
    {
     "name": "stdout",
     "output_type": "stream",
     "text": [
      "Epoch 18/40\n",
      "  Train Loss: 0.0623\n",
      "  Val Spearman (-ve):   0.6323\n",
      "Epoch 19/40\n"
     ]
    },
    {
     "name": "stderr",
     "output_type": "stream",
     "text": [
      "                                                                                                                                     "
     ]
    },
    {
     "name": "stdout",
     "output_type": "stream",
     "text": [
      "Epoch 19/40\n",
      "  Train Loss: 0.0610\n",
      "  Val Spearman (-ve):   0.6354\n",
      "  -> Best model saved (val_loss improved to 0.6354)\n",
      "Epoch 20/40\n"
     ]
    },
    {
     "name": "stderr",
     "output_type": "stream",
     "text": [
      "                                                                                                                                     "
     ]
    },
    {
     "name": "stdout",
     "output_type": "stream",
     "text": [
      "Epoch 20/40\n",
      "  Train Loss: 0.0595\n",
      "  Val Spearman (-ve):   0.6345\n",
      "Epoch 21/40\n"
     ]
    },
    {
     "name": "stderr",
     "output_type": "stream",
     "text": [
      "                                                                                                                                     "
     ]
    },
    {
     "name": "stdout",
     "output_type": "stream",
     "text": [
      "Epoch 21/40\n",
      "  Train Loss: 0.0586\n",
      "  Val Spearman (-ve):   0.6343\n",
      "Epoch 22/40\n"
     ]
    },
    {
     "name": "stderr",
     "output_type": "stream",
     "text": [
      "                                                                                                                                     "
     ]
    },
    {
     "name": "stdout",
     "output_type": "stream",
     "text": [
      "Epoch 22/40\n",
      "  Train Loss: 0.0568\n",
      "  Val Spearman (-ve):   0.6353\n",
      "Epoch 23/40\n"
     ]
    },
    {
     "name": "stderr",
     "output_type": "stream",
     "text": [
      "                                                                                                                                     "
     ]
    },
    {
     "name": "stdout",
     "output_type": "stream",
     "text": [
      "Epoch 23/40\n",
      "  Train Loss: 0.0557\n",
      "  Val Spearman (-ve):   0.6354\n",
      "Epoch 24/40\n"
     ]
    },
    {
     "name": "stderr",
     "output_type": "stream",
     "text": [
      "                                                                                                                                     "
     ]
    },
    {
     "name": "stdout",
     "output_type": "stream",
     "text": [
      "Epoch 24/40\n",
      "  Train Loss: 0.0547\n",
      "  Val Spearman (-ve):   0.6363\n",
      "  -> Best model saved (val_loss improved to 0.6363)\n",
      "Epoch 25/40\n"
     ]
    },
    {
     "name": "stderr",
     "output_type": "stream",
     "text": [
      "                                                                                                                                     "
     ]
    },
    {
     "name": "stdout",
     "output_type": "stream",
     "text": [
      "Epoch 25/40\n",
      "  Train Loss: 0.0528\n",
      "  Val Spearman (-ve):   0.6364\n",
      "  -> Best model saved (val_loss improved to 0.6364)\n",
      "Epoch 26/40\n"
     ]
    },
    {
     "name": "stderr",
     "output_type": "stream",
     "text": [
      "                                                                                                                                     "
     ]
    },
    {
     "name": "stdout",
     "output_type": "stream",
     "text": [
      "Epoch 26/40\n",
      "  Train Loss: 0.0514\n",
      "  Val Spearman (-ve):   0.6359\n",
      "Epoch 27/40\n"
     ]
    },
    {
     "name": "stderr",
     "output_type": "stream",
     "text": [
      "                                                                                                                                     "
     ]
    },
    {
     "name": "stdout",
     "output_type": "stream",
     "text": [
      "Epoch 27/40\n",
      "  Train Loss: 0.0506\n",
      "  Val Spearman (-ve):   0.6358\n",
      "Epoch 28/40\n"
     ]
    },
    {
     "name": "stderr",
     "output_type": "stream",
     "text": [
      "                                                                                                                                     "
     ]
    },
    {
     "name": "stdout",
     "output_type": "stream",
     "text": [
      "Epoch 28/40\n",
      "  Train Loss: 0.0495\n",
      "  Val Spearman (-ve):   0.6380\n",
      "  -> Best model saved (val_loss improved to 0.6380)\n",
      "Epoch 29/40\n"
     ]
    },
    {
     "name": "stderr",
     "output_type": "stream",
     "text": [
      "                                                                                                                                     "
     ]
    },
    {
     "name": "stdout",
     "output_type": "stream",
     "text": [
      "Epoch 29/40\n",
      "  Train Loss: 0.0484\n",
      "  Val Spearman (-ve):   0.6357\n",
      "Epoch 30/40\n"
     ]
    },
    {
     "name": "stderr",
     "output_type": "stream",
     "text": [
      "                                                                                                                                     "
     ]
    },
    {
     "name": "stdout",
     "output_type": "stream",
     "text": [
      "Epoch 30/40\n",
      "  Train Loss: 0.0469\n",
      "  Val Spearman (-ve):   0.6374\n",
      "Epoch 31/40\n"
     ]
    },
    {
     "name": "stderr",
     "output_type": "stream",
     "text": [
      "                                                                                                                                     "
     ]
    },
    {
     "name": "stdout",
     "output_type": "stream",
     "text": [
      "Epoch 31/40\n",
      "  Train Loss: 0.0457\n",
      "  Val Spearman (-ve):   0.6391\n",
      "  -> Best model saved (val_loss improved to 0.6391)\n",
      "Epoch 32/40\n"
     ]
    },
    {
     "name": "stderr",
     "output_type": "stream",
     "text": [
      "                                                                                                                                     "
     ]
    },
    {
     "name": "stdout",
     "output_type": "stream",
     "text": [
      "Epoch 32/40\n",
      "  Train Loss: 0.0446\n",
      "  Val Spearman (-ve):   0.6386\n",
      "Epoch 33/40\n"
     ]
    },
    {
     "name": "stderr",
     "output_type": "stream",
     "text": [
      "                                                                                                                                     "
     ]
    },
    {
     "name": "stdout",
     "output_type": "stream",
     "text": [
      "Epoch 33/40\n",
      "  Train Loss: 0.0440\n",
      "  Val Spearman (-ve):   0.6397\n",
      "  -> Best model saved (val_loss improved to 0.6397)\n",
      "Epoch 34/40\n"
     ]
    },
    {
     "name": "stderr",
     "output_type": "stream",
     "text": [
      "                                                                                                                                     "
     ]
    },
    {
     "name": "stdout",
     "output_type": "stream",
     "text": [
      "Epoch 34/40\n",
      "  Train Loss: 0.0421\n",
      "  Val Spearman (-ve):   0.6392\n",
      "Epoch 35/40\n"
     ]
    },
    {
     "name": "stderr",
     "output_type": "stream",
     "text": [
      "                                                                                                                                     "
     ]
    },
    {
     "name": "stdout",
     "output_type": "stream",
     "text": [
      "Epoch 35/40\n",
      "  Train Loss: 0.0417\n",
      "  Val Spearman (-ve):   0.6403\n",
      "  -> Best model saved (val_loss improved to 0.6403)\n",
      "Epoch 36/40\n"
     ]
    },
    {
     "name": "stderr",
     "output_type": "stream",
     "text": [
      "                                                                                                                                     "
     ]
    },
    {
     "name": "stdout",
     "output_type": "stream",
     "text": [
      "Epoch 36/40\n",
      "  Train Loss: 0.0405\n",
      "  Val Spearman (-ve):   0.6417\n",
      "  -> Best model saved (val_loss improved to 0.6417)\n",
      "Epoch 37/40\n"
     ]
    },
    {
     "name": "stderr",
     "output_type": "stream",
     "text": [
      "                                                                                                                                     "
     ]
    },
    {
     "name": "stdout",
     "output_type": "stream",
     "text": [
      "Epoch 37/40\n",
      "  Train Loss: 0.0395\n",
      "  Val Spearman (-ve):   0.6418\n",
      "  -> Best model saved (val_loss improved to 0.6418)\n",
      "Epoch 38/40\n"
     ]
    },
    {
     "name": "stderr",
     "output_type": "stream",
     "text": [
      "                                                                                                                                     "
     ]
    },
    {
     "name": "stdout",
     "output_type": "stream",
     "text": [
      "Epoch 38/40\n",
      "  Train Loss: 0.0386\n",
      "  Val Spearman (-ve):   0.6401\n",
      "Epoch 39/40\n"
     ]
    },
    {
     "name": "stderr",
     "output_type": "stream",
     "text": [
      "                                                                                                                                     "
     ]
    },
    {
     "name": "stdout",
     "output_type": "stream",
     "text": [
      "Epoch 39/40\n",
      "  Train Loss: 0.0370\n",
      "  Val Spearman (-ve):   0.6407\n",
      "Epoch 40/40\n"
     ]
    },
    {
     "name": "stderr",
     "output_type": "stream",
     "text": [
      "                                                                                                                                     "
     ]
    },
    {
     "name": "stdout",
     "output_type": "stream",
     "text": [
      "Epoch 40/40\n",
      "  Train Loss: 0.0361\n",
      "  Val Spearman (-ve):   0.6415\n",
      "Test Spearman with 192 dimensions: 0.6217\n"
     ]
    }
   ],
   "source": [
    "num_epochs = 40\n",
    "def train_model(model, label, optimizer):\n",
    "    best_val_spearman = float('-inf')\n",
    "    log_data = {\n",
    "        'training_start': datetime.now().strftime(\"%Y-%m-%d %H:%M:%S\"),\n",
    "        'config': {\n",
    "            'model': label,\n",
    "            'num_epochs': num_epochs,\n",
    "            'optimizer': str(optimizer.__class__.__name__),\n",
    "            'device': str(device)\n",
    "        },\n",
    "        'epochs': []\n",
    "    }\n",
    "    for epoch in range(num_epochs):\n",
    "        # Initialize logging\n",
    "        epoch_start = datetime.now()\n",
    "        \n",
    "        print(f\"Epoch {epoch+1}/{num_epochs}\")\n",
    "    \n",
    "        train_loss = train_one_epoch(train_loader, model, optimizer, device)\n",
    "        val_spearman = validate(val_loader, model, device)\n",
    "\n",
    "        # Track epoch data\n",
    "        epoch_log = {\n",
    "            'epoch': epoch + 1,\n",
    "            'train_loss': float(train_loss),\n",
    "            'val_spearman': float(val_spearman),\n",
    "            'duration_seconds': (datetime.now() - epoch_start).total_seconds(),\n",
    "            'is_best': False\n",
    "        }\n",
    "        \n",
    "        print(f\"Epoch {epoch+1}/{num_epochs}\")\n",
    "        print(f\"  Train Loss: {train_loss:.4f}\")\n",
    "        print(f\"  Val Spearman (-ve):   {val_spearman:.4f}\")\n",
    "    \n",
    "        if val_spearman > best_val_spearman:\n",
    "            best_val_spearman = val_spearman\n",
    "            torch.save(model.state_dict(), f'saved_models3/{label}.pt')\n",
    "            epoch_log['is_best'] = True\n",
    "            print(f\"  -> Best model saved (val_loss improved to {best_val_spearman:.4f})\")\n",
    "\n",
    "        log_data['epochs'].append(epoch_log)\n",
    "        \n",
    "        # Save logs after each epoch (in case of crash)\n",
    "        with open(f'model_logs3/{label}_logs.json', 'w') as f:\n",
    "            json.dump(log_data, f, indent=2)\n",
    "    # Add final metadata\n",
    "    log_data['training_end'] = datetime.now().strftime(\"%Y-%m-%d %H:%M:%S\")\n",
    "    log_data['best_val_spearman'] = float(best_val_spearman)\n",
    "    \n",
    "    # Final save\n",
    "    with open(f'model_logs3/{label}_logs.json', 'w') as f:\n",
    "        json.dump(log_data, f, indent=2)\n",
    "\n",
    "hyp_dims = [384,192]\n",
    "for dim in hyp_dims:\n",
    "    print(\"Initiliazing model\")\n",
    "    model = HyperbolicMapper(output_dim = dim).to(device)\n",
    "    # RiemannianAdam optimizer:\n",
    "    optimizer = geoopt.optim.RiemannianAdam(\n",
    "        model.parameters(), \n",
    "        lr=1e-4,\n",
    "        stabilize=1000  # Helps with numerical stability\n",
    "    )\n",
    "    print(\"Starting training\")\n",
    "    train_model(model, f\"hyp_{dim}\", optimizer)\n",
    "    test_spearman = validate(test_loader, model, device)\n",
    "    print(f\"Test Spearman with {dim} dimensions: {test_spearman:.4f}\")\n",
    "    del model\n"
   ]
  },
  {
   "cell_type": "code",
   "execution_count": 4,
   "id": "f50c8a73-6d80-419a-b395-7d82b0c433fb",
   "metadata": {},
   "outputs": [
    {
     "name": "stderr",
     "output_type": "stream",
     "text": [
      "/tmp/ipykernel_659430/3641810150.py:6: FutureWarning: You are using `torch.load` with `weights_only=False` (the current default value), which uses the default pickle module implicitly. It is possible to construct malicious pickle data which will execute arbitrary code during unpickling (See https://github.com/pytorch/pytorch/blob/main/SECURITY.md#untrusted-models for more details). In a future release, the default value for `weights_only` will be flipped to `True`. This limits the functions that could be executed during unpickling. Arbitrary objects will no longer be allowed to be loaded via this mode unless they are explicitly allowlisted by the user via `torch.serialization.add_safe_globals`. We recommend you start setting `weights_only=True` for any use case where you don't have full control of the loaded file. Please open an issue on GitHub for any issues related to this experimental feature.\n",
      "  model.load_state_dict(torch.load(f'saved_models/hyp_{dim}.pt'))\n"
     ]
    },
    {
     "name": "stdout",
     "output_type": "stream",
     "text": [
      "Test Spearman for 384: 0.7059\n",
      "Test Spearman for 192: 0.7067\n",
      "Test Spearman for 96: 0.7023\n",
      "Test Spearman for 64: 0.6971\n",
      "Test Spearman for 48: 0.6910\n",
      "Test Spearman for 32: 0.6853\n",
      "Test Spearman for 24: 0.6734\n",
      "Test Spearman for 16: 0.6487\n",
      "Test Spearman for 12: 0.6423\n",
      "Test Spearman for 8: 0.5944\n"
     ]
    }
   ],
   "source": [
    "# Final tests\n",
    "\n",
    "hyp_dims = [384,192,96,64,48,32,24,16,12,8]\n",
    "for dim in hyp_dims:\n",
    "    model = HyperbolicMapper(output_dim = dim).to(device)\n",
    "    model.load_state_dict(torch.load(f'saved_models3/hyp_{dim}.pt'))\n",
    "    test_spearman = validate(test_loader, model, device)  # Flip sign back\n",
    "    print(f\"Test Spearman for {dim}: {test_spearman:.4f}\")\n",
    "    del model\n",
    "\n"
   ]
  },
  {
   "cell_type": "code",
   "execution_count": 8,
   "id": "9c3f3d20-67cf-4c05-a60b-4ab91dc3542a",
   "metadata": {},
   "outputs": [
    {
     "name": "stderr",
     "output_type": "stream",
     "text": [
      "/tmp/ipykernel_465649/3579734556.py:1: FutureWarning: You are using `torch.load` with `weights_only=False` (the current default value), which uses the default pickle module implicitly. It is possible to construct malicious pickle data which will execute arbitrary code during unpickling (See https://github.com/pytorch/pytorch/blob/main/SECURITY.md#untrusted-models for more details). In a future release, the default value for `weights_only` will be flipped to `True`. This limits the functions that could be executed during unpickling. Arbitrary objects will no longer be allowed to be loaded via this mode unless they are explicitly allowlisted by the user via `torch.serialization.add_safe_globals`. We recommend you start setting `weights_only=True` for any use case where you don't have full control of the loaded file. Please open an issue on GitHub for any issues related to this experimental feature.\n",
      "  model.load_state_dict(torch.load('best_model.pt'))\n"
     ]
    },
    {
     "name": "stdout",
     "output_type": "stream",
     "text": [
      "Test Spearman: 0.6818\n"
     ]
    }
   ],
   "source": []
  },
  {
   "cell_type": "code",
   "execution_count": null,
   "id": "d5de0025-50cc-4742-a1df-409aff80747b",
   "metadata": {},
   "outputs": [],
   "source": []
  }
 ],
 "metadata": {
  "kernelspec": {
   "display_name": "Python 3 (ipykernel)",
   "language": "python",
   "name": "python3"
  },
  "language_info": {
   "codemirror_mode": {
    "name": "ipython",
    "version": 3
   },
   "file_extension": ".py",
   "mimetype": "text/x-python",
   "name": "python",
   "nbconvert_exporter": "python",
   "pygments_lexer": "ipython3",
   "version": "3.11.11"
  }
 },
 "nbformat": 4,
 "nbformat_minor": 5
}
