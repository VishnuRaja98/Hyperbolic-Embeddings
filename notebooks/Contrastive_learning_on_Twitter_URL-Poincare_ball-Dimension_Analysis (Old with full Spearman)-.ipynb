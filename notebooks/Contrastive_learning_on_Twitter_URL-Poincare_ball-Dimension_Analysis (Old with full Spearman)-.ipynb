{
 "cells": [
  {
   "cell_type": "code",
   "execution_count": 2,
   "id": "b9191228-a8b4-4150-afa8-118762902356",
   "metadata": {},
   "outputs": [
    {
     "name": "stderr",
     "output_type": "stream",
     "text": [
      "/cronus_data/vraja/dysarthria/lib/python3.11/site-packages/transformers/utils/hub.py:105: FutureWarning: Using `TRANSFORMERS_CACHE` is deprecated and will be removed in v5 of Transformers. Use `HF_HOME` instead.\n",
      "  warnings.warn(\n"
     ]
    },
    {
     "name": "stdout",
     "output_type": "stream",
     "text": [
      "Max group size: 20\n",
      "unique group sizes = {8, 9, 10, 20}\n",
      "Max group size: 20\n",
      "unique group sizes = {10, 20}\n",
      "Train size: 4197\n",
      "Val size: 467\n",
      "Test size: 1010\n"
     ]
    }
   ],
   "source": [
    "import torch\n",
    "from torch.utils.data import Dataset, DataLoader\n",
    "import torch.nn as nn\n",
    "import torch.nn.functional as F\n",
    "import csv\n",
    "import os\n",
    "from transformers import AutoTokenizer, AutoModel\n",
    "from torch.utils.data import random_split\n",
    "from sklearn.model_selection import GroupShuffleSplit\n",
    "from scipy.stats import spearmanr\n",
    "from tqdm import tqdm  # make sure you have tqdm installed\n",
    "import geoopt\n",
    "from datetime import datetime\n",
    "import json\n",
    "# there was an error with geoopt scipy version compatibility, it was fixed by-\n",
    "# nano /cronus_data/vraja/dysarthria/lib/python3.11/site-packages/geoopt/optim/rlinesearch.py\n",
    "# added this to the import -\n",
    "# try:\n",
    "#     from scipy.optimize.linesearch import scalar_search_wolfe2, scalar_search_armijo\n",
    "# except ImportError:\n",
    "#     from scipy.optimize._linesearch import scalar_search_wolfe2, scalar_search_armijo\n",
    "torch.manual_seed(42)  # Before random_split\n",
    "base_path = \"\"\n",
    "\n",
    "os.environ[\"CUDA_VISIBLE_DEVICES\"] = \"2\"\n",
    "device = torch.device('cuda:0' if torch.cuda.is_available() else 'cpu')\n",
    "# -----------------------------\n",
    "# 1. Dataset Class\n",
    "# -----------------------------\n",
    "\n",
    "class TwitterURLDataset(Dataset):\n",
    "    def __init__(self, file_path, tokenizer, max_length=128):\n",
    "        self.data = self.read_file(file_path)\n",
    "        self.tokenizer = tokenizer\n",
    "        self.max_length = max_length\n",
    "        self.groups = self.group_data()\n",
    "        self.group_ids = [i for i, _ in enumerate(self.groups)]\n",
    "        \n",
    "        # Pre-compute maximum group size\n",
    "        self.max_group_size = max(len(group) for group in self.groups)  # Cap at 10\n",
    "        print(f\"Max group size: {self.max_group_size}\")\n",
    "        print(f\"unique group sizes = {set([len(group) for group in self.groups])}\")\n",
    "\n",
    "\n",
    "\n",
    "    def read_file(self, file_path):\n",
    "        data = []\n",
    "        with open(file_path, 'r', encoding='utf-8') as f:\n",
    "            reader = csv.reader(f, delimiter='\\t')\n",
    "            for row in reader:\n",
    "                if len(row) != 4:\n",
    "                    continue\n",
    "                sentence1, sentence2, score_str, url = row\n",
    "                try:\n",
    "                    score = int(score_str.strip('()').split(',')[0])\n",
    "                except:\n",
    "                    continue\n",
    "                data.append((sentence1.strip(), sentence2.strip(), score))\n",
    "        return data\n",
    "\n",
    "\n",
    "    def group_data(self):\n",
    "        groups = []\n",
    "        current_group = []\n",
    "        last_sentence1 = None\n",
    "        for item in self.data:\n",
    "            sentence1, sentence2, score = item\n",
    "            if sentence1 != last_sentence1 and current_group:\n",
    "                groups.append(current_group)\n",
    "                current_group = []\n",
    "            current_group.append(item)\n",
    "            last_sentence1 = sentence1\n",
    "        if current_group:\n",
    "            groups.append(current_group)\n",
    "        return groups\n",
    "\n",
    "    def __len__(self):\n",
    "        return len(self.groups)\n",
    "\n",
    "    def __getitem__(self, idx):\n",
    "        group = self.groups[idx]\n",
    "        anchor_text = group[0][0]\n",
    "        \n",
    "        # Pad group to max_group_size with dummy entries if needed\n",
    "        padded_group = group + [(\"\", \"\", 0)] * (self.max_group_size - len(group))\n",
    "        \n",
    "        sentences = [item[1] for item in padded_group]\n",
    "        scores = torch.tensor([item[2] for item in padded_group], dtype=torch.float32)\n",
    "        \n",
    "        anchor_input = self.tokenizer(\n",
    "            anchor_text, \n",
    "            padding='max_length', \n",
    "            truncation=True, \n",
    "            max_length=self.max_length, \n",
    "            return_tensors=\"pt\",\n",
    "            return_token_type_ids=False  # Add this line\n",
    "        )\n",
    "        \n",
    "        sentence_inputs = [\n",
    "            self.tokenizer(\n",
    "                s, \n",
    "                padding='max_length', \n",
    "                truncation=True, \n",
    "                max_length=self.max_length, \n",
    "                return_tensors=\"pt\",\n",
    "                return_token_type_ids=False  # Add this line\n",
    "            ) for s in sentences\n",
    "        ]\n",
    "        \n",
    "        return {\n",
    "            'anchor_input': {k: v.squeeze(0) for k, v in anchor_input.items()},\n",
    "            'sentence_inputs': [{k: v.squeeze(0) for k, v in inp.items()} for inp in sentence_inputs],\n",
    "            'scores': scores,\n",
    "            'mask': torch.tensor([1]*len(group) + [0]*(self.max_group_size - len(group)))  # Mask for real vs padded\n",
    "        }\n",
    "\n",
    "\n",
    "# -----------------------------\n",
    "# 2. Model\n",
    "# -----------------------------\n",
    "def poincare_project(x, eps=1e-5):\n",
    "    \"\"\"Projects vectors into Poincaré ball with proper scaling\"\"\"\n",
    "    norm = torch.norm(x, p=2, dim=-1, keepdim=True)\n",
    "    scale = (1 - eps) / torch.clamp(norm, min=eps)\n",
    "    return x * scale\n",
    "    \n",
    "class HyperbolicMapper(nn.Module):\n",
    "    def __init__(self, sbert_model_name='sentence-transformers/all-MiniLM-L6-v2', output_dim=32):\n",
    "        super(HyperbolicMapper, self).__init__()\n",
    "        # Frozen SBERT\n",
    "        self.sbert = AutoModel.from_pretrained(sbert_model_name)\n",
    "        for param in self.sbert.parameters():\n",
    "            param.requires_grad = False\n",
    "        \n",
    "        sbert_hidden_dim = self.sbert.config.hidden_size  # usually 384 for MiniLM\n",
    "        self.fc = nn.Linear(sbert_hidden_dim, output_dim)\n",
    "\n",
    "    def forward(self, input_ids, attention_mask):\n",
    "        with torch.no_grad():\n",
    "            sbert_output = self.sbert(input_ids=input_ids, attention_mask=attention_mask)\n",
    "            cls_embedding = sbert_output.last_hidden_state[:, 0]\n",
    "        \n",
    "        mapped = self.fc(cls_embedding)\n",
    "        return poincare_project(mapped)  # Project after mapping\n",
    "\n",
    "# -----------------------------\n",
    "# 3. Margin Ranking Loss and Poincare distance\n",
    "# -----------------------------\n",
    "\n",
    "# margin_ranking_loss = nn.MarginRankingLoss(margin=0.2)\n",
    "def hyperbolic_margin_loss(anchor, positive, negative, margin=0.2):\n",
    "    pos_dist = poincare_distance(anchor, positive)\n",
    "    neg_dist = poincare_distance(anchor, negative)\n",
    "    return F.relu(pos_dist - neg_dist + margin).mean()\n",
    "\n",
    "def poincare_distance(x, y, eps=1e-5):\n",
    "    # x: [batch_size, dim]\n",
    "    # y: [batch_size, dim]\n",
    "    x2 = torch.sum(x * x, dim=-1, keepdim=True)  # [batch_size, 1]\n",
    "    y2 = torch.sum(y * y, dim=-1, keepdim=True)  # [batch_size, 1]\n",
    "    xy = torch.sum(x * y, dim=-1, keepdim=True)  # [batch_size, 1]\n",
    "\n",
    "    num = torch.norm(x - y, p=2, dim=-1, keepdim=True) ** 2\n",
    "    denom = (1 - x2) * (1 - y2) + eps\n",
    "\n",
    "    inside = 1 + 2 * num / denom\n",
    "    dist = torch.acosh(torch.clamp(inside, min=1 + eps))\n",
    "    return dist.squeeze(-1)  # [batch_size]\n",
    "    \n",
    "# -----------------------------\n",
    "# 5. Training Step\n",
    "# -----------------------------\n",
    "\n",
    "def train_one_epoch(train_loader, model, optimizer, device):\n",
    "    model.train()\n",
    "    total_loss = 0\n",
    "    total_pairs = 0\n",
    "    \n",
    "    # Wrap your loader with tqdm for a progress bar\n",
    "    prog_bar = tqdm(train_loader, desc=\"Training\", leave=False)\n",
    "    \n",
    "    for batch in prog_bar:\n",
    "        optimizer.zero_grad()\n",
    "        \n",
    "        anchor_input = {k: v.to(device) for k, v in batch['anchor_input'].items()}\n",
    "        anchor_embed = model(**anchor_input)\n",
    "        \n",
    "        sentence_inputs = {\n",
    "            k: v.to(device) for k, v in batch['sentence_inputs'].items()\n",
    "        }\n",
    "        sentence_embeds = model(**sentence_inputs)\n",
    "        \n",
    "        batch_size, max_group_size = batch['scores'].shape\n",
    "        sentence_embeds = sentence_embeds.view(batch_size, max_group_size, -1)\n",
    "        \n",
    "        dists = poincare_distance(\n",
    "            anchor_embed.unsqueeze(1).expand_as(sentence_embeds),\n",
    "            sentence_embeds\n",
    "        ) * batch['mask'].to(device)\n",
    "        \n",
    "        # # Flip distance -> similarity\n",
    "        # sims = -dists\n",
    "        \n",
    "        # Vectorized ranking loss calculation\n",
    "        scores = batch['scores'].to(device)\n",
    "        mask = batch['mask'].to(device).bool()\n",
    "        \n",
    "        # Create all valid pairs\n",
    "        pos_mask = (scores.unsqueeze(2) > scores.unsqueeze(1)) & mask.unsqueeze(2) & mask.unsqueeze(1)\n",
    "        \n",
    "        if pos_mask.any():\n",
    "            # pos_sims = sims.unsqueeze(2).expand(-1, -1, max_group_size)[pos_mask]\n",
    "            # neg_sims = sims.unsqueeze(1).expand(-1, max_group_size, -1)[pos_mask]\n",
    "            \n",
    "            # loss = F.margin_ranking_loss(\n",
    "            #     pos_sims,\n",
    "            #     neg_sims,\n",
    "            #     torch.ones_like(pos_sims),\n",
    "            #     margin=0.2,\n",
    "            #     reduction='mean'\n",
    "            # )\n",
    "            \n",
    "            # loss.backward()\n",
    "            # optimizer.step()\n",
    "            # total_loss += loss.item() * pos_mask.sum().item()  # Weight by batch size\n",
    "            # Get indices of all valid pairs\n",
    "            anchor_idx, pos_idx, neg_idx = torch.where(pos_mask)\n",
    "            \n",
    "            # Compute hyperbolic margin loss directly\n",
    "            loss = hyperbolic_margin_loss(\n",
    "                anchor_embed[anchor_idx],          # Anchor embeddings\n",
    "                sentence_embeds[anchor_idx, pos_idx],  # Positive embeddings\n",
    "                sentence_embeds[anchor_idx, neg_idx],  # Negative embeddings\n",
    "                margin=0.2\n",
    "            )\n",
    "            \n",
    "            loss.backward()\n",
    "            optimizer.step()\n",
    "            \n",
    "            # Update tracking\n",
    "            num_pairs = pos_mask.sum().item()\n",
    "            total_loss += loss.item() * num_pairs\n",
    "            total_pairs += num_pairs\n",
    "            \n",
    "        prog_bar.set_postfix({\n",
    "            'loss': loss.item() if pos_mask.any() else 0,\n",
    "            'pairs': pos_mask.sum().item() if pos_mask.any() else 0\n",
    "        })\n",
    "    \n",
    "    total_samples = len(train_loader.dataset)\n",
    "    return total_loss / total_samples if total_samples > 0 else 0\n",
    "\n",
    "\n",
    "def validate(loader, model, device):\n",
    "    model.eval()\n",
    "    total_loss = 0\n",
    "    all_scores = []\n",
    "    all_sims = []\n",
    "    \n",
    "    with torch.no_grad():\n",
    "        for batch in loader:\n",
    "            anchor_input = {k: v.to(device) for k, v in batch['anchor_input'].items()}\n",
    "            anchor_embed = model(**anchor_input)\n",
    "            \n",
    "            # Process all sentences (with masking)\n",
    "            sentence_inputs = {\n",
    "                k: v.to(device) for k, v in batch['sentence_inputs'].items()\n",
    "            }\n",
    "            sentence_embeds = model(**sentence_inputs)\n",
    "            \n",
    "            # Reshape and mask\n",
    "            batch_size = len(batch['scores'])\n",
    "            max_group_size = batch['scores'].shape[1]\n",
    "            sentence_embeds = sentence_embeds.view(batch_size, max_group_size, -1)\n",
    "            mask = batch['mask'].to(device)\n",
    "            \n",
    "            # Compute similarities -> Now poincare distance\n",
    "            dists = poincare_distance(\n",
    "                anchor_embed.unsqueeze(1).expand_as(sentence_embeds),\n",
    "                sentence_embeds\n",
    "            ) * batch['mask'].to(device)\n",
    "            # Flip distance -> similarity\n",
    "            sims = -dists\n",
    "            \n",
    "            # Collect non-padded scores/similarities for correlation\n",
    "            scores = batch['scores'].to(device)\n",
    "            for i in range(batch_size):\n",
    "                real_indices = torch.where(mask[i] == 1)[0]\n",
    "                all_scores.extend(scores[i, real_indices].cpu().numpy())\n",
    "                all_sims.extend(sims[i, real_indices].cpu().numpy())\n",
    "    \n",
    "    # Compute Spearman correlation\n",
    "    if len(all_scores) > 0:\n",
    "        spearman = spearmanr(all_scores, all_sims).correlation\n",
    "    else:\n",
    "        spearman = 0.0\n",
    "    \n",
    "    return -spearman  # Lower is better (for consistency with loss)\n",
    "\n",
    "\n",
    "def collate_fn(batch):\n",
    "    # Find actual max group size in this batch\n",
    "    batch_max_len = max(len(item['mask'][item['mask'] == 1]) for item in batch)\n",
    "    \n",
    "    # Truncate all inputs to this length\n",
    "    anchor_inputs = {\n",
    "        k: torch.stack([item['anchor_input'][k] for item in batch])\n",
    "        for k in batch[0]['anchor_input']\n",
    "    }\n",
    "    \n",
    "    sentence_inputs = {\n",
    "        k: torch.stack([\n",
    "            inp[k] \n",
    "            for item in batch \n",
    "            for inp in item['sentence_inputs'][:batch_max_len]  # Only take needed elements\n",
    "        ])\n",
    "        for k in batch[0]['sentence_inputs'][0]\n",
    "    }\n",
    "    \n",
    "    scores = torch.stack([item['scores'][:batch_max_len] for item in batch])\n",
    "    masks = torch.stack([item['mask'][:batch_max_len] for item in batch])\n",
    "    \n",
    "    return {\n",
    "        'anchor_input': anchor_inputs,\n",
    "        'sentence_inputs': sentence_inputs,\n",
    "        'scores': scores,\n",
    "        'mask': masks\n",
    "    }\n",
    "\n",
    "\n",
    "tokenizer = AutoTokenizer.from_pretrained('sentence-transformers/all-MiniLM-L6-v2')\n",
    "\n",
    "\n",
    "def group_aware_split(dataset, test_size=0.1, random_state=42):\n",
    "    splitter = GroupShuffleSplit(\n",
    "        n_splits=1, \n",
    "        test_size=test_size, \n",
    "        random_state=random_state\n",
    "    )\n",
    "    train_idx, val_idx = next(splitter.split(\n",
    "        range(len(dataset)), \n",
    "        groups=dataset.group_ids  # Critical: Group by anchor IDs\n",
    "    ))\n",
    "    return (\n",
    "        torch.utils.data.Subset(dataset, train_idx),\n",
    "        torch.utils.data.Subset(dataset, val_idx)\n",
    "    )\n",
    "\n",
    "# Load datasets\n",
    "full_train_dataset = TwitterURLDataset(f'{base_path}paraphrase_dataset_emnlp2017/Twitter_URL_Corpus_train.txt', tokenizer)\n",
    "test_dataset = TwitterURLDataset(f'{base_path}paraphrase_dataset_emnlp2017/Twitter_URL_Corpus_test.txt', tokenizer)\n",
    "\n",
    "# Group-aware split (90% train, 10% val)\n",
    "train_dataset, val_dataset = group_aware_split(full_train_dataset, test_size=0.1)\n",
    "\n",
    "# For all splits (train/val/test), use the same collate_fn\n",
    "train_loader = DataLoader(\n",
    "    train_dataset, \n",
    "    batch_size=32, \n",
    "    shuffle=True, \n",
    "    collate_fn=collate_fn  # Same as training\n",
    ")\n",
    "\n",
    "val_loader = DataLoader(\n",
    "    val_dataset, \n",
    "    batch_size=32, \n",
    "    shuffle=False,  # No shuffling for val/test\n",
    "    collate_fn=collate_fn  # Same collate function!\n",
    ")\n",
    "\n",
    "test_loader = DataLoader(\n",
    "    test_dataset, \n",
    "    batch_size=32, \n",
    "    shuffle=False,\n",
    "    collate_fn=collate_fn  # Consistency is key\n",
    ")\n",
    "\n",
    "print(f\"Train size: {len(train_dataset)}\")\n",
    "print(f\"Val size: {len(val_dataset)}\")\n",
    "print(f\"Test size: {len(test_dataset)}\")\n"
   ]
  },
  {
   "cell_type": "code",
   "execution_count": null,
   "id": "7ece6d6d-111d-4217-bdb0-aaac2b1edf7b",
   "metadata": {
    "scrolled": true
   },
   "outputs": [
    {
     "name": "stdout",
     "output_type": "stream",
     "text": [
      "Epoch 1/50\n"
     ]
    },
    {
     "name": "stderr",
     "output_type": "stream",
     "text": [
      "                                                                                                                                     "
     ]
    },
    {
     "name": "stdout",
     "output_type": "stream",
     "text": [
      "Epoch 1/50\n",
      "  Train Loss: 3.4604\n",
      "  Val Spearman (-ve):   -0.7376\n",
      "  -> Best model saved (val_loss improved to -0.7376)\n",
      "Epoch 2/50\n"
     ]
    },
    {
     "name": "stderr",
     "output_type": "stream",
     "text": [
      "                                                                                                                                     "
     ]
    },
    {
     "name": "stdout",
     "output_type": "stream",
     "text": [
      "Epoch 2/50\n",
      "  Train Loss: 3.2210\n",
      "  Val Spearman (-ve):   -0.7514\n",
      "  -> Best model saved (val_loss improved to -0.7514)\n",
      "Epoch 3/50\n"
     ]
    },
    {
     "name": "stderr",
     "output_type": "stream",
     "text": [
      "                                                                                                                                     "
     ]
    },
    {
     "name": "stdout",
     "output_type": "stream",
     "text": [
      "Epoch 3/50\n",
      "  Train Loss: 3.0613\n",
      "  Val Spearman (-ve):   -0.7561\n",
      "  -> Best model saved (val_loss improved to -0.7561)\n",
      "Epoch 4/50\n"
     ]
    },
    {
     "name": "stderr",
     "output_type": "stream",
     "text": [
      "                                                                                                                                     "
     ]
    },
    {
     "name": "stdout",
     "output_type": "stream",
     "text": [
      "Epoch 4/50\n",
      "  Train Loss: 2.9748\n",
      "  Val Spearman (-ve):   -0.7588\n",
      "  -> Best model saved (val_loss improved to -0.7588)\n",
      "Epoch 5/50\n"
     ]
    },
    {
     "name": "stderr",
     "output_type": "stream",
     "text": [
      "                                                                                                                                     "
     ]
    },
    {
     "name": "stdout",
     "output_type": "stream",
     "text": [
      "Epoch 5/50\n",
      "  Train Loss: 2.9417\n",
      "  Val Spearman (-ve):   -0.7607\n",
      "  -> Best model saved (val_loss improved to -0.7607)\n",
      "Epoch 6/50\n"
     ]
    },
    {
     "name": "stderr",
     "output_type": "stream",
     "text": [
      "                                                                                                                                     "
     ]
    },
    {
     "name": "stdout",
     "output_type": "stream",
     "text": [
      "Epoch 6/50\n",
      "  Train Loss: 2.8734\n",
      "  Val Spearman (-ve):   -0.7617\n",
      "  -> Best model saved (val_loss improved to -0.7617)\n",
      "Epoch 7/50\n"
     ]
    },
    {
     "name": "stderr",
     "output_type": "stream",
     "text": [
      "                                                                                                                                     "
     ]
    },
    {
     "name": "stdout",
     "output_type": "stream",
     "text": [
      "Epoch 7/50\n",
      "  Train Loss: 2.8243\n",
      "  Val Spearman (-ve):   -0.7637\n",
      "  -> Best model saved (val_loss improved to -0.7637)\n",
      "Epoch 8/50\n"
     ]
    },
    {
     "name": "stderr",
     "output_type": "stream",
     "text": [
      "                                                                                                                                     "
     ]
    },
    {
     "name": "stdout",
     "output_type": "stream",
     "text": [
      "Epoch 8/50\n",
      "  Train Loss: 2.7903\n",
      "  Val Spearman (-ve):   -0.7644\n",
      "  -> Best model saved (val_loss improved to -0.7644)\n",
      "Epoch 9/50\n"
     ]
    },
    {
     "name": "stderr",
     "output_type": "stream",
     "text": [
      "                                                                                                                                     "
     ]
    },
    {
     "name": "stdout",
     "output_type": "stream",
     "text": [
      "Epoch 9/50\n",
      "  Train Loss: 2.7194\n",
      "  Val Spearman (-ve):   -0.7650\n",
      "  -> Best model saved (val_loss improved to -0.7650)\n",
      "Epoch 10/50\n"
     ]
    },
    {
     "name": "stderr",
     "output_type": "stream",
     "text": [
      "                                                                                                                                     "
     ]
    },
    {
     "name": "stdout",
     "output_type": "stream",
     "text": [
      "Epoch 10/50\n",
      "  Train Loss: 2.7137\n",
      "  Val Spearman (-ve):   -0.7661\n",
      "  -> Best model saved (val_loss improved to -0.7661)\n",
      "Epoch 11/50\n"
     ]
    },
    {
     "name": "stderr",
     "output_type": "stream",
     "text": [
      "                                                                                                                                     "
     ]
    },
    {
     "name": "stdout",
     "output_type": "stream",
     "text": [
      "Epoch 11/50\n",
      "  Train Loss: 2.7196\n",
      "  Val Spearman (-ve):   -0.7681\n",
      "  -> Best model saved (val_loss improved to -0.7681)\n",
      "Epoch 12/50\n"
     ]
    },
    {
     "name": "stderr",
     "output_type": "stream",
     "text": [
      "                                                                                                                                     "
     ]
    },
    {
     "name": "stdout",
     "output_type": "stream",
     "text": [
      "Epoch 12/50\n",
      "  Train Loss: 2.6753\n",
      "  Val Spearman (-ve):   -0.7683\n",
      "  -> Best model saved (val_loss improved to -0.7683)\n",
      "Epoch 13/50\n"
     ]
    },
    {
     "name": "stderr",
     "output_type": "stream",
     "text": [
      "                                                                                                                                     "
     ]
    },
    {
     "name": "stdout",
     "output_type": "stream",
     "text": [
      "Epoch 13/50\n",
      "  Train Loss: 2.6007\n",
      "  Val Spearman (-ve):   -0.7675\n",
      "Epoch 14/50\n"
     ]
    },
    {
     "name": "stderr",
     "output_type": "stream",
     "text": [
      "                                                                                                                                     "
     ]
    },
    {
     "name": "stdout",
     "output_type": "stream",
     "text": [
      "Epoch 14/50\n",
      "  Train Loss: 2.5958\n",
      "  Val Spearman (-ve):   -0.7685\n",
      "  -> Best model saved (val_loss improved to -0.7685)\n",
      "Epoch 15/50\n"
     ]
    },
    {
     "name": "stderr",
     "output_type": "stream",
     "text": [
      "                                                                                                                                     "
     ]
    },
    {
     "name": "stdout",
     "output_type": "stream",
     "text": [
      "Epoch 15/50\n",
      "  Train Loss: 2.5842\n",
      "  Val Spearman (-ve):   -0.7697\n",
      "  -> Best model saved (val_loss improved to -0.7697)\n",
      "Epoch 16/50\n"
     ]
    },
    {
     "name": "stderr",
     "output_type": "stream",
     "text": [
      "                                                                                                                                     "
     ]
    },
    {
     "name": "stdout",
     "output_type": "stream",
     "text": [
      "Epoch 16/50\n",
      "  Train Loss: 2.5757\n",
      "  Val Spearman (-ve):   -0.7686\n",
      "Epoch 17/50\n"
     ]
    },
    {
     "name": "stderr",
     "output_type": "stream",
     "text": [
      "                                                                                                                                     "
     ]
    },
    {
     "name": "stdout",
     "output_type": "stream",
     "text": [
      "Epoch 17/50\n",
      "  Train Loss: 2.5401\n",
      "  Val Spearman (-ve):   -0.7695\n",
      "Epoch 18/50\n"
     ]
    },
    {
     "name": "stderr",
     "output_type": "stream",
     "text": [
      "                                                                                                                                     "
     ]
    },
    {
     "name": "stdout",
     "output_type": "stream",
     "text": [
      "Epoch 18/50\n",
      "  Train Loss: 2.5200\n",
      "  Val Spearman (-ve):   -0.7709\n",
      "  -> Best model saved (val_loss improved to -0.7709)\n",
      "Epoch 19/50\n"
     ]
    },
    {
     "name": "stderr",
     "output_type": "stream",
     "text": [
      "                                                                                                                                     "
     ]
    },
    {
     "name": "stdout",
     "output_type": "stream",
     "text": [
      "Epoch 19/50\n",
      "  Train Loss: 2.4976\n",
      "  Val Spearman (-ve):   -0.7700\n",
      "Epoch 20/50\n"
     ]
    },
    {
     "name": "stderr",
     "output_type": "stream",
     "text": [
      "                                                                                                                                     "
     ]
    },
    {
     "name": "stdout",
     "output_type": "stream",
     "text": [
      "Epoch 20/50\n",
      "  Train Loss: 2.5061\n",
      "  Val Spearman (-ve):   -0.7706\n",
      "Epoch 21/50\n"
     ]
    },
    {
     "name": "stderr",
     "output_type": "stream",
     "text": [
      "                                                                                                                                     "
     ]
    },
    {
     "name": "stdout",
     "output_type": "stream",
     "text": [
      "Epoch 21/50\n",
      "  Train Loss: 2.4809\n",
      "  Val Spearman (-ve):   -0.7707\n",
      "Epoch 22/50\n"
     ]
    },
    {
     "name": "stderr",
     "output_type": "stream",
     "text": [
      "                                                                                                                                     "
     ]
    },
    {
     "name": "stdout",
     "output_type": "stream",
     "text": [
      "Epoch 22/50\n",
      "  Train Loss: 2.4472\n",
      "  Val Spearman (-ve):   -0.7715\n",
      "  -> Best model saved (val_loss improved to -0.7715)\n",
      "Epoch 23/50\n"
     ]
    },
    {
     "name": "stderr",
     "output_type": "stream",
     "text": [
      "                                                                                                                                     "
     ]
    },
    {
     "name": "stdout",
     "output_type": "stream",
     "text": [
      "Epoch 23/50\n",
      "  Train Loss: 2.4398\n",
      "  Val Spearman (-ve):   -0.7716\n",
      "  -> Best model saved (val_loss improved to -0.7716)\n",
      "Epoch 24/50\n"
     ]
    },
    {
     "name": "stderr",
     "output_type": "stream",
     "text": [
      "                                                                                                                                     "
     ]
    },
    {
     "name": "stdout",
     "output_type": "stream",
     "text": [
      "Epoch 24/50\n",
      "  Train Loss: 2.4362\n",
      "  Val Spearman (-ve):   -0.7716\n",
      "Epoch 25/50\n"
     ]
    },
    {
     "name": "stderr",
     "output_type": "stream",
     "text": [
      "                                                                                                                                     "
     ]
    },
    {
     "name": "stdout",
     "output_type": "stream",
     "text": [
      "Epoch 25/50\n",
      "  Train Loss: 2.4223\n",
      "  Val Spearman (-ve):   -0.7709\n",
      "Epoch 26/50\n"
     ]
    },
    {
     "name": "stderr",
     "output_type": "stream",
     "text": [
      "                                                                                                                                     "
     ]
    },
    {
     "name": "stdout",
     "output_type": "stream",
     "text": [
      "Epoch 26/50\n",
      "  Train Loss: 2.4202\n",
      "  Val Spearman (-ve):   -0.7703\n",
      "Epoch 27/50\n"
     ]
    },
    {
     "name": "stderr",
     "output_type": "stream",
     "text": [
      "                                                                                                                                     "
     ]
    },
    {
     "name": "stdout",
     "output_type": "stream",
     "text": [
      "Epoch 27/50\n",
      "  Train Loss: 2.4073\n",
      "  Val Spearman (-ve):   -0.7716\n",
      "Epoch 28/50\n"
     ]
    },
    {
     "name": "stderr",
     "output_type": "stream",
     "text": [
      "                                                                                                                                     "
     ]
    },
    {
     "name": "stdout",
     "output_type": "stream",
     "text": [
      "Epoch 28/50\n",
      "  Train Loss: 2.4113\n",
      "  Val Spearman (-ve):   -0.7719\n",
      "  -> Best model saved (val_loss improved to -0.7719)\n",
      "Epoch 29/50\n"
     ]
    },
    {
     "name": "stderr",
     "output_type": "stream",
     "text": [
      "                                                                                                                                     "
     ]
    },
    {
     "name": "stdout",
     "output_type": "stream",
     "text": [
      "Epoch 29/50\n",
      "  Train Loss: 2.3804\n",
      "  Val Spearman (-ve):   -0.7722\n",
      "  -> Best model saved (val_loss improved to -0.7722)\n",
      "Epoch 30/50\n"
     ]
    },
    {
     "name": "stderr",
     "output_type": "stream",
     "text": [
      "                                                                                                                                     "
     ]
    },
    {
     "name": "stdout",
     "output_type": "stream",
     "text": [
      "Epoch 30/50\n",
      "  Train Loss: 2.3722\n",
      "  Val Spearman (-ve):   -0.7721\n",
      "Epoch 31/50\n"
     ]
    },
    {
     "name": "stderr",
     "output_type": "stream",
     "text": [
      "                                                                                                                                     "
     ]
    },
    {
     "name": "stdout",
     "output_type": "stream",
     "text": [
      "Epoch 31/50\n",
      "  Train Loss: 2.3652\n",
      "  Val Spearman (-ve):   -0.7725\n",
      "  -> Best model saved (val_loss improved to -0.7725)\n",
      "Epoch 32/50\n"
     ]
    },
    {
     "name": "stderr",
     "output_type": "stream",
     "text": [
      "                                                                                                                                     "
     ]
    },
    {
     "name": "stdout",
     "output_type": "stream",
     "text": [
      "Epoch 32/50\n",
      "  Train Loss: 2.3597\n",
      "  Val Spearman (-ve):   -0.7734\n",
      "  -> Best model saved (val_loss improved to -0.7734)\n",
      "Epoch 33/50\n"
     ]
    },
    {
     "name": "stderr",
     "output_type": "stream",
     "text": [
      "                                                                                                                                     "
     ]
    },
    {
     "name": "stdout",
     "output_type": "stream",
     "text": [
      "Epoch 33/50\n",
      "  Train Loss: 2.3715\n",
      "  Val Spearman (-ve):   -0.7732\n",
      "Epoch 34/50\n"
     ]
    },
    {
     "name": "stderr",
     "output_type": "stream",
     "text": [
      "                                                                                                                                     "
     ]
    },
    {
     "name": "stdout",
     "output_type": "stream",
     "text": [
      "Epoch 34/50\n",
      "  Train Loss: 2.3679\n",
      "  Val Spearman (-ve):   -0.7728\n",
      "Epoch 35/50\n"
     ]
    },
    {
     "name": "stderr",
     "output_type": "stream",
     "text": [
      "                                                                                                                                     "
     ]
    },
    {
     "name": "stdout",
     "output_type": "stream",
     "text": [
      "Epoch 35/50\n",
      "  Train Loss: 2.3442\n",
      "  Val Spearman (-ve):   -0.7733\n",
      "Epoch 36/50\n"
     ]
    },
    {
     "name": "stderr",
     "output_type": "stream",
     "text": [
      "                                                                                                                                     "
     ]
    },
    {
     "name": "stdout",
     "output_type": "stream",
     "text": [
      "Epoch 36/50\n",
      "  Train Loss: 2.3448\n",
      "  Val Spearman (-ve):   -0.7738\n",
      "  -> Best model saved (val_loss improved to -0.7738)\n",
      "Epoch 37/50\n"
     ]
    },
    {
     "name": "stderr",
     "output_type": "stream",
     "text": [
      "                                                                                                                                     "
     ]
    },
    {
     "name": "stdout",
     "output_type": "stream",
     "text": [
      "Epoch 37/50\n",
      "  Train Loss: 2.3292\n",
      "  Val Spearman (-ve):   -0.7731\n",
      "Epoch 38/50\n"
     ]
    },
    {
     "name": "stderr",
     "output_type": "stream",
     "text": [
      "                                                                                                                                     "
     ]
    },
    {
     "name": "stdout",
     "output_type": "stream",
     "text": [
      "Epoch 38/50\n",
      "  Train Loss: 2.2948\n",
      "  Val Spearman (-ve):   -0.7734\n",
      "Epoch 39/50\n"
     ]
    },
    {
     "name": "stderr",
     "output_type": "stream",
     "text": [
      "                                                                                                                                     "
     ]
    },
    {
     "name": "stdout",
     "output_type": "stream",
     "text": [
      "Epoch 39/50\n",
      "  Train Loss: 2.3191\n",
      "  Val Spearman (-ve):   -0.7733\n",
      "Epoch 40/50\n"
     ]
    },
    {
     "name": "stderr",
     "output_type": "stream",
     "text": [
      "                                                                                                                                     "
     ]
    },
    {
     "name": "stdout",
     "output_type": "stream",
     "text": [
      "Epoch 40/50\n",
      "  Train Loss: 2.3089\n",
      "  Val Spearman (-ve):   -0.7739\n",
      "  -> Best model saved (val_loss improved to -0.7739)\n",
      "Epoch 41/50\n"
     ]
    },
    {
     "name": "stderr",
     "output_type": "stream",
     "text": [
      "                                                                                                                                     "
     ]
    },
    {
     "name": "stdout",
     "output_type": "stream",
     "text": [
      "Epoch 41/50\n",
      "  Train Loss: 2.2856\n",
      "  Val Spearman (-ve):   -0.7744\n",
      "  -> Best model saved (val_loss improved to -0.7744)\n",
      "Epoch 42/50\n"
     ]
    },
    {
     "name": "stderr",
     "output_type": "stream",
     "text": [
      "                                                                                                                                     "
     ]
    },
    {
     "name": "stdout",
     "output_type": "stream",
     "text": [
      "Epoch 42/50\n",
      "  Train Loss: 2.3001\n",
      "  Val Spearman (-ve):   -0.7739\n",
      "Epoch 43/50\n"
     ]
    },
    {
     "name": "stderr",
     "output_type": "stream",
     "text": [
      "                                                                                                                                     "
     ]
    },
    {
     "name": "stdout",
     "output_type": "stream",
     "text": [
      "Epoch 43/50\n",
      "  Train Loss: 2.2929\n",
      "  Val Spearman (-ve):   -0.7741\n",
      "Epoch 44/50\n"
     ]
    },
    {
     "name": "stderr",
     "output_type": "stream",
     "text": [
      "                                                                                                                                     "
     ]
    },
    {
     "name": "stdout",
     "output_type": "stream",
     "text": [
      "Epoch 44/50\n",
      "  Train Loss: 2.2816\n",
      "  Val Spearman (-ve):   -0.7744\n",
      "Epoch 45/50\n"
     ]
    },
    {
     "name": "stderr",
     "output_type": "stream",
     "text": [
      "                                                                                                                                     "
     ]
    },
    {
     "name": "stdout",
     "output_type": "stream",
     "text": [
      "Epoch 45/50\n",
      "  Train Loss: 2.2919\n",
      "  Val Spearman (-ve):   -0.7740\n",
      "Epoch 46/50\n"
     ]
    },
    {
     "name": "stderr",
     "output_type": "stream",
     "text": [
      "                                                                                                                                     "
     ]
    },
    {
     "name": "stdout",
     "output_type": "stream",
     "text": [
      "Epoch 46/50\n",
      "  Train Loss: 2.2771\n",
      "  Val Spearman (-ve):   -0.7723\n",
      "Epoch 47/50\n"
     ]
    },
    {
     "name": "stderr",
     "output_type": "stream",
     "text": [
      "                                                                                                                                     "
     ]
    },
    {
     "name": "stdout",
     "output_type": "stream",
     "text": [
      "Epoch 47/50\n",
      "  Train Loss: 2.2769\n",
      "  Val Spearman (-ve):   -0.7735\n",
      "Epoch 48/50\n"
     ]
    },
    {
     "name": "stderr",
     "output_type": "stream",
     "text": [
      "                                                                                                                                     "
     ]
    },
    {
     "name": "stdout",
     "output_type": "stream",
     "text": [
      "Epoch 48/50\n",
      "  Train Loss: 2.2843\n",
      "  Val Spearman (-ve):   -0.7725\n",
      "Epoch 49/50\n"
     ]
    },
    {
     "name": "stderr",
     "output_type": "stream",
     "text": [
      "                                                                                                                                     "
     ]
    },
    {
     "name": "stdout",
     "output_type": "stream",
     "text": [
      "Epoch 49/50\n",
      "  Train Loss: 2.2536\n",
      "  Val Spearman (-ve):   -0.7730\n",
      "Epoch 50/50\n"
     ]
    },
    {
     "name": "stderr",
     "output_type": "stream",
     "text": [
      "                                                                                                                                     "
     ]
    },
    {
     "name": "stdout",
     "output_type": "stream",
     "text": [
      "Epoch 50/50\n",
      "  Train Loss: 2.2683\n",
      "  Val Spearman (-ve):   -0.7737\n",
      "Test Spearman with 384 dimensions: 0.7056\n",
      "Epoch 1/50\n"
     ]
    },
    {
     "name": "stderr",
     "output_type": "stream",
     "text": [
      "                                                                                                                                     "
     ]
    },
    {
     "name": "stdout",
     "output_type": "stream",
     "text": [
      "Epoch 1/50\n",
      "  Train Loss: 3.5880\n",
      "  Val Spearman (-ve):   -0.7361\n",
      "  -> Best model saved (val_loss improved to -0.7361)\n",
      "Epoch 2/50\n"
     ]
    },
    {
     "name": "stderr",
     "output_type": "stream",
     "text": [
      "                                                                                                                                     "
     ]
    },
    {
     "name": "stdout",
     "output_type": "stream",
     "text": [
      "Epoch 2/50\n",
      "  Train Loss: 3.3029\n",
      "  Val Spearman (-ve):   -0.7497\n",
      "  -> Best model saved (val_loss improved to -0.7497)\n",
      "Epoch 3/50\n"
     ]
    },
    {
     "name": "stderr",
     "output_type": "stream",
     "text": [
      "                                                                                                                                     "
     ]
    },
    {
     "name": "stdout",
     "output_type": "stream",
     "text": [
      "Epoch 3/50\n",
      "  Train Loss: 3.1907\n",
      "  Val Spearman (-ve):   -0.7542\n",
      "  -> Best model saved (val_loss improved to -0.7542)\n",
      "Epoch 4/50\n"
     ]
    },
    {
     "name": "stderr",
     "output_type": "stream",
     "text": [
      "                                                                                                                                     "
     ]
    },
    {
     "name": "stdout",
     "output_type": "stream",
     "text": [
      "Epoch 4/50\n",
      "  Train Loss: 3.1207\n",
      "  Val Spearman (-ve):   -0.7561\n",
      "  -> Best model saved (val_loss improved to -0.7561)\n",
      "Epoch 5/50\n"
     ]
    },
    {
     "name": "stderr",
     "output_type": "stream",
     "text": [
      "                                                                                                                                     "
     ]
    },
    {
     "name": "stdout",
     "output_type": "stream",
     "text": [
      "Epoch 5/50\n",
      "  Train Loss: 3.0124\n",
      "  Val Spearman (-ve):   -0.7588\n",
      "  -> Best model saved (val_loss improved to -0.7588)\n",
      "Epoch 6/50\n"
     ]
    },
    {
     "name": "stderr",
     "output_type": "stream",
     "text": [
      "                                                                                                                                     "
     ]
    },
    {
     "name": "stdout",
     "output_type": "stream",
     "text": [
      "Epoch 6/50\n",
      "  Train Loss: 2.9925\n",
      "  Val Spearman (-ve):   -0.7599\n",
      "  -> Best model saved (val_loss improved to -0.7599)\n",
      "Epoch 7/50\n"
     ]
    },
    {
     "name": "stderr",
     "output_type": "stream",
     "text": [
      "                                                                                                                                     "
     ]
    },
    {
     "name": "stdout",
     "output_type": "stream",
     "text": [
      "Epoch 7/50\n",
      "  Train Loss: 2.9343\n",
      "  Val Spearman (-ve):   -0.7617\n",
      "  -> Best model saved (val_loss improved to -0.7617)\n",
      "Epoch 8/50\n"
     ]
    },
    {
     "name": "stderr",
     "output_type": "stream",
     "text": [
      "                                                                                                                                     "
     ]
    },
    {
     "name": "stdout",
     "output_type": "stream",
     "text": [
      "Epoch 8/50\n",
      "  Train Loss: 2.8594\n",
      "  Val Spearman (-ve):   -0.7632\n",
      "  -> Best model saved (val_loss improved to -0.7632)\n",
      "Epoch 9/50\n"
     ]
    },
    {
     "name": "stderr",
     "output_type": "stream",
     "text": [
      "                                                                                                                                     "
     ]
    },
    {
     "name": "stdout",
     "output_type": "stream",
     "text": [
      "Epoch 9/50\n",
      "  Train Loss: 2.8081\n",
      "  Val Spearman (-ve):   -0.7645\n",
      "  -> Best model saved (val_loss improved to -0.7645)\n",
      "Epoch 10/50\n"
     ]
    },
    {
     "name": "stderr",
     "output_type": "stream",
     "text": [
      "                                                                                                                                     "
     ]
    },
    {
     "name": "stdout",
     "output_type": "stream",
     "text": [
      "Epoch 10/50\n",
      "  Train Loss: 2.7777\n",
      "  Val Spearman (-ve):   -0.7650\n",
      "  -> Best model saved (val_loss improved to -0.7650)\n",
      "Epoch 11/50\n"
     ]
    },
    {
     "name": "stderr",
     "output_type": "stream",
     "text": [
      "Training:  95%|███████████████████████████████████████████████████████▊   | 125/132 [01:02<00:02,  2.53it/s, loss=0.0827, pairs=1085]"
     ]
    }
   ],
   "source": [
    "num_epochs = 50\n",
    "def train_model(model, label, optimizer):\n",
    "    best_val_spearman = float('inf')\n",
    "    log_data = {\n",
    "        'training_start': datetime.now().strftime(\"%Y-%m-%d %H:%M:%S\"),\n",
    "        'config': {\n",
    "            'model': label,\n",
    "            'num_epochs': num_epochs,\n",
    "            'optimizer': str(optimizer.__class__.__name__),\n",
    "            'device': str(device)\n",
    "        },\n",
    "        'epochs': []\n",
    "    }\n",
    "    for epoch in range(num_epochs):\n",
    "        # Initialize logging\n",
    "        epoch_start = datetime.now()\n",
    "        \n",
    "        print(f\"Epoch {epoch+1}/{num_epochs}\")\n",
    "    \n",
    "        train_loss = train_one_epoch(train_loader, model, optimizer, device)\n",
    "        val_spearman = validate(val_loader, model, device)\n",
    "\n",
    "        # Track epoch data\n",
    "        epoch_log = {\n",
    "            'epoch': epoch + 1,\n",
    "            'train_loss': float(train_loss),\n",
    "            'val_spearman': float(val_spearman),\n",
    "            'duration_seconds': (datetime.now() - epoch_start).total_seconds(),\n",
    "            'is_best': False\n",
    "        }\n",
    "        \n",
    "        print(f\"Epoch {epoch+1}/{num_epochs}\")\n",
    "        print(f\"  Train Loss: {train_loss:.4f}\")\n",
    "        print(f\"  Val Spearman (-ve):   {val_spearman:.4f}\")\n",
    "    \n",
    "        if val_spearman < best_val_spearman:\n",
    "            best_val_spearman = val_spearman\n",
    "            torch.save(model.state_dict(), f'saved_models2/{label}.pt')\n",
    "            epoch_log['is_best'] = True\n",
    "            print(f\"  -> Best model saved (val_loss improved to {best_val_spearman:.4f})\")\n",
    "\n",
    "        log_data['epochs'].append(epoch_log)\n",
    "        \n",
    "        # Save logs after each epoch (in case of crash)\n",
    "        with open(f'model_logs2/{label}_logs.json', 'w') as f:\n",
    "            json.dump(log_data, f, indent=2)\n",
    "    # Add final metadata\n",
    "    log_data['training_end'] = datetime.now().strftime(\"%Y-%m-%d %H:%M:%S\")\n",
    "    log_data['best_val_spearman'] = float(-best_val_spearman)\n",
    "    \n",
    "    # Final save\n",
    "    with open(f'model_logs2/{label}_logs.json', 'w') as f:\n",
    "        json.dump(log_data, f, indent=2)\n",
    "\n",
    "hyp_dims = [384,192]\n",
    "for dim in hyp_dims:\n",
    "    model = HyperbolicMapper(output_dim = dim).to(device)\n",
    "    # RiemannianAdam optimizer:\n",
    "    optimizer = geoopt.optim.RiemannianAdam(\n",
    "        model.parameters(), \n",
    "        lr=1e-4,\n",
    "        stabilize=1000  # Helps with numerical stability\n",
    "    )\n",
    "    train_model(model, f\"hyp_{dim}\", optimizer)\n",
    "    test_spearman = -validate(test_loader, model, device) \n",
    "    print(f\"Test Spearman with {dim} dimensions: {test_spearman:.4f}\")\n",
    "    del model\n"
   ]
  },
  {
   "cell_type": "code",
   "execution_count": 3,
   "id": "f50c8a73-6d80-419a-b395-7d82b0c433fb",
   "metadata": {},
   "outputs": [
    {
     "name": "stderr",
     "output_type": "stream",
     "text": [
      "/tmp/ipykernel_1134927/2204920649.py:6: FutureWarning: You are using `torch.load` with `weights_only=False` (the current default value), which uses the default pickle module implicitly. It is possible to construct malicious pickle data which will execute arbitrary code during unpickling (See https://github.com/pytorch/pytorch/blob/main/SECURITY.md#untrusted-models for more details). In a future release, the default value for `weights_only` will be flipped to `True`. This limits the functions that could be executed during unpickling. Arbitrary objects will no longer be allowed to be loaded via this mode unless they are explicitly allowlisted by the user via `torch.serialization.add_safe_globals`. We recommend you start setting `weights_only=True` for any use case where you don't have full control of the loaded file. Please open an issue on GitHub for any issues related to this experimental feature.\n",
      "  model.load_state_dict(torch.load(f'saved_models2/hyp_{dim}.pt'))\n"
     ]
    },
    {
     "name": "stdout",
     "output_type": "stream",
     "text": [
      "Test Spearman for 384: 0.7062\n",
      "Test Spearman for 192: 0.7050\n",
      "Test Spearman for 96: 0.7007\n",
      "Test Spearman for 64: 0.6937\n",
      "Test Spearman for 48: 0.6866\n",
      "Test Spearman for 32: 0.6760\n",
      "Test Spearman for 24: 0.6663\n",
      "Test Spearman for 16: 0.6450\n",
      "Test Spearman for 12: 0.6252\n",
      "Test Spearman for 8: 0.5927\n"
     ]
    }
   ],
   "source": [
    "# Final tests\n",
    "\n",
    "hyp_dims = [384,192,96,64,48,32,24,16,12,8]\n",
    "for dim in hyp_dims:\n",
    "    model = HyperbolicMapper(output_dim = dim).to(device)\n",
    "    model.load_state_dict(torch.load(f'saved_models2/hyp_{dim}.pt'))\n",
    "    test_spearman = -validate(test_loader, model, device)  # Flip sign back\n",
    "    print(f\"Test Spearman for {dim}: {test_spearman:.4f}\")\n",
    "    del model\n",
    "\n"
   ]
  },
  {
   "cell_type": "code",
   "execution_count": null,
   "id": "d5de0025-50cc-4742-a1df-409aff80747b",
   "metadata": {},
   "outputs": [],
   "source": []
  }
 ],
 "metadata": {
  "kernelspec": {
   "display_name": "Python 3 (ipykernel)",
   "language": "python",
   "name": "python3"
  },
  "language_info": {
   "codemirror_mode": {
    "name": "ipython",
    "version": 3
   },
   "file_extension": ".py",
   "mimetype": "text/x-python",
   "name": "python",
   "nbconvert_exporter": "python",
   "pygments_lexer": "ipython3",
   "version": "3.11.11"
  }
 },
 "nbformat": 4,
 "nbformat_minor": 5
}
