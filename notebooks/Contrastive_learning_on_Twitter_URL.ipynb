{
 "cells": [
  {
   "cell_type": "code",
   "execution_count": 9,
   "id": "b9191228-a8b4-4150-afa8-118762902356",
   "metadata": {},
   "outputs": [
    {
     "name": "stdout",
     "output_type": "stream",
     "text": [
      "Max group size: 20\n",
      "unique group sizes = {8, 9, 10, 20}\n",
      "Max group size: 20\n",
      "unique group sizes = {10, 20}\n",
      "Train size: 4197\n",
      "Val size: 467\n",
      "Test size: 1010\n"
     ]
    }
   ],
   "source": [
    "import torch\n",
    "from torch.utils.data import Dataset, DataLoader\n",
    "import torch.nn as nn\n",
    "import torch.nn.functional as F\n",
    "import csv\n",
    "import os\n",
    "from transformers import AutoTokenizer, AutoModel\n",
    "from torch.utils.data import random_split\n",
    "from sklearn.model_selection import GroupShuffleSplit\n",
    "from scipy.stats import spearmanr\n",
    "from tqdm import tqdm  # make sure you have tqdm installed\n",
    "from datetime import datetime\n",
    "import json\n",
    "import numpy as np\n",
    "\n",
    "torch.manual_seed(42)  # Before random_split\n",
    "base_path = \"\"\n",
    "\n",
    "os.environ[\"CUDA_VISIBLE_DEVICES\"] = \"2\"\n",
    "device = torch.device('cuda:0' if torch.cuda.is_available() else 'cpu')\n",
    "# -----------------------------\n",
    "# 1. Dataset Class\n",
    "# -----------------------------\n",
    "\n",
    "class TwitterURLDataset(Dataset):\n",
    "    def __init__(self, file_path, tokenizer, max_length=128):\n",
    "        self.data = self.read_file(file_path)\n",
    "        self.tokenizer = tokenizer\n",
    "        self.max_length = max_length\n",
    "        self.groups = self.group_data()\n",
    "        self.group_ids = [i for i, _ in enumerate(self.groups)]\n",
    "        \n",
    "        # Pre-compute maximum group size\n",
    "        self.max_group_size = max(len(group) for group in self.groups)  # Cap at 10\n",
    "        print(f\"Max group size: {self.max_group_size}\")\n",
    "        print(f\"unique group sizes = {set([len(group) for group in self.groups])}\")\n",
    "\n",
    "\n",
    "\n",
    "    def read_file(self, file_path):\n",
    "        data = []\n",
    "        with open(file_path, 'r', encoding='utf-8') as f:\n",
    "            reader = csv.reader(f, delimiter='\\t')\n",
    "            for row in reader:\n",
    "                if len(row) != 4:\n",
    "                    continue\n",
    "                sentence1, sentence2, score_str, url = row\n",
    "                try:\n",
    "                    score = int(score_str.strip('()').split(',')[0])\n",
    "                except:\n",
    "                    continue\n",
    "                data.append((sentence1.strip(), sentence2.strip(), score))\n",
    "        return data\n",
    "\n",
    "\n",
    "    def group_data(self):\n",
    "        groups = []\n",
    "        current_group = []\n",
    "        last_sentence1 = None\n",
    "        for item in self.data:\n",
    "            sentence1, sentence2, score = item\n",
    "            if sentence1 != last_sentence1 and current_group:\n",
    "                groups.append(current_group)\n",
    "                current_group = []\n",
    "            current_group.append(item)\n",
    "            last_sentence1 = sentence1\n",
    "        if current_group:\n",
    "            groups.append(current_group)\n",
    "        return groups\n",
    "\n",
    "    def __len__(self):\n",
    "        return len(self.groups)\n",
    "\n",
    "    def __getitem__(self, idx):\n",
    "        group = self.groups[idx]\n",
    "        anchor_text = group[0][0]\n",
    "        \n",
    "        # Pad group to max_group_size with dummy entries if needed\n",
    "        padded_group = group + [(\"\", \"\", 0)] * (self.max_group_size - len(group))\n",
    "        \n",
    "        sentences = [item[1] for item in padded_group]\n",
    "        scores = torch.tensor([item[2] for item in padded_group], dtype=torch.float32)\n",
    "        \n",
    "        anchor_input = self.tokenizer(\n",
    "            anchor_text, \n",
    "            padding='max_length', \n",
    "            truncation=True, \n",
    "            max_length=self.max_length, \n",
    "            return_tensors=\"pt\",\n",
    "            return_token_type_ids=False  # Add this line\n",
    "        )\n",
    "        \n",
    "        sentence_inputs = [\n",
    "            self.tokenizer(\n",
    "                s, \n",
    "                padding='max_length', \n",
    "                truncation=True, \n",
    "                max_length=self.max_length, \n",
    "                return_tensors=\"pt\",\n",
    "                return_token_type_ids=False  # Add this line\n",
    "            ) for s in sentences\n",
    "        ]\n",
    "        \n",
    "        return {\n",
    "            'anchor_input': {k: v.squeeze(0) for k, v in anchor_input.items()},\n",
    "            'sentence_inputs': [{k: v.squeeze(0) for k, v in inp.items()} for inp in sentence_inputs],\n",
    "            'scores': scores,\n",
    "            'mask': torch.tensor([1]*len(group) + [0]*(self.max_group_size - len(group)))  # Mask for real vs padded\n",
    "        }\n",
    "\n",
    "\n",
    "# -----------------------------\n",
    "# 2. Model\n",
    "# -----------------------------\n",
    "\n",
    "class SentenceEncoder(nn.Module):\n",
    "    def __init__(self, model_name='sentence-transformers/all-MiniLM-L6-v2'):\n",
    "        super(SentenceEncoder, self).__init__()\n",
    "        self.encoder = AutoModel.from_pretrained(model_name)\n",
    "\n",
    "    def forward(self, input_ids, attention_mask):\n",
    "        output = self.encoder(input_ids=input_ids, attention_mask=attention_mask)\n",
    "        # Use CLS token representation\n",
    "        cls_embedding = output.last_hidden_state[:, 0]\n",
    "        cls_embedding = F.normalize(cls_embedding, p=2, dim=1)  # normalize for cosine similarity\n",
    "        return cls_embedding\n",
    "\n",
    "# -----------------------------\n",
    "# 3. Margin Ranking Loss\n",
    "# -----------------------------\n",
    "\n",
    "margin_ranking_loss = nn.MarginRankingLoss(margin=0.2)\n",
    "\n",
    "# -----------------------------\n",
    "# 4. Example Training Step\n",
    "# -----------------------------\n",
    "\n",
    "def train_one_epoch(train_loader, model, optimizer, device):\n",
    "    model.train()\n",
    "    total_loss = 0\n",
    "    total_pairs = 0\n",
    "    \n",
    "    # Wrap your loader with tqdm for a progress bar\n",
    "    prog_bar = tqdm(train_loader, desc=\"Training\", leave=False)\n",
    "    \n",
    "    for batch in prog_bar:\n",
    "        optimizer.zero_grad()\n",
    "        \n",
    "        anchor_input = {k: v.to(device) for k, v in batch['anchor_input'].items()}\n",
    "        anchor_embed = model(**anchor_input)\n",
    "        \n",
    "        sentence_inputs = {\n",
    "            k: v.to(device) for k, v in batch['sentence_inputs'].items()\n",
    "        }\n",
    "        sentence_embeds = model(**sentence_inputs)\n",
    "        \n",
    "        batch_size, max_group_size = batch['scores'].shape\n",
    "        sentence_embeds = sentence_embeds.view(batch_size, max_group_size, -1)\n",
    "        \n",
    "        sims = F.cosine_similarity(\n",
    "            anchor_embed.unsqueeze(1).expand_as(sentence_embeds),\n",
    "            sentence_embeds,\n",
    "            dim=-1\n",
    "        ) * batch['mask'].to(device)\n",
    "        \n",
    "        # Vectorized ranking loss calculation\n",
    "        scores = batch['scores'].to(device)\n",
    "        mask = batch['mask'].to(device).bool()\n",
    "        \n",
    "        # Create all valid pairs\n",
    "        pos_mask = (scores.unsqueeze(2) > scores.unsqueeze(1)) & mask.unsqueeze(2) & mask.unsqueeze(1)\n",
    "        \n",
    "        if pos_mask.any():\n",
    "            pos_sims = sims.unsqueeze(2).expand(-1, -1, max_group_size)[pos_mask]\n",
    "            neg_sims = sims.unsqueeze(1).expand(-1, max_group_size, -1)[pos_mask]\n",
    "            \n",
    "            loss = F.margin_ranking_loss(\n",
    "                pos_sims,\n",
    "                neg_sims,\n",
    "                torch.ones_like(pos_sims),\n",
    "                margin=0.2,\n",
    "                reduction='sum'\n",
    "            )\n",
    "            total_pairs += pos_mask.sum().item()\n",
    "            total_loss += loss.item()\n",
    "            \n",
    "            loss = loss / pos_mask.sum()  # Normalize\n",
    "            loss.backward()\n",
    "            optimizer.step()\n",
    "    \n",
    "    return total_loss / total_pairs if total_pairs > 0 else 0\n",
    "\n",
    "\n",
    "def validate2(loader, model, device):\n",
    "    model.train()\n",
    "    total_loss = 0\n",
    "    total_pairs = 0\n",
    "    \n",
    "    # Wrap your loader with tqdm for a progress bar\n",
    "    prog_bar = tqdm(loader, desc=\"Testing\", leave=False)\n",
    "    \n",
    "    for batch in prog_bar:\n",
    "        optimizer.zero_grad()\n",
    "        \n",
    "        anchor_input = {k: v.to(device) for k, v in batch['anchor_input'].items()}\n",
    "        anchor_embed = model(**anchor_input)\n",
    "        \n",
    "        sentence_inputs = {\n",
    "            k: v.to(device) for k, v in batch['sentence_inputs'].items()\n",
    "        }\n",
    "        sentence_embeds = model(**sentence_inputs)\n",
    "        \n",
    "        batch_size, max_group_size = batch['scores'].shape\n",
    "        sentence_embeds = sentence_embeds.view(batch_size, max_group_size, -1)\n",
    "        # Vectorized ranking loss calculation\n",
    "        scores = batch['scores'].to(device)\n",
    "        mask = batch['mask'].to(device).bool()\n",
    "        \n",
    "        # Create all valid pairs\n",
    "        pos_mask = (scores.unsqueeze(2) > scores.unsqueeze(1)) & mask.unsqueeze(2) & mask.unsqueeze(1)\n",
    "        \n",
    "        if pos_mask.any():\n",
    "            pos_sims = sims.unsqueeze(2).expand(-1, -1, max_group_size)[pos_mask]\n",
    "            neg_sims = sims.unsqueeze(1).expand(-1, max_group_size, -1)[pos_mask]\n",
    "            \n",
    "            loss = F.margin_ranking_loss(\n",
    "                pos_sims,\n",
    "                neg_sims,\n",
    "                torch.ones_like(pos_sims),\n",
    "                margin=0.2,\n",
    "                reduction='sum'\n",
    "            )\n",
    "            total_pairs += pos_mask.sum().item()\n",
    "            total_loss += loss.item()\n",
    "            \n",
    "            loss = loss / pos_mask.sum()  # Normalize\n",
    "            loss.backward()\n",
    "            optimizer.step()\n",
    "    \n",
    "    return total_loss / total_pairs if total_pairs > 0 else 0\n",
    "\n",
    "\n",
    "def validate(loader, model, device):\n",
    "    model.eval()\n",
    "    total_loss = 0\n",
    "    all_scores = []\n",
    "    all_sims = []\n",
    "    all_anchor_spearmans = []\n",
    "    \n",
    "    with torch.no_grad():\n",
    "        for batch in loader:\n",
    "            # Get embeddings\n",
    "            anchor_input = {k: v.to(device) for k, v in batch['anchor_input'].items()}\n",
    "            anchor_embed = model(**anchor_input)\n",
    "            \n",
    "            sentence_inputs = {k: v.to(device) for k, v in batch['sentence_inputs'].items()}\n",
    "            sentence_embeds = model(**sentence_inputs)\n",
    "            \n",
    "            # Reshape and mask\n",
    "            batch_size = len(batch['scores'])\n",
    "            max_group_size = batch['scores'].shape[1]\n",
    "            sentence_embeds = sentence_embeds.view(batch_size, max_group_size, -1)\n",
    "            mask = batch['mask'].to(device)\n",
    "            \n",
    "            # Compute similarities\n",
    "            sims = F.cosine_similarity(\n",
    "                anchor_embed.unsqueeze(1).expand_as(sentence_embeds),\n",
    "                sentence_embeds,\n",
    "                dim=-1\n",
    "            ) * mask  # Mask out paddings\n",
    "            \n",
    "            # Collect non-padded scores/similarities for correlation\n",
    "            scores = batch['scores'].to(device)\n",
    "            for i in range(batch_size):\n",
    "                # real_indices = torch.where(mask[i] == 1)[0]\n",
    "                # all_scores.extend(scores[i, real_indices].cpu().numpy())\n",
    "                # all_sims.extend(sims[i, real_indices].cpu().numpy())\n",
    "                valid_idx = torch.where(mask[i] == 1)[0]\n",
    "                if len(valid_idx) < 2:  # Need at least 2 for correlation\n",
    "                    continue\n",
    "\n",
    "                # Calculate per-anchor Spearman\n",
    "                anchor_scores = scores[i, valid_idx].cpu().numpy()\n",
    "                anchor_preds = sims[i, valid_idx].cpu().numpy()\n",
    "\n",
    "                if len(np.unique(anchor_scores)) > 1:  # Check for rankable scores\n",
    "                    spear = spearmanr(anchor_scores, anchor_preds).correlation\n",
    "                    all_anchor_spearmans.append(spear)\n",
    "\n",
    "    # Compute metrics\n",
    "    mean_spearman = np.mean(all_anchor_spearmans) if all_anchor_spearmans else 0.0\n",
    "    # avg_loss = total_loss / total_pairs if total_pairs > 0 else 0.0\n",
    "    \n",
    "    return mean_spearman\n",
    "    \n",
    "\n",
    "def collate_fn(batch):\n",
    "    # Find actual max group size in this batch\n",
    "    batch_max_len = max(len(item['mask'][item['mask'] == 1]) for item in batch)\n",
    "    \n",
    "    # Truncate all inputs to this length\n",
    "    anchor_inputs = {\n",
    "        k: torch.stack([item['anchor_input'][k] for item in batch])\n",
    "        for k in batch[0]['anchor_input']\n",
    "    }\n",
    "    \n",
    "    sentence_inputs = {\n",
    "        k: torch.stack([\n",
    "            inp[k] \n",
    "            for item in batch \n",
    "            for inp in item['sentence_inputs'][:batch_max_len]  # Only take needed elements\n",
    "        ])\n",
    "        for k in batch[0]['sentence_inputs'][0]\n",
    "    }\n",
    "    \n",
    "    scores = torch.stack([item['scores'][:batch_max_len] for item in batch])\n",
    "    masks = torch.stack([item['mask'][:batch_max_len] for item in batch])\n",
    "    \n",
    "    return {\n",
    "        'anchor_input': anchor_inputs,\n",
    "        'sentence_inputs': sentence_inputs,\n",
    "        'scores': scores,\n",
    "        'mask': masks\n",
    "    }\n",
    "\n",
    "\n",
    "tokenizer = AutoTokenizer.from_pretrained('sentence-transformers/all-MiniLM-L6-v2')\n",
    "\n",
    "\n",
    "def group_aware_split(dataset, test_size=0.1, random_state=42):\n",
    "    splitter = GroupShuffleSplit(\n",
    "        n_splits=1, \n",
    "        test_size=test_size, \n",
    "        random_state=random_state\n",
    "    )\n",
    "    train_idx, val_idx = next(splitter.split(\n",
    "        range(len(dataset)), \n",
    "        groups=dataset.group_ids  # Critical: Group by anchor IDs\n",
    "    ))\n",
    "    return (\n",
    "        torch.utils.data.Subset(dataset, train_idx),\n",
    "        torch.utils.data.Subset(dataset, val_idx)\n",
    "    )\n",
    "\n",
    "# Load datasets\n",
    "full_train_dataset = TwitterURLDataset(f'{base_path}paraphrase_dataset_emnlp2017/Twitter_URL_Corpus_train.txt', tokenizer)\n",
    "test_dataset = TwitterURLDataset(f'{base_path}paraphrase_dataset_emnlp2017/Twitter_URL_Corpus_test.txt', tokenizer)\n",
    "\n",
    "# Group-aware split (90% train, 10% val)\n",
    "train_dataset, val_dataset = group_aware_split(full_train_dataset, test_size=0.1)\n",
    "\n",
    "# For all splits (train/val/test), use the same collate_fn\n",
    "train_loader = DataLoader(\n",
    "    train_dataset, \n",
    "    batch_size=32, \n",
    "    shuffle=True, \n",
    "    collate_fn=collate_fn  # Same as training\n",
    ")\n",
    "\n",
    "val_loader = DataLoader(\n",
    "    val_dataset, \n",
    "    batch_size=32, \n",
    "    shuffle=False,  # No shuffling for val/test\n",
    "    collate_fn=collate_fn  # Same collate function!\n",
    ")\n",
    "\n",
    "test_loader = DataLoader(\n",
    "    test_dataset, \n",
    "    batch_size=32, \n",
    "    shuffle=False,\n",
    "    collate_fn=collate_fn  # Consistency is key\n",
    ")\n",
    "\n",
    "print(f\"Train size: {len(train_dataset)}\")\n",
    "print(f\"Val size: {len(val_dataset)}\")\n",
    "print(f\"Test size: {len(test_dataset)}\")"
   ]
  },
  {
   "cell_type": "code",
   "execution_count": 10,
   "id": "4d849959-bbf8-4f77-bae8-1b4f76cf1873",
   "metadata": {},
   "outputs": [
    {
     "name": "stdout",
     "output_type": "stream",
     "text": [
      "Initiliazing model\n",
      "Test Spearman Initially: 0.5860\n",
      "Starting training\n",
      "Epoch 1/40\n"
     ]
    },
    {
     "name": "stderr",
     "output_type": "stream",
     "text": [
      "                                                                                                                                     "
     ]
    },
    {
     "name": "stdout",
     "output_type": "stream",
     "text": [
      "Epoch 1/40\n",
      "  Train Loss: 0.1006\n",
      "  Val Spearman (-ve):   0.6584\n",
      "  -> Best model saved (val_loss improved to 0.6584)\n",
      "Epoch 2/40\n"
     ]
    },
    {
     "name": "stderr",
     "output_type": "stream",
     "text": [
      "                                                                                                                                     "
     ]
    },
    {
     "name": "stdout",
     "output_type": "stream",
     "text": [
      "Epoch 2/40\n",
      "  Train Loss: 0.0837\n",
      "  Val Spearman (-ve):   0.6693\n",
      "  -> Best model saved (val_loss improved to 0.6693)\n",
      "Epoch 3/40\n"
     ]
    },
    {
     "name": "stderr",
     "output_type": "stream",
     "text": [
      "                                                                                                                                     "
     ]
    },
    {
     "name": "stdout",
     "output_type": "stream",
     "text": [
      "Epoch 3/40\n",
      "  Train Loss: 0.0767\n",
      "  Val Spearman (-ve):   0.6755\n",
      "  -> Best model saved (val_loss improved to 0.6755)\n",
      "Epoch 4/40\n"
     ]
    },
    {
     "name": "stderr",
     "output_type": "stream",
     "text": [
      "                                                                                                                                     "
     ]
    },
    {
     "name": "stdout",
     "output_type": "stream",
     "text": [
      "Epoch 4/40\n",
      "  Train Loss: 0.0721\n",
      "  Val Spearman (-ve):   0.6799\n",
      "  -> Best model saved (val_loss improved to 0.6799)\n",
      "Epoch 5/40\n"
     ]
    },
    {
     "name": "stderr",
     "output_type": "stream",
     "text": [
      "                                                                                                                                     "
     ]
    },
    {
     "name": "stdout",
     "output_type": "stream",
     "text": [
      "Epoch 5/40\n",
      "  Train Loss: 0.0680\n",
      "  Val Spearman (-ve):   0.6815\n",
      "  -> Best model saved (val_loss improved to 0.6815)\n",
      "Epoch 6/40\n"
     ]
    },
    {
     "name": "stderr",
     "output_type": "stream",
     "text": [
      "                                                                                                                                     "
     ]
    },
    {
     "name": "stdout",
     "output_type": "stream",
     "text": [
      "Epoch 6/40\n",
      "  Train Loss: 0.0646\n",
      "  Val Spearman (-ve):   0.6837\n",
      "  -> Best model saved (val_loss improved to 0.6837)\n",
      "Epoch 7/40\n"
     ]
    },
    {
     "name": "stderr",
     "output_type": "stream",
     "text": [
      "                                                                                                                                     "
     ]
    },
    {
     "name": "stdout",
     "output_type": "stream",
     "text": [
      "Epoch 7/40\n",
      "  Train Loss: 0.0606\n",
      "  Val Spearman (-ve):   0.6816\n",
      "Epoch 8/40\n"
     ]
    },
    {
     "name": "stderr",
     "output_type": "stream",
     "text": [
      "                                                                                                                                     "
     ]
    },
    {
     "name": "stdout",
     "output_type": "stream",
     "text": [
      "Epoch 8/40\n",
      "  Train Loss: 0.0579\n",
      "  Val Spearman (-ve):   0.6800\n",
      "Epoch 9/40\n"
     ]
    },
    {
     "name": "stderr",
     "output_type": "stream",
     "text": [
      "                                                                                                                                     "
     ]
    },
    {
     "name": "stdout",
     "output_type": "stream",
     "text": [
      "Epoch 9/40\n",
      "  Train Loss: 0.0547\n",
      "  Val Spearman (-ve):   0.6790\n",
      "Epoch 10/40\n"
     ]
    },
    {
     "name": "stderr",
     "output_type": "stream",
     "text": [
      "                                                                                                                                     "
     ]
    },
    {
     "name": "stdout",
     "output_type": "stream",
     "text": [
      "Epoch 10/40\n",
      "  Train Loss: 0.0521\n",
      "  Val Spearman (-ve):   0.6791\n",
      "Epoch 11/40\n"
     ]
    },
    {
     "name": "stderr",
     "output_type": "stream",
     "text": [
      "                                                                                                                                     "
     ]
    },
    {
     "name": "stdout",
     "output_type": "stream",
     "text": [
      "Epoch 11/40\n",
      "  Train Loss: 0.0497\n",
      "  Val Spearman (-ve):   0.6714\n",
      "Epoch 12/40\n"
     ]
    },
    {
     "name": "stderr",
     "output_type": "stream",
     "text": [
      "                                                                                                                                     "
     ]
    },
    {
     "name": "stdout",
     "output_type": "stream",
     "text": [
      "Epoch 12/40\n",
      "  Train Loss: 0.0475\n",
      "  Val Spearman (-ve):   0.6740\n",
      "Epoch 13/40\n"
     ]
    },
    {
     "name": "stderr",
     "output_type": "stream",
     "text": [
      "                                                                                                                                     "
     ]
    },
    {
     "name": "stdout",
     "output_type": "stream",
     "text": [
      "Epoch 13/40\n",
      "  Train Loss: 0.0453\n",
      "  Val Spearman (-ve):   0.6715\n",
      "Epoch 14/40\n"
     ]
    },
    {
     "name": "stderr",
     "output_type": "stream",
     "text": [
      "                                                                                                                                     "
     ]
    },
    {
     "name": "stdout",
     "output_type": "stream",
     "text": [
      "Epoch 14/40\n",
      "  Train Loss: 0.0433\n",
      "  Val Spearman (-ve):   0.6695\n",
      "Epoch 15/40\n"
     ]
    },
    {
     "name": "stderr",
     "output_type": "stream",
     "text": [
      "                                                                                                                                     "
     ]
    },
    {
     "name": "stdout",
     "output_type": "stream",
     "text": [
      "Epoch 15/40\n",
      "  Train Loss: 0.0412\n",
      "  Val Spearman (-ve):   0.6694\n",
      "Epoch 16/40\n"
     ]
    },
    {
     "name": "stderr",
     "output_type": "stream",
     "text": [
      "                                                                                                                                     "
     ]
    },
    {
     "name": "stdout",
     "output_type": "stream",
     "text": [
      "Epoch 16/40\n",
      "  Train Loss: 0.0399\n",
      "  Val Spearman (-ve):   0.6602\n",
      "Epoch 17/40\n"
     ]
    },
    {
     "name": "stderr",
     "output_type": "stream",
     "text": [
      "                                                                                                                                     "
     ]
    },
    {
     "name": "stdout",
     "output_type": "stream",
     "text": [
      "Epoch 17/40\n",
      "  Train Loss: 0.0382\n",
      "  Val Spearman (-ve):   0.6644\n",
      "Epoch 18/40\n"
     ]
    },
    {
     "name": "stderr",
     "output_type": "stream",
     "text": [
      "                                                                                                                                     "
     ]
    },
    {
     "name": "stdout",
     "output_type": "stream",
     "text": [
      "Epoch 18/40\n",
      "  Train Loss: 0.0370\n",
      "  Val Spearman (-ve):   0.6571\n",
      "Epoch 19/40\n"
     ]
    },
    {
     "name": "stderr",
     "output_type": "stream",
     "text": [
      "                                                                                                                                     "
     ]
    },
    {
     "name": "stdout",
     "output_type": "stream",
     "text": [
      "Epoch 19/40\n",
      "  Train Loss: 0.0354\n",
      "  Val Spearman (-ve):   0.6544\n",
      "Epoch 20/40\n"
     ]
    },
    {
     "name": "stderr",
     "output_type": "stream",
     "text": [
      "                                                                                                                                     "
     ]
    },
    {
     "name": "stdout",
     "output_type": "stream",
     "text": [
      "Epoch 20/40\n",
      "  Train Loss: 0.0339\n",
      "  Val Spearman (-ve):   0.6553\n",
      "Epoch 21/40\n"
     ]
    },
    {
     "name": "stderr",
     "output_type": "stream",
     "text": [
      "                                                                                                                                     "
     ]
    },
    {
     "name": "stdout",
     "output_type": "stream",
     "text": [
      "Epoch 21/40\n",
      "  Train Loss: 0.0331\n",
      "  Val Spearman (-ve):   0.6568\n",
      "Epoch 22/40\n"
     ]
    },
    {
     "name": "stderr",
     "output_type": "stream",
     "text": [
      "                                                                                                                                     "
     ]
    },
    {
     "name": "stdout",
     "output_type": "stream",
     "text": [
      "Epoch 22/40\n",
      "  Train Loss: 0.0317\n",
      "  Val Spearman (-ve):   0.6564\n",
      "Epoch 23/40\n"
     ]
    },
    {
     "name": "stderr",
     "output_type": "stream",
     "text": [
      "                                                                                                                                     "
     ]
    },
    {
     "name": "stdout",
     "output_type": "stream",
     "text": [
      "Epoch 23/40\n",
      "  Train Loss: 0.0304\n",
      "  Val Spearman (-ve):   0.6495\n",
      "Epoch 24/40\n"
     ]
    },
    {
     "name": "stderr",
     "output_type": "stream",
     "text": [
      "                                                                                                                                     "
     ]
    },
    {
     "name": "stdout",
     "output_type": "stream",
     "text": [
      "Epoch 24/40\n",
      "  Train Loss: 0.0297\n",
      "  Val Spearman (-ve):   0.6524\n",
      "Epoch 25/40\n"
     ]
    },
    {
     "name": "stderr",
     "output_type": "stream",
     "text": [
      "                                                                                                                                     "
     ]
    },
    {
     "name": "stdout",
     "output_type": "stream",
     "text": [
      "Epoch 25/40\n",
      "  Train Loss: 0.0288\n",
      "  Val Spearman (-ve):   0.6457\n",
      "Epoch 26/40\n"
     ]
    },
    {
     "name": "stderr",
     "output_type": "stream",
     "text": [
      "                                                                                                                                     "
     ]
    },
    {
     "name": "stdout",
     "output_type": "stream",
     "text": [
      "Epoch 26/40\n",
      "  Train Loss: 0.0281\n",
      "  Val Spearman (-ve):   0.6503\n",
      "Epoch 27/40\n"
     ]
    },
    {
     "name": "stderr",
     "output_type": "stream",
     "text": [
      "                                                                                                                                     "
     ]
    },
    {
     "name": "stdout",
     "output_type": "stream",
     "text": [
      "Epoch 27/40\n",
      "  Train Loss: 0.0273\n",
      "  Val Spearman (-ve):   0.6492\n",
      "Epoch 28/40\n"
     ]
    },
    {
     "name": "stderr",
     "output_type": "stream",
     "text": [
      "                                                                                                                                     "
     ]
    },
    {
     "name": "stdout",
     "output_type": "stream",
     "text": [
      "Epoch 28/40\n",
      "  Train Loss: 0.0268\n",
      "  Val Spearman (-ve):   0.6434\n",
      "Epoch 29/40\n"
     ]
    },
    {
     "name": "stderr",
     "output_type": "stream",
     "text": [
      "                                                                                                                                     "
     ]
    },
    {
     "name": "stdout",
     "output_type": "stream",
     "text": [
      "Epoch 29/40\n",
      "  Train Loss: 0.0260\n",
      "  Val Spearman (-ve):   0.6411\n",
      "Epoch 30/40\n"
     ]
    },
    {
     "name": "stderr",
     "output_type": "stream",
     "text": [
      "                                                                                                                                     "
     ]
    },
    {
     "name": "stdout",
     "output_type": "stream",
     "text": [
      "Epoch 30/40\n",
      "  Train Loss: 0.0250\n",
      "  Val Spearman (-ve):   0.6424\n",
      "Epoch 31/40\n"
     ]
    },
    {
     "name": "stderr",
     "output_type": "stream",
     "text": [
      "                                                                                                                                     "
     ]
    },
    {
     "name": "stdout",
     "output_type": "stream",
     "text": [
      "Epoch 31/40\n",
      "  Train Loss: 0.0246\n",
      "  Val Spearman (-ve):   0.6422\n",
      "Epoch 32/40\n"
     ]
    },
    {
     "name": "stderr",
     "output_type": "stream",
     "text": [
      "                                                                                                                                     "
     ]
    },
    {
     "name": "stdout",
     "output_type": "stream",
     "text": [
      "Epoch 32/40\n",
      "  Train Loss: 0.0237\n",
      "  Val Spearman (-ve):   0.6293\n",
      "Epoch 33/40\n"
     ]
    },
    {
     "name": "stderr",
     "output_type": "stream",
     "text": [
      "                                                                                                                                     "
     ]
    },
    {
     "name": "stdout",
     "output_type": "stream",
     "text": [
      "Epoch 33/40\n",
      "  Train Loss: 0.0233\n",
      "  Val Spearman (-ve):   0.6302\n",
      "Epoch 34/40\n"
     ]
    },
    {
     "name": "stderr",
     "output_type": "stream",
     "text": [
      "                                                                                                                                     "
     ]
    },
    {
     "name": "stdout",
     "output_type": "stream",
     "text": [
      "Epoch 34/40\n",
      "  Train Loss: 0.0229\n",
      "  Val Spearman (-ve):   0.6321\n",
      "Epoch 35/40\n"
     ]
    },
    {
     "name": "stderr",
     "output_type": "stream",
     "text": [
      "                                                                                                                                     "
     ]
    },
    {
     "name": "stdout",
     "output_type": "stream",
     "text": [
      "Epoch 35/40\n",
      "  Train Loss: 0.0226\n",
      "  Val Spearman (-ve):   0.6441\n",
      "Epoch 36/40\n"
     ]
    },
    {
     "name": "stderr",
     "output_type": "stream",
     "text": [
      "                                                                                                                                     "
     ]
    },
    {
     "name": "stdout",
     "output_type": "stream",
     "text": [
      "Epoch 36/40\n",
      "  Train Loss: 0.0218\n",
      "  Val Spearman (-ve):   0.6382\n",
      "Epoch 37/40\n"
     ]
    },
    {
     "name": "stderr",
     "output_type": "stream",
     "text": [
      "                                                                                                                                     "
     ]
    },
    {
     "name": "stdout",
     "output_type": "stream",
     "text": [
      "Epoch 37/40\n",
      "  Train Loss: 0.0214\n",
      "  Val Spearman (-ve):   0.6292\n",
      "Epoch 38/40\n"
     ]
    },
    {
     "name": "stderr",
     "output_type": "stream",
     "text": [
      "                                                                                                                                     "
     ]
    },
    {
     "name": "stdout",
     "output_type": "stream",
     "text": [
      "Epoch 38/40\n",
      "  Train Loss: 0.0213\n",
      "  Val Spearman (-ve):   0.6297\n",
      "Epoch 39/40\n"
     ]
    },
    {
     "name": "stderr",
     "output_type": "stream",
     "text": [
      "                                                                                                                                     "
     ]
    },
    {
     "name": "stdout",
     "output_type": "stream",
     "text": [
      "Epoch 39/40\n",
      "  Train Loss: 0.0209\n",
      "  Val Spearman (-ve):   0.6330\n",
      "Epoch 40/40\n"
     ]
    },
    {
     "name": "stderr",
     "output_type": "stream",
     "text": [
      "                                                                                                                                     "
     ]
    },
    {
     "name": "stdout",
     "output_type": "stream",
     "text": [
      "Epoch 40/40\n",
      "  Train Loss: 0.0202\n",
      "  Val Spearman (-ve):   0.6294\n",
      "Final Test Spearman with sbert: 0.6036\n",
      "Initiliazing model\n"
     ]
    },
    {
     "name": "stderr",
     "output_type": "stream",
     "text": [
      "/tmp/ipykernel_2305215/3004174773.py:72: FutureWarning: You are using `torch.load` with `weights_only=False` (the current default value), which uses the default pickle module implicitly. It is possible to construct malicious pickle data which will execute arbitrary code during unpickling (See https://github.com/pytorch/pytorch/blob/main/SECURITY.md#untrusted-models for more details). In a future release, the default value for `weights_only` will be flipped to `True`. This limits the functions that could be executed during unpickling. Arbitrary objects will no longer be allowed to be loaded via this mode unless they are explicitly allowlisted by the user via `torch.serialization.add_safe_globals`. We recommend you start setting `weights_only=True` for any use case where you don't have full control of the loaded file. Please open an issue on GitHub for any issues related to this experimental feature.\n",
      "  model.load_state_dict(torch.load(\"saved_models3/euc_sbert.pt\"))\n"
     ]
    },
    {
     "name": "stdout",
     "output_type": "stream",
     "text": [
      "Best Model - Test Spearman: 0.6720\n"
     ]
    }
   ],
   "source": [
    "num_epochs = 40\n",
    "def train_model(model, label, optimizer):\n",
    "    best_val_spearman = float('-inf')\n",
    "    log_data = {\n",
    "        'training_start': datetime.now().strftime(\"%Y-%m-%d %H:%M:%S\"),\n",
    "        'config': {\n",
    "            'model': label,\n",
    "            'num_epochs': num_epochs,\n",
    "            'optimizer': str(optimizer.__class__.__name__),\n",
    "            'device': str(device)\n",
    "        },\n",
    "        'epochs': []\n",
    "    }\n",
    "    \n",
    "    for epoch in range(num_epochs):\n",
    "        # Initialize logging\n",
    "        epoch_start = datetime.now()\n",
    "        \n",
    "        print(f\"Epoch {epoch+1}/{num_epochs}\")\n",
    "    \n",
    "        train_loss = train_one_epoch(train_loader, model, optimizer, device)\n",
    "        val_spearman = validate(val_loader, model, device)\n",
    "\n",
    "        # Track epoch data\n",
    "        epoch_log = {\n",
    "            'epoch': epoch + 1,\n",
    "            'train_loss': float(train_loss),\n",
    "            'val_spearman': float(val_spearman),\n",
    "            'duration_seconds': (datetime.now() - epoch_start).total_seconds(),\n",
    "            'is_best': False\n",
    "        }\n",
    "        \n",
    "        print(f\"Epoch {epoch+1}/{num_epochs}\")\n",
    "        print(f\"  Train Loss: {train_loss:.4f}\")\n",
    "        print(f\"  Val Spearman (-ve):   {val_spearman:.4f}\")\n",
    "    \n",
    "        if val_spearman > best_val_spearman:\n",
    "            best_val_spearman = val_spearman\n",
    "            torch.save(model.state_dict(), f'saved_models3/{label}.pt')\n",
    "            epoch_log['is_best'] = True\n",
    "            print(f\"  -> Best model saved (val_loss improved to {best_val_spearman:.4f})\")\n",
    "\n",
    "        log_data['epochs'].append(epoch_log)\n",
    "        \n",
    "        # Save logs after each epoch (in case of crash)\n",
    "        with open(f'model_logs3/{label}_logs.json', 'w') as f:\n",
    "            json.dump(log_data, f, indent=2)\n",
    "    # Add final metadata\n",
    "    log_data['training_end'] = datetime.now().strftime(\"%Y-%m-%d %H:%M:%S\")\n",
    "    log_data['best_val_spearman'] = float(best_val_spearman)\n",
    "    \n",
    "    # Final save\n",
    "    with open(f'model_logs3/{label}_logs.json', 'w') as f:\n",
    "        json.dump(log_data, f, indent=2)\n",
    "\n",
    "print(\"Initiliazing model\")\n",
    "model = SentenceEncoder().to(device)\n",
    "optimizer = torch.optim.AdamW(model.parameters(), lr=2e-5)\n",
    "\n",
    "test_spearman = validate(test_loader, model, device)  # Flip sign back\n",
    "print(f\"Test Spearman Initially: {test_spearman:.4f}\")\n",
    "\n",
    "print(\"Starting training\")\n",
    "train_model(model, f\"euc_sbert\", optimizer)\n",
    "test_spearman = validate(test_loader, model, device)\n",
    "print(f\"Final Test Spearman with sbert: {test_spearman:.4f}\")\n",
    "del model\n",
    "\n",
    "# Final test\n",
    "print(\"Initiliazing model\")\n",
    "model = SentenceEncoder().to(device)\n",
    "model.load_state_dict(torch.load(\"saved_models3/euc_sbert.pt\"))\n",
    "test_spearman = validate(test_loader, model, device)  # Flip sign back\n",
    "print(f\"Best Model - Test Spearman: {test_spearman:.4f}\")"
   ]
  },
  {
   "cell_type": "code",
   "execution_count": 6,
   "id": "4ae5d60a-1416-4164-9084-a508ea796625",
   "metadata": {},
   "outputs": [
    {
     "name": "stdout",
     "output_type": "stream",
     "text": [
      "Test Spearman Initially: 0.5860\n",
      "Epoch 1/3\n"
     ]
    },
    {
     "name": "stderr",
     "output_type": "stream",
     "text": [
      "                                                                                                                                     "
     ]
    },
    {
     "name": "stdout",
     "output_type": "stream",
     "text": [
      "Epoch 1/3\n",
      "  Train Loss: 0.1006\n",
      "  Val Spearman (-ve):   0.6584\n",
      "  -> Best model saved (val_loss improved to 0.6584)\n",
      "Epoch 2/3\n"
     ]
    },
    {
     "name": "stderr",
     "output_type": "stream",
     "text": [
      "                                                                                                                                     "
     ]
    },
    {
     "name": "stdout",
     "output_type": "stream",
     "text": [
      "Epoch 2/3\n",
      "  Train Loss: 0.0837\n",
      "  Val Spearman (-ve):   0.6693\n",
      "  -> Best model saved (val_loss improved to 0.6693)\n",
      "Epoch 3/3\n"
     ]
    },
    {
     "name": "stderr",
     "output_type": "stream",
     "text": [
      "                                                                                                                                     "
     ]
    },
    {
     "name": "stdout",
     "output_type": "stream",
     "text": [
      "Epoch 3/3\n",
      "  Train Loss: 0.0767\n",
      "  Val Spearman (-ve):   0.6755\n",
      "  -> Best model saved (val_loss improved to 0.6755)\n"
     ]
    },
    {
     "name": "stderr",
     "output_type": "stream",
     "text": [
      "/tmp/ipykernel_1794957/2885576036.py:26: FutureWarning: You are using `torch.load` with `weights_only=False` (the current default value), which uses the default pickle module implicitly. It is possible to construct malicious pickle data which will execute arbitrary code during unpickling (See https://github.com/pytorch/pytorch/blob/main/SECURITY.md#untrusted-models for more details). In a future release, the default value for `weights_only` will be flipped to `True`. This limits the functions that could be executed during unpickling. Arbitrary objects will no longer be allowed to be loaded via this mode unless they are explicitly allowlisted by the user via `torch.serialization.add_safe_globals`. We recommend you start setting `weights_only=True` for any use case where you don't have full control of the loaded file. Please open an issue on GitHub for any issues related to this experimental feature.\n",
      "  model.load_state_dict(torch.load('best_model.pt'))\n"
     ]
    },
    {
     "name": "stdout",
     "output_type": "stream",
     "text": [
      "Test Spearman: 0.6701\n"
     ]
    }
   ],
   "source": [
    "# Rest of training logic (same as before)\n",
    "model = SentenceEncoder().to(device)\n",
    "optimizer = torch.optim.AdamW(model.parameters(), lr=2e-5)\n",
    "num_epochs = 40\n",
    "\n",
    "test_spearman = validate(test_loader, model, device)  # Flip sign back\n",
    "print(f\"Test Spearman Initially: {test_spearman:.4f}\")\n",
    "\n",
    "best_val_spearman = float('-inf')\n",
    "for epoch in range(num_epochs):\n",
    "    print(f\"Epoch {epoch+1}/{num_epochs}\")\n",
    "\n",
    "    train_loss = train_one_epoch(train_loader, model, optimizer, device)\n",
    "    val_spearman = validate(val_loader, model, device)\n",
    "\n",
    "    print(f\"Epoch {epoch+1}/{num_epochs}\")\n",
    "    print(f\"  Train Loss: {train_loss:.4f}\")\n",
    "    print(f\"  Val Spearman (-ve):   {val_spearman:.4f}\")\n",
    "\n",
    "    if val_spearman > best_val_spearman:\n",
    "        best_val_spearman = val_spearman\n",
    "        torch.save(model.state_dict(), 'best_model.pt')\n",
    "        print(f\"  -> Best model saved (val_spearman improved to {best_val_spearman:.4f})\")\n",
    "\n",
    "# Final test\n",
    "model.load_state_dict(torch.load('best_model.pt'))\n",
    "test_spearman = validate(test_loader, model, device)  # Flip sign back\n",
    "print(f\"Test Spearman: {test_spearman:.4f}\")"
   ]
  },
  {
   "cell_type": "code",
   "execution_count": 7,
   "id": "9d0e2e1f-9d20-49c2-8fa0-ba45d36baa94",
   "metadata": {},
   "outputs": [
    {
     "name": "stderr",
     "output_type": "stream",
     "text": [
      "/tmp/ipykernel_1794957/3374019311.py:2: FutureWarning: You are using `torch.load` with `weights_only=False` (the current default value), which uses the default pickle module implicitly. It is possible to construct malicious pickle data which will execute arbitrary code during unpickling (See https://github.com/pytorch/pytorch/blob/main/SECURITY.md#untrusted-models for more details). In a future release, the default value for `weights_only` will be flipped to `True`. This limits the functions that could be executed during unpickling. Arbitrary objects will no longer be allowed to be loaded via this mode unless they are explicitly allowlisted by the user via `torch.serialization.add_safe_globals`. We recommend you start setting `weights_only=True` for any use case where you don't have full control of the loaded file. Please open an issue on GitHub for any issues related to this experimental feature.\n",
      "  model.load_state_dict(torch.load('best_model.pt'))\n"
     ]
    },
    {
     "name": "stdout",
     "output_type": "stream",
     "text": [
      "Test Spearman: 0.6701\n"
     ]
    }
   ],
   "source": [
    "# Final test\n",
    "model.load_state_dict(torch.load('best_model.pt'))\n",
    "test_spearman = validate(test_loader, model, device)  # Flip sign back\n",
    "print(f\"Test Spearman: {test_spearman:.4f}\")"
   ]
  },
  {
   "cell_type": "code",
   "execution_count": null,
   "id": "031c21e3-0a9a-40dd-ab58-092519649d69",
   "metadata": {},
   "outputs": [],
   "source": []
  }
 ],
 "metadata": {
  "kernelspec": {
   "display_name": "Python 3 (ipykernel)",
   "language": "python",
   "name": "python3"
  },
  "language_info": {
   "codemirror_mode": {
    "name": "ipython",
    "version": 3
   },
   "file_extension": ".py",
   "mimetype": "text/x-python",
   "name": "python",
   "nbconvert_exporter": "python",
   "pygments_lexer": "ipython3",
   "version": "3.11.11"
  }
 },
 "nbformat": 4,
 "nbformat_minor": 5
}
