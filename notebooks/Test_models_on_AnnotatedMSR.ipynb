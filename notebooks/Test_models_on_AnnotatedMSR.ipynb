{
 "cells": [
  {
   "cell_type": "code",
   "execution_count": 1,
   "id": "491a3530-0cb4-47e4-845c-72fdc690d68b",
   "metadata": {},
   "outputs": [
    {
     "name": "stderr",
     "output_type": "stream",
     "text": [
      "/cronus_data/vraja/dysarthria/lib/python3.11/site-packages/transformers/utils/hub.py:105: FutureWarning: Using `TRANSFORMERS_CACHE` is deprecated and will be removed in v5 of Transformers. Use `HF_HOME` instead.\n",
      "  warnings.warn(\n"
     ]
    },
    {
     "name": "stdout",
     "output_type": "stream",
     "text": [
      "Using device: cuda\n",
      "!!!!!!total problem rows =  0\n",
      "Loaded 408 sentence pairs\n",
      "Evaluating model: paws_hyp_384\n",
      "Initialized model\n"
     ]
    },
    {
     "name": "stderr",
     "output_type": "stream",
     "text": [
      "/tmp/ipykernel_1825589/1856010017.py:430: FutureWarning: You are using `torch.load` with `weights_only=False` (the current default value), which uses the default pickle module implicitly. It is possible to construct malicious pickle data which will execute arbitrary code during unpickling (See https://github.com/pytorch/pytorch/blob/main/SECURITY.md#untrusted-models for more details). In a future release, the default value for `weights_only` will be flipped to `True`. This limits the functions that could be executed during unpickling. Arbitrary objects will no longer be allowed to be loaded via this mode unless they are explicitly allowlisted by the user via `torch.serialization.add_safe_globals`. We recommend you start setting `weights_only=True` for any use case where you don't have full control of the loaded file. Please open an issue on GitHub for any issues related to this experimental feature.\n",
      "  model.load_state_dict(torch.load(model_path, map_location=device))\n",
      "Collecting distances: 100%|█████████████████████████████████████████████████████████████| 13/13 [00:02<00:00,  6.07it/s]\n"
     ]
    },
    {
     "name": "stdout",
     "output_type": "stream",
     "text": [
      "Optimal parameters: alpha=1.142, beta=-1.842, F1=0.806\n"
     ]
    },
    {
     "name": "stderr",
     "output_type": "stream",
     "text": [
      "Evaluating: 100%|███████████████████████████████████████████████████████████████████████| 13/13 [00:00<00:00, 25.00it/s]\n"
     ]
    },
    {
     "name": "stdout",
     "output_type": "stream",
     "text": [
      "Model: paws_hyp_384\n",
      "ROC AUC: 0.7378\n",
      "PR AUC: 0.8097\n",
      "Evaluating model: paws_hyp_192\n",
      "Initialized model\n"
     ]
    },
    {
     "name": "stderr",
     "output_type": "stream",
     "text": [
      "/tmp/ipykernel_1825589/1856010017.py:430: FutureWarning: You are using `torch.load` with `weights_only=False` (the current default value), which uses the default pickle module implicitly. It is possible to construct malicious pickle data which will execute arbitrary code during unpickling (See https://github.com/pytorch/pytorch/blob/main/SECURITY.md#untrusted-models for more details). In a future release, the default value for `weights_only` will be flipped to `True`. This limits the functions that could be executed during unpickling. Arbitrary objects will no longer be allowed to be loaded via this mode unless they are explicitly allowlisted by the user via `torch.serialization.add_safe_globals`. We recommend you start setting `weights_only=True` for any use case where you don't have full control of the loaded file. Please open an issue on GitHub for any issues related to this experimental feature.\n",
      "  model.load_state_dict(torch.load(model_path, map_location=device))\n",
      "Collecting distances: 100%|█████████████████████████████████████████████████████████████| 13/13 [00:00<00:00, 26.92it/s]\n"
     ]
    },
    {
     "name": "stdout",
     "output_type": "stream",
     "text": [
      "Optimal parameters: alpha=1.142, beta=1.316, F1=0.808\n"
     ]
    },
    {
     "name": "stderr",
     "output_type": "stream",
     "text": [
      "Evaluating: 100%|███████████████████████████████████████████████████████████████████████| 13/13 [00:00<00:00, 26.72it/s]\n"
     ]
    },
    {
     "name": "stdout",
     "output_type": "stream",
     "text": [
      "Model: paws_hyp_192\n",
      "ROC AUC: 0.7363\n",
      "PR AUC: 0.8008\n"
     ]
    },
    {
     "name": "stderr",
     "output_type": "stream",
     "text": [
      "/tmp/ipykernel_1825589/1856010017.py:430: FutureWarning: You are using `torch.load` with `weights_only=False` (the current default value), which uses the default pickle module implicitly. It is possible to construct malicious pickle data which will execute arbitrary code during unpickling (See https://github.com/pytorch/pytorch/blob/main/SECURITY.md#untrusted-models for more details). In a future release, the default value for `weights_only` will be flipped to `True`. This limits the functions that could be executed during unpickling. Arbitrary objects will no longer be allowed to be loaded via this mode unless they are explicitly allowlisted by the user via `torch.serialization.add_safe_globals`. We recommend you start setting `weights_only=True` for any use case where you don't have full control of the loaded file. Please open an issue on GitHub for any issues related to this experimental feature.\n",
      "  model.load_state_dict(torch.load(model_path, map_location=device))\n"
     ]
    },
    {
     "name": "stdout",
     "output_type": "stream",
     "text": [
      "Evaluating model: paws_hyp_96\n",
      "Initialized model\n"
     ]
    },
    {
     "name": "stderr",
     "output_type": "stream",
     "text": [
      "Collecting distances: 100%|█████████████████████████████████████████████████████████████| 13/13 [00:00<00:00, 27.00it/s]\n"
     ]
    },
    {
     "name": "stdout",
     "output_type": "stream",
     "text": [
      "Optimal parameters: alpha=1.663, beta=2.895, F1=0.805\n"
     ]
    },
    {
     "name": "stderr",
     "output_type": "stream",
     "text": [
      "Evaluating: 100%|███████████████████████████████████████████████████████████████████████| 13/13 [00:00<00:00, 25.76it/s]\n"
     ]
    },
    {
     "name": "stdout",
     "output_type": "stream",
     "text": [
      "Model: paws_hyp_96\n",
      "ROC AUC: 0.7198\n",
      "PR AUC: 0.7959\n",
      "Evaluating model: paws_hyp_64\n"
     ]
    },
    {
     "name": "stderr",
     "output_type": "stream",
     "text": [
      "/tmp/ipykernel_1825589/1856010017.py:430: FutureWarning: You are using `torch.load` with `weights_only=False` (the current default value), which uses the default pickle module implicitly. It is possible to construct malicious pickle data which will execute arbitrary code during unpickling (See https://github.com/pytorch/pytorch/blob/main/SECURITY.md#untrusted-models for more details). In a future release, the default value for `weights_only` will be flipped to `True`. This limits the functions that could be executed during unpickling. Arbitrary objects will no longer be allowed to be loaded via this mode unless they are explicitly allowlisted by the user via `torch.serialization.add_safe_globals`. We recommend you start setting `weights_only=True` for any use case where you don't have full control of the loaded file. Please open an issue on GitHub for any issues related to this experimental feature.\n",
      "  model.load_state_dict(torch.load(model_path, map_location=device))\n"
     ]
    },
    {
     "name": "stdout",
     "output_type": "stream",
     "text": [
      "Initialized model\n"
     ]
    },
    {
     "name": "stderr",
     "output_type": "stream",
     "text": [
      "Collecting distances: 100%|█████████████████████████████████████████████████████████████| 13/13 [00:00<00:00, 24.64it/s]\n"
     ]
    },
    {
     "name": "stdout",
     "output_type": "stream",
     "text": [
      "Optimal parameters: alpha=1.663, beta=2.368, F1=0.800\n"
     ]
    },
    {
     "name": "stderr",
     "output_type": "stream",
     "text": [
      "Evaluating: 100%|███████████████████████████████████████████████████████████████████████| 13/13 [00:00<00:00, 24.83it/s]\n"
     ]
    },
    {
     "name": "stdout",
     "output_type": "stream",
     "text": [
      "Model: paws_hyp_64\n",
      "ROC AUC: 0.7355\n",
      "PR AUC: 0.8043\n"
     ]
    },
    {
     "name": "stderr",
     "output_type": "stream",
     "text": [
      "/tmp/ipykernel_1825589/1856010017.py:430: FutureWarning: You are using `torch.load` with `weights_only=False` (the current default value), which uses the default pickle module implicitly. It is possible to construct malicious pickle data which will execute arbitrary code during unpickling (See https://github.com/pytorch/pytorch/blob/main/SECURITY.md#untrusted-models for more details). In a future release, the default value for `weights_only` will be flipped to `True`. This limits the functions that could be executed during unpickling. Arbitrary objects will no longer be allowed to be loaded via this mode unless they are explicitly allowlisted by the user via `torch.serialization.add_safe_globals`. We recommend you start setting `weights_only=True` for any use case where you don't have full control of the loaded file. Please open an issue on GitHub for any issues related to this experimental feature.\n",
      "  model.load_state_dict(torch.load(model_path, map_location=device))\n"
     ]
    },
    {
     "name": "stdout",
     "output_type": "stream",
     "text": [
      "Evaluating model: paws_hyp_48\n",
      "Initialized model\n"
     ]
    },
    {
     "name": "stderr",
     "output_type": "stream",
     "text": [
      "Collecting distances: 100%|█████████████████████████████████████████████████████████████| 13/13 [00:00<00:00, 25.43it/s]\n"
     ]
    },
    {
     "name": "stdout",
     "output_type": "stream",
     "text": [
      "Optimal parameters: alpha=0.621, beta=1.842, F1=0.809\n"
     ]
    },
    {
     "name": "stderr",
     "output_type": "stream",
     "text": [
      "Evaluating: 100%|███████████████████████████████████████████████████████████████████████| 13/13 [00:00<00:00, 25.48it/s]\n"
     ]
    },
    {
     "name": "stdout",
     "output_type": "stream",
     "text": [
      "Model: paws_hyp_48\n",
      "ROC AUC: 0.7263\n",
      "PR AUC: 0.7907\n"
     ]
    },
    {
     "name": "stderr",
     "output_type": "stream",
     "text": [
      "/tmp/ipykernel_1825589/1856010017.py:430: FutureWarning: You are using `torch.load` with `weights_only=False` (the current default value), which uses the default pickle module implicitly. It is possible to construct malicious pickle data which will execute arbitrary code during unpickling (See https://github.com/pytorch/pytorch/blob/main/SECURITY.md#untrusted-models for more details). In a future release, the default value for `weights_only` will be flipped to `True`. This limits the functions that could be executed during unpickling. Arbitrary objects will no longer be allowed to be loaded via this mode unless they are explicitly allowlisted by the user via `torch.serialization.add_safe_globals`. We recommend you start setting `weights_only=True` for any use case where you don't have full control of the loaded file. Please open an issue on GitHub for any issues related to this experimental feature.\n",
      "  model.load_state_dict(torch.load(model_path, map_location=device))\n"
     ]
    },
    {
     "name": "stdout",
     "output_type": "stream",
     "text": [
      "Evaluating model: paws_hyp_32\n",
      "Initialized model\n"
     ]
    },
    {
     "name": "stderr",
     "output_type": "stream",
     "text": [
      "Collecting distances: 100%|█████████████████████████████████████████████████████████████| 13/13 [00:00<00:00, 24.82it/s]\n"
     ]
    },
    {
     "name": "stdout",
     "output_type": "stream",
     "text": [
      "Optimal parameters: alpha=4.268, beta=-0.263, F1=0.790\n"
     ]
    },
    {
     "name": "stderr",
     "output_type": "stream",
     "text": [
      "Evaluating: 100%|███████████████████████████████████████████████████████████████████████| 13/13 [00:00<00:00, 23.75it/s]\n"
     ]
    },
    {
     "name": "stdout",
     "output_type": "stream",
     "text": [
      "Model: paws_hyp_32\n",
      "ROC AUC: 0.7253\n",
      "PR AUC: 0.8034\n",
      "Evaluating model: paws_hyp_24\n",
      "Initialized model\n"
     ]
    },
    {
     "name": "stderr",
     "output_type": "stream",
     "text": [
      "/tmp/ipykernel_1825589/1856010017.py:430: FutureWarning: You are using `torch.load` with `weights_only=False` (the current default value), which uses the default pickle module implicitly. It is possible to construct malicious pickle data which will execute arbitrary code during unpickling (See https://github.com/pytorch/pytorch/blob/main/SECURITY.md#untrusted-models for more details). In a future release, the default value for `weights_only` will be flipped to `True`. This limits the functions that could be executed during unpickling. Arbitrary objects will no longer be allowed to be loaded via this mode unless they are explicitly allowlisted by the user via `torch.serialization.add_safe_globals`. We recommend you start setting `weights_only=True` for any use case where you don't have full control of the loaded file. Please open an issue on GitHub for any issues related to this experimental feature.\n",
      "  model.load_state_dict(torch.load(model_path, map_location=device))\n",
      "Collecting distances: 100%|█████████████████████████████████████████████████████████████| 13/13 [00:00<00:00, 23.81it/s]\n"
     ]
    },
    {
     "name": "stdout",
     "output_type": "stream",
     "text": [
      "Optimal parameters: alpha=0.621, beta=2.895, F1=0.789\n"
     ]
    },
    {
     "name": "stderr",
     "output_type": "stream",
     "text": [
      "Evaluating: 100%|███████████████████████████████████████████████████████████████████████| 13/13 [00:00<00:00, 21.84it/s]\n"
     ]
    },
    {
     "name": "stdout",
     "output_type": "stream",
     "text": [
      "Model: paws_hyp_24\n",
      "ROC AUC: 0.7200\n",
      "PR AUC: 0.7964\n",
      "Evaluating model: paws_hyp_16\n"
     ]
    },
    {
     "name": "stderr",
     "output_type": "stream",
     "text": [
      "/tmp/ipykernel_1825589/1856010017.py:430: FutureWarning: You are using `torch.load` with `weights_only=False` (the current default value), which uses the default pickle module implicitly. It is possible to construct malicious pickle data which will execute arbitrary code during unpickling (See https://github.com/pytorch/pytorch/blob/main/SECURITY.md#untrusted-models for more details). In a future release, the default value for `weights_only` will be flipped to `True`. This limits the functions that could be executed during unpickling. Arbitrary objects will no longer be allowed to be loaded via this mode unless they are explicitly allowlisted by the user via `torch.serialization.add_safe_globals`. We recommend you start setting `weights_only=True` for any use case where you don't have full control of the loaded file. Please open an issue on GitHub for any issues related to this experimental feature.\n",
      "  model.load_state_dict(torch.load(model_path, map_location=device))\n"
     ]
    },
    {
     "name": "stdout",
     "output_type": "stream",
     "text": [
      "Initialized model\n"
     ]
    },
    {
     "name": "stderr",
     "output_type": "stream",
     "text": [
      "Collecting distances: 100%|█████████████████████████████████████████████████████████████| 13/13 [00:00<00:00, 25.26it/s]\n"
     ]
    },
    {
     "name": "stdout",
     "output_type": "stream",
     "text": [
      "Optimal parameters: alpha=0.100, beta=1.316, F1=0.786\n"
     ]
    },
    {
     "name": "stderr",
     "output_type": "stream",
     "text": [
      "Evaluating: 100%|███████████████████████████████████████████████████████████████████████| 13/13 [00:00<00:00, 28.63it/s]\n"
     ]
    },
    {
     "name": "stdout",
     "output_type": "stream",
     "text": [
      "Model: paws_hyp_16\n",
      "ROC AUC: 0.7064\n",
      "PR AUC: 0.7878\n"
     ]
    },
    {
     "name": "stderr",
     "output_type": "stream",
     "text": [
      "/tmp/ipykernel_1825589/1856010017.py:470: FutureWarning: You are using `torch.load` with `weights_only=False` (the current default value), which uses the default pickle module implicitly. It is possible to construct malicious pickle data which will execute arbitrary code during unpickling (See https://github.com/pytorch/pytorch/blob/main/SECURITY.md#untrusted-models for more details). In a future release, the default value for `weights_only` will be flipped to `True`. This limits the functions that could be executed during unpickling. Arbitrary objects will no longer be allowed to be loaded via this mode unless they are explicitly allowlisted by the user via `torch.serialization.add_safe_globals`. We recommend you start setting `weights_only=True` for any use case where you don't have full control of the loaded file. Please open an issue on GitHub for any issues related to this experimental feature.\n",
      "  model.load_state_dict(torch.load(model_path, map_location=device))\n"
     ]
    },
    {
     "name": "stdout",
     "output_type": "stream",
     "text": [
      "Evaluating model: hyp_384\n",
      "Initialized model\n"
     ]
    },
    {
     "name": "stderr",
     "output_type": "stream",
     "text": [
      "Collecting distances: 100%|█████████████████████████████████████████████████████████████| 13/13 [00:00<00:00, 28.00it/s]\n"
     ]
    },
    {
     "name": "stdout",
     "output_type": "stream",
     "text": [
      "Optimal parameters: alpha=0.100, beta=1.316, F1=0.798\n"
     ]
    },
    {
     "name": "stderr",
     "output_type": "stream",
     "text": [
      "Evaluating: 100%|███████████████████████████████████████████████████████████████████████| 13/13 [00:00<00:00, 29.28it/s]\n"
     ]
    },
    {
     "name": "stdout",
     "output_type": "stream",
     "text": [
      "Model: hyp_384\n",
      "ROC AUC: 0.7076\n",
      "PR AUC: 0.7825\n"
     ]
    },
    {
     "name": "stderr",
     "output_type": "stream",
     "text": [
      "/tmp/ipykernel_1825589/1856010017.py:470: FutureWarning: You are using `torch.load` with `weights_only=False` (the current default value), which uses the default pickle module implicitly. It is possible to construct malicious pickle data which will execute arbitrary code during unpickling (See https://github.com/pytorch/pytorch/blob/main/SECURITY.md#untrusted-models for more details). In a future release, the default value for `weights_only` will be flipped to `True`. This limits the functions that could be executed during unpickling. Arbitrary objects will no longer be allowed to be loaded via this mode unless they are explicitly allowlisted by the user via `torch.serialization.add_safe_globals`. We recommend you start setting `weights_only=True` for any use case where you don't have full control of the loaded file. Please open an issue on GitHub for any issues related to this experimental feature.\n",
      "  model.load_state_dict(torch.load(model_path, map_location=device))\n"
     ]
    },
    {
     "name": "stdout",
     "output_type": "stream",
     "text": [
      "Evaluating model: hyp_192\n",
      "Initialized model\n"
     ]
    },
    {
     "name": "stderr",
     "output_type": "stream",
     "text": [
      "Collecting distances: 100%|█████████████████████████████████████████████████████████████| 13/13 [00:00<00:00, 26.97it/s]\n"
     ]
    },
    {
     "name": "stdout",
     "output_type": "stream",
     "text": [
      "Optimal parameters: alpha=0.621, beta=-0.263, F1=0.801\n"
     ]
    },
    {
     "name": "stderr",
     "output_type": "stream",
     "text": [
      "Evaluating: 100%|███████████████████████████████████████████████████████████████████████| 13/13 [00:00<00:00, 23.96it/s]\n"
     ]
    },
    {
     "name": "stdout",
     "output_type": "stream",
     "text": [
      "Model: hyp_192\n",
      "ROC AUC: 0.7162\n",
      "PR AUC: 0.7845\n"
     ]
    },
    {
     "name": "stderr",
     "output_type": "stream",
     "text": [
      "/tmp/ipykernel_1825589/1856010017.py:470: FutureWarning: You are using `torch.load` with `weights_only=False` (the current default value), which uses the default pickle module implicitly. It is possible to construct malicious pickle data which will execute arbitrary code during unpickling (See https://github.com/pytorch/pytorch/blob/main/SECURITY.md#untrusted-models for more details). In a future release, the default value for `weights_only` will be flipped to `True`. This limits the functions that could be executed during unpickling. Arbitrary objects will no longer be allowed to be loaded via this mode unless they are explicitly allowlisted by the user via `torch.serialization.add_safe_globals`. We recommend you start setting `weights_only=True` for any use case where you don't have full control of the loaded file. Please open an issue on GitHub for any issues related to this experimental feature.\n",
      "  model.load_state_dict(torch.load(model_path, map_location=device))\n"
     ]
    },
    {
     "name": "stdout",
     "output_type": "stream",
     "text": [
      "Evaluating model: hyp_96\n",
      "Initialized model\n"
     ]
    },
    {
     "name": "stderr",
     "output_type": "stream",
     "text": [
      "Collecting distances: 100%|█████████████████████████████████████████████████████████████| 13/13 [00:00<00:00, 24.68it/s]\n"
     ]
    },
    {
     "name": "stdout",
     "output_type": "stream",
     "text": [
      "Optimal parameters: alpha=0.621, beta=2.368, F1=0.799\n"
     ]
    },
    {
     "name": "stderr",
     "output_type": "stream",
     "text": [
      "Evaluating: 100%|███████████████████████████████████████████████████████████████████████| 13/13 [00:00<00:00, 25.64it/s]\n"
     ]
    },
    {
     "name": "stdout",
     "output_type": "stream",
     "text": [
      "Model: hyp_96\n",
      "ROC AUC: 0.7111\n",
      "PR AUC: 0.7825\n",
      "Evaluating model: hyp_64\n",
      "Initialized model\n"
     ]
    },
    {
     "name": "stderr",
     "output_type": "stream",
     "text": [
      "/tmp/ipykernel_1825589/1856010017.py:470: FutureWarning: You are using `torch.load` with `weights_only=False` (the current default value), which uses the default pickle module implicitly. It is possible to construct malicious pickle data which will execute arbitrary code during unpickling (See https://github.com/pytorch/pytorch/blob/main/SECURITY.md#untrusted-models for more details). In a future release, the default value for `weights_only` will be flipped to `True`. This limits the functions that could be executed during unpickling. Arbitrary objects will no longer be allowed to be loaded via this mode unless they are explicitly allowlisted by the user via `torch.serialization.add_safe_globals`. We recommend you start setting `weights_only=True` for any use case where you don't have full control of the loaded file. Please open an issue on GitHub for any issues related to this experimental feature.\n",
      "  model.load_state_dict(torch.load(model_path, map_location=device))\n",
      "Collecting distances: 100%|█████████████████████████████████████████████████████████████| 13/13 [00:00<00:00, 27.15it/s]\n"
     ]
    },
    {
     "name": "stdout",
     "output_type": "stream",
     "text": [
      "Optimal parameters: alpha=2.705, beta=3.947, F1=0.799\n"
     ]
    },
    {
     "name": "stderr",
     "output_type": "stream",
     "text": [
      "Evaluating: 100%|███████████████████████████████████████████████████████████████████████| 13/13 [00:00<00:00, 29.68it/s]\n"
     ]
    },
    {
     "name": "stdout",
     "output_type": "stream",
     "text": [
      "Model: hyp_64\n",
      "ROC AUC: 0.7193\n",
      "PR AUC: 0.7823\n",
      "Evaluating model: hyp_48\n",
      "Initialized model\n"
     ]
    },
    {
     "name": "stderr",
     "output_type": "stream",
     "text": [
      "/tmp/ipykernel_1825589/1856010017.py:470: FutureWarning: You are using `torch.load` with `weights_only=False` (the current default value), which uses the default pickle module implicitly. It is possible to construct malicious pickle data which will execute arbitrary code during unpickling (See https://github.com/pytorch/pytorch/blob/main/SECURITY.md#untrusted-models for more details). In a future release, the default value for `weights_only` will be flipped to `True`. This limits the functions that could be executed during unpickling. Arbitrary objects will no longer be allowed to be loaded via this mode unless they are explicitly allowlisted by the user via `torch.serialization.add_safe_globals`. We recommend you start setting `weights_only=True` for any use case where you don't have full control of the loaded file. Please open an issue on GitHub for any issues related to this experimental feature.\n",
      "  model.load_state_dict(torch.load(model_path, map_location=device))\n",
      "Collecting distances: 100%|█████████████████████████████████████████████████████████████| 13/13 [00:00<00:00, 24.64it/s]\n"
     ]
    },
    {
     "name": "stdout",
     "output_type": "stream",
     "text": [
      "Optimal parameters: alpha=0.621, beta=-0.263, F1=0.799\n"
     ]
    },
    {
     "name": "stderr",
     "output_type": "stream",
     "text": [
      "Evaluating: 100%|███████████████████████████████████████████████████████████████████████| 13/13 [00:00<00:00, 28.86it/s]\n"
     ]
    },
    {
     "name": "stdout",
     "output_type": "stream",
     "text": [
      "Model: hyp_48\n",
      "ROC AUC: 0.7121\n",
      "PR AUC: 0.7853\n"
     ]
    },
    {
     "name": "stderr",
     "output_type": "stream",
     "text": [
      "/tmp/ipykernel_1825589/1856010017.py:470: FutureWarning: You are using `torch.load` with `weights_only=False` (the current default value), which uses the default pickle module implicitly. It is possible to construct malicious pickle data which will execute arbitrary code during unpickling (See https://github.com/pytorch/pytorch/blob/main/SECURITY.md#untrusted-models for more details). In a future release, the default value for `weights_only` will be flipped to `True`. This limits the functions that could be executed during unpickling. Arbitrary objects will no longer be allowed to be loaded via this mode unless they are explicitly allowlisted by the user via `torch.serialization.add_safe_globals`. We recommend you start setting `weights_only=True` for any use case where you don't have full control of the loaded file. Please open an issue on GitHub for any issues related to this experimental feature.\n",
      "  model.load_state_dict(torch.load(model_path, map_location=device))\n"
     ]
    },
    {
     "name": "stdout",
     "output_type": "stream",
     "text": [
      "Evaluating model: hyp_32\n",
      "Initialized model\n"
     ]
    },
    {
     "name": "stderr",
     "output_type": "stream",
     "text": [
      "Collecting distances: 100%|█████████████████████████████████████████████████████████████| 13/13 [00:00<00:00, 24.50it/s]\n"
     ]
    },
    {
     "name": "stdout",
     "output_type": "stream",
     "text": [
      "Optimal parameters: alpha=1.663, beta=2.895, F1=0.782\n"
     ]
    },
    {
     "name": "stderr",
     "output_type": "stream",
     "text": [
      "Evaluating: 100%|███████████████████████████████████████████████████████████████████████| 13/13 [00:00<00:00, 29.75it/s]\n"
     ]
    },
    {
     "name": "stdout",
     "output_type": "stream",
     "text": [
      "Model: hyp_32\n",
      "ROC AUC: 0.7039\n",
      "PR AUC: 0.7790\n",
      "Evaluating model: hyp_24\n"
     ]
    },
    {
     "name": "stderr",
     "output_type": "stream",
     "text": [
      "/tmp/ipykernel_1825589/1856010017.py:470: FutureWarning: You are using `torch.load` with `weights_only=False` (the current default value), which uses the default pickle module implicitly. It is possible to construct malicious pickle data which will execute arbitrary code during unpickling (See https://github.com/pytorch/pytorch/blob/main/SECURITY.md#untrusted-models for more details). In a future release, the default value for `weights_only` will be flipped to `True`. This limits the functions that could be executed during unpickling. Arbitrary objects will no longer be allowed to be loaded via this mode unless they are explicitly allowlisted by the user via `torch.serialization.add_safe_globals`. We recommend you start setting `weights_only=True` for any use case where you don't have full control of the loaded file. Please open an issue on GitHub for any issues related to this experimental feature.\n",
      "  model.load_state_dict(torch.load(model_path, map_location=device))\n"
     ]
    },
    {
     "name": "stdout",
     "output_type": "stream",
     "text": [
      "Initialized model\n"
     ]
    },
    {
     "name": "stderr",
     "output_type": "stream",
     "text": [
      "Collecting distances: 100%|█████████████████████████████████████████████████████████████| 13/13 [00:00<00:00, 25.59it/s]\n"
     ]
    },
    {
     "name": "stdout",
     "output_type": "stream",
     "text": [
      "Optimal parameters: alpha=1.142, beta=0.789, F1=0.797\n"
     ]
    },
    {
     "name": "stderr",
     "output_type": "stream",
     "text": [
      "Evaluating: 100%|███████████████████████████████████████████████████████████████████████| 13/13 [00:00<00:00, 27.55it/s]\n"
     ]
    },
    {
     "name": "stdout",
     "output_type": "stream",
     "text": [
      "Model: hyp_24\n",
      "ROC AUC: 0.7291\n",
      "PR AUC: 0.8011\n"
     ]
    },
    {
     "name": "stderr",
     "output_type": "stream",
     "text": [
      "/tmp/ipykernel_1825589/1856010017.py:470: FutureWarning: You are using `torch.load` with `weights_only=False` (the current default value), which uses the default pickle module implicitly. It is possible to construct malicious pickle data which will execute arbitrary code during unpickling (See https://github.com/pytorch/pytorch/blob/main/SECURITY.md#untrusted-models for more details). In a future release, the default value for `weights_only` will be flipped to `True`. This limits the functions that could be executed during unpickling. Arbitrary objects will no longer be allowed to be loaded via this mode unless they are explicitly allowlisted by the user via `torch.serialization.add_safe_globals`. We recommend you start setting `weights_only=True` for any use case where you don't have full control of the loaded file. Please open an issue on GitHub for any issues related to this experimental feature.\n",
      "  model.load_state_dict(torch.load(model_path, map_location=device))\n"
     ]
    },
    {
     "name": "stdout",
     "output_type": "stream",
     "text": [
      "Evaluating model: hyp_16\n",
      "Initialized model\n"
     ]
    },
    {
     "name": "stderr",
     "output_type": "stream",
     "text": [
      "Collecting distances: 100%|█████████████████████████████████████████████████████████████| 13/13 [00:00<00:00, 24.07it/s]\n"
     ]
    },
    {
     "name": "stdout",
     "output_type": "stream",
     "text": [
      "Optimal parameters: alpha=0.621, beta=-1.316, F1=0.797\n"
     ]
    },
    {
     "name": "stderr",
     "output_type": "stream",
     "text": [
      "Evaluating: 100%|███████████████████████████████████████████████████████████████████████| 13/13 [00:00<00:00, 25.27it/s]\n"
     ]
    },
    {
     "name": "stdout",
     "output_type": "stream",
     "text": [
      "Model: hyp_16\n",
      "ROC AUC: 0.6948\n",
      "PR AUC: 0.7752\n"
     ]
    },
    {
     "name": "stderr",
     "output_type": "stream",
     "text": [
      "/tmp/ipykernel_1825589/1856010017.py:525: FutureWarning: You are using `torch.load` with `weights_only=False` (the current default value), which uses the default pickle module implicitly. It is possible to construct malicious pickle data which will execute arbitrary code during unpickling (See https://github.com/pytorch/pytorch/blob/main/SECURITY.md#untrusted-models for more details). In a future release, the default value for `weights_only` will be flipped to `True`. This limits the functions that could be executed during unpickling. Arbitrary objects will no longer be allowed to be loaded via this mode unless they are explicitly allowlisted by the user via `torch.serialization.add_safe_globals`. We recommend you start setting `weights_only=True` for any use case where you don't have full control of the loaded file. Please open an issue on GitHub for any issues related to this experimental feature.\n",
      "  model.load_state_dict(torch.load(model_path, map_location=device))\n"
     ]
    },
    {
     "name": "stdout",
     "output_type": "stream",
     "text": [
      "!!!!!!total problem rows =  5\n",
      "Loaded 95 sentence pairs\n",
      "Evaluating model: paws_hyp_384\n",
      "Initialized model\n"
     ]
    },
    {
     "name": "stderr",
     "output_type": "stream",
     "text": [
      "Collecting distances: 100%|███████████████████████████████████████████████████████████████| 3/3 [00:00<00:00, 28.78it/s]\n"
     ]
    },
    {
     "name": "stdout",
     "output_type": "stream",
     "text": [
      "Optimal parameters: alpha=0.621, beta=0.263, F1=0.600\n"
     ]
    },
    {
     "name": "stderr",
     "output_type": "stream",
     "text": [
      "Evaluating: 100%|█████████████████████████████████████████████████████████████████████████| 3/3 [00:00<00:00, 28.15it/s]"
     ]
    },
    {
     "name": "stdout",
     "output_type": "stream",
     "text": [
      "Model: paws_hyp_384\n",
      "ROC AUC: 0.8953\n",
      "PR AUC: 0.5249\n"
     ]
    },
    {
     "name": "stderr",
     "output_type": "stream",
     "text": [
      "\n"
     ]
    },
    {
     "name": "stdout",
     "output_type": "stream",
     "text": [
      "Evaluating model: paws_hyp_192\n",
      "Initialized model\n"
     ]
    },
    {
     "name": "stderr",
     "output_type": "stream",
     "text": [
      "/tmp/ipykernel_1825589/1856010017.py:525: FutureWarning: You are using `torch.load` with `weights_only=False` (the current default value), which uses the default pickle module implicitly. It is possible to construct malicious pickle data which will execute arbitrary code during unpickling (See https://github.com/pytorch/pytorch/blob/main/SECURITY.md#untrusted-models for more details). In a future release, the default value for `weights_only` will be flipped to `True`. This limits the functions that could be executed during unpickling. Arbitrary objects will no longer be allowed to be loaded via this mode unless they are explicitly allowlisted by the user via `torch.serialization.add_safe_globals`. We recommend you start setting `weights_only=True` for any use case where you don't have full control of the loaded file. Please open an issue on GitHub for any issues related to this experimental feature.\n",
      "  model.load_state_dict(torch.load(model_path, map_location=device))\n",
      "Collecting distances: 100%|███████████████████████████████████████████████████████████████| 3/3 [00:00<00:00, 23.02it/s]\n"
     ]
    },
    {
     "name": "stdout",
     "output_type": "stream",
     "text": [
      "Optimal parameters: alpha=0.621, beta=0.263, F1=0.632\n"
     ]
    },
    {
     "name": "stderr",
     "output_type": "stream",
     "text": [
      "Evaluating: 100%|█████████████████████████████████████████████████████████████████████████| 3/3 [00:00<00:00, 26.38it/s]"
     ]
    },
    {
     "name": "stdout",
     "output_type": "stream",
     "text": [
      "Model: paws_hyp_192\n",
      "ROC AUC: 0.9059\n",
      "PR AUC: 0.5802\n"
     ]
    },
    {
     "name": "stderr",
     "output_type": "stream",
     "text": [
      "\n",
      "/tmp/ipykernel_1825589/1856010017.py:525: FutureWarning: You are using `torch.load` with `weights_only=False` (the current default value), which uses the default pickle module implicitly. It is possible to construct malicious pickle data which will execute arbitrary code during unpickling (See https://github.com/pytorch/pytorch/blob/main/SECURITY.md#untrusted-models for more details). In a future release, the default value for `weights_only` will be flipped to `True`. This limits the functions that could be executed during unpickling. Arbitrary objects will no longer be allowed to be loaded via this mode unless they are explicitly allowlisted by the user via `torch.serialization.add_safe_globals`. We recommend you start setting `weights_only=True` for any use case where you don't have full control of the loaded file. Please open an issue on GitHub for any issues related to this experimental feature.\n",
      "  model.load_state_dict(torch.load(model_path, map_location=device))\n"
     ]
    },
    {
     "name": "stdout",
     "output_type": "stream",
     "text": [
      "Evaluating model: paws_hyp_96\n",
      "Initialized model\n"
     ]
    },
    {
     "name": "stderr",
     "output_type": "stream",
     "text": [
      "Collecting distances: 100%|███████████████████████████████████████████████████████████████| 3/3 [00:00<00:00, 27.93it/s]\n"
     ]
    },
    {
     "name": "stdout",
     "output_type": "stream",
     "text": [
      "Optimal parameters: alpha=0.100, beta=-0.263, F1=0.588\n"
     ]
    },
    {
     "name": "stderr",
     "output_type": "stream",
     "text": [
      "Evaluating: 100%|█████████████████████████████████████████████████████████████████████████| 3/3 [00:00<00:00, 26.37it/s]"
     ]
    },
    {
     "name": "stdout",
     "output_type": "stream",
     "text": [
      "Model: paws_hyp_96\n",
      "ROC AUC: 0.8824\n",
      "PR AUC: 0.4865\n"
     ]
    },
    {
     "name": "stderr",
     "output_type": "stream",
     "text": [
      "\n",
      "/tmp/ipykernel_1825589/1856010017.py:525: FutureWarning: You are using `torch.load` with `weights_only=False` (the current default value), which uses the default pickle module implicitly. It is possible to construct malicious pickle data which will execute arbitrary code during unpickling (See https://github.com/pytorch/pytorch/blob/main/SECURITY.md#untrusted-models for more details). In a future release, the default value for `weights_only` will be flipped to `True`. This limits the functions that could be executed during unpickling. Arbitrary objects will no longer be allowed to be loaded via this mode unless they are explicitly allowlisted by the user via `torch.serialization.add_safe_globals`. We recommend you start setting `weights_only=True` for any use case where you don't have full control of the loaded file. Please open an issue on GitHub for any issues related to this experimental feature.\n",
      "  model.load_state_dict(torch.load(model_path, map_location=device))\n"
     ]
    },
    {
     "name": "stdout",
     "output_type": "stream",
     "text": [
      "Evaluating model: paws_hyp_64\n",
      "Initialized model\n"
     ]
    },
    {
     "name": "stderr",
     "output_type": "stream",
     "text": [
      "Collecting distances: 100%|███████████████████████████████████████████████████████████████| 3/3 [00:00<00:00, 28.36it/s]\n"
     ]
    },
    {
     "name": "stdout",
     "output_type": "stream",
     "text": [
      "Optimal parameters: alpha=0.621, beta=-0.789, F1=0.667\n"
     ]
    },
    {
     "name": "stderr",
     "output_type": "stream",
     "text": [
      "Evaluating: 100%|█████████████████████████████████████████████████████████████████████████| 3/3 [00:00<00:00, 27.64it/s]"
     ]
    },
    {
     "name": "stdout",
     "output_type": "stream",
     "text": [
      "Model: paws_hyp_64\n",
      "ROC AUC: 0.8776\n",
      "PR AUC: 0.5985\n"
     ]
    },
    {
     "name": "stderr",
     "output_type": "stream",
     "text": [
      "\n",
      "/tmp/ipykernel_1825589/1856010017.py:525: FutureWarning: You are using `torch.load` with `weights_only=False` (the current default value), which uses the default pickle module implicitly. It is possible to construct malicious pickle data which will execute arbitrary code during unpickling (See https://github.com/pytorch/pytorch/blob/main/SECURITY.md#untrusted-models for more details). In a future release, the default value for `weights_only` will be flipped to `True`. This limits the functions that could be executed during unpickling. Arbitrary objects will no longer be allowed to be loaded via this mode unless they are explicitly allowlisted by the user via `torch.serialization.add_safe_globals`. We recommend you start setting `weights_only=True` for any use case where you don't have full control of the loaded file. Please open an issue on GitHub for any issues related to this experimental feature.\n",
      "  model.load_state_dict(torch.load(model_path, map_location=device))\n"
     ]
    },
    {
     "name": "stdout",
     "output_type": "stream",
     "text": [
      "Evaluating model: paws_hyp_48\n",
      "Initialized model\n"
     ]
    },
    {
     "name": "stderr",
     "output_type": "stream",
     "text": [
      "Collecting distances: 100%|███████████████████████████████████████████████████████████████| 3/3 [00:00<00:00, 26.96it/s]\n"
     ]
    },
    {
     "name": "stdout",
     "output_type": "stream",
     "text": [
      "Optimal parameters: alpha=1.142, beta=-3.947, F1=0.636\n"
     ]
    },
    {
     "name": "stderr",
     "output_type": "stream",
     "text": [
      "Evaluating: 100%|█████████████████████████████████████████████████████████████████████████| 3/3 [00:00<00:00, 29.58it/s]"
     ]
    },
    {
     "name": "stdout",
     "output_type": "stream",
     "text": [
      "Model: paws_hyp_48\n",
      "ROC AUC: 0.8871\n",
      "PR AUC: 0.6240\n"
     ]
    },
    {
     "name": "stderr",
     "output_type": "stream",
     "text": [
      "\n",
      "/tmp/ipykernel_1825589/1856010017.py:525: FutureWarning: You are using `torch.load` with `weights_only=False` (the current default value), which uses the default pickle module implicitly. It is possible to construct malicious pickle data which will execute arbitrary code during unpickling (See https://github.com/pytorch/pytorch/blob/main/SECURITY.md#untrusted-models for more details). In a future release, the default value for `weights_only` will be flipped to `True`. This limits the functions that could be executed during unpickling. Arbitrary objects will no longer be allowed to be loaded via this mode unless they are explicitly allowlisted by the user via `torch.serialization.add_safe_globals`. We recommend you start setting `weights_only=True` for any use case where you don't have full control of the loaded file. Please open an issue on GitHub for any issues related to this experimental feature.\n",
      "  model.load_state_dict(torch.load(model_path, map_location=device))\n"
     ]
    },
    {
     "name": "stdout",
     "output_type": "stream",
     "text": [
      "Evaluating model: paws_hyp_32\n",
      "Initialized model\n"
     ]
    },
    {
     "name": "stderr",
     "output_type": "stream",
     "text": [
      "Collecting distances: 100%|███████████████████████████████████████████████████████████████| 3/3 [00:00<00:00, 27.20it/s]\n"
     ]
    },
    {
     "name": "stdout",
     "output_type": "stream",
     "text": [
      "Optimal parameters: alpha=0.100, beta=-1.842, F1=0.600\n"
     ]
    },
    {
     "name": "stderr",
     "output_type": "stream",
     "text": [
      "Evaluating: 100%|█████████████████████████████████████████████████████████████████████████| 3/3 [00:00<00:00, 27.47it/s]"
     ]
    },
    {
     "name": "stdout",
     "output_type": "stream",
     "text": [
      "Model: paws_hyp_32\n",
      "ROC AUC: 0.8824\n",
      "PR AUC: 0.5656\n"
     ]
    },
    {
     "name": "stderr",
     "output_type": "stream",
     "text": [
      "\n",
      "/tmp/ipykernel_1825589/1856010017.py:525: FutureWarning: You are using `torch.load` with `weights_only=False` (the current default value), which uses the default pickle module implicitly. It is possible to construct malicious pickle data which will execute arbitrary code during unpickling (See https://github.com/pytorch/pytorch/blob/main/SECURITY.md#untrusted-models for more details). In a future release, the default value for `weights_only` will be flipped to `True`. This limits the functions that could be executed during unpickling. Arbitrary objects will no longer be allowed to be loaded via this mode unless they are explicitly allowlisted by the user via `torch.serialization.add_safe_globals`. We recommend you start setting `weights_only=True` for any use case where you don't have full control of the loaded file. Please open an issue on GitHub for any issues related to this experimental feature.\n",
      "  model.load_state_dict(torch.load(model_path, map_location=device))\n"
     ]
    },
    {
     "name": "stdout",
     "output_type": "stream",
     "text": [
      "Evaluating model: paws_hyp_24\n",
      "Initialized model\n"
     ]
    },
    {
     "name": "stderr",
     "output_type": "stream",
     "text": [
      "Collecting distances: 100%|███████████████████████████████████████████████████████████████| 3/3 [00:00<00:00, 25.92it/s]\n"
     ]
    },
    {
     "name": "stdout",
     "output_type": "stream",
     "text": [
      "Optimal parameters: alpha=0.621, beta=2.895, F1=0.545\n"
     ]
    },
    {
     "name": "stderr",
     "output_type": "stream",
     "text": [
      "Evaluating: 100%|█████████████████████████████████████████████████████████████████████████| 3/3 [00:00<00:00, 26.96it/s]"
     ]
    },
    {
     "name": "stdout",
     "output_type": "stream",
     "text": [
      "Model: paws_hyp_24\n",
      "ROC AUC: 0.8776\n",
      "PR AUC: 0.4365\n"
     ]
    },
    {
     "name": "stderr",
     "output_type": "stream",
     "text": [
      "\n",
      "/tmp/ipykernel_1825589/1856010017.py:525: FutureWarning: You are using `torch.load` with `weights_only=False` (the current default value), which uses the default pickle module implicitly. It is possible to construct malicious pickle data which will execute arbitrary code during unpickling (See https://github.com/pytorch/pytorch/blob/main/SECURITY.md#untrusted-models for more details). In a future release, the default value for `weights_only` will be flipped to `True`. This limits the functions that could be executed during unpickling. Arbitrary objects will no longer be allowed to be loaded via this mode unless they are explicitly allowlisted by the user via `torch.serialization.add_safe_globals`. We recommend you start setting `weights_only=True` for any use case where you don't have full control of the loaded file. Please open an issue on GitHub for any issues related to this experimental feature.\n",
      "  model.load_state_dict(torch.load(model_path, map_location=device))\n"
     ]
    },
    {
     "name": "stdout",
     "output_type": "stream",
     "text": [
      "Evaluating model: paws_hyp_16\n",
      "Initialized model\n"
     ]
    },
    {
     "name": "stderr",
     "output_type": "stream",
     "text": [
      "Collecting distances: 100%|███████████████████████████████████████████████████████████████| 3/3 [00:00<00:00, 24.07it/s]\n"
     ]
    },
    {
     "name": "stdout",
     "output_type": "stream",
     "text": [
      "Optimal parameters: alpha=0.100, beta=-1.842, F1=0.588\n"
     ]
    },
    {
     "name": "stderr",
     "output_type": "stream",
     "text": [
      "Evaluating: 100%|█████████████████████████████████████████████████████████████████████████| 3/3 [00:00<00:00, 27.78it/s]"
     ]
    },
    {
     "name": "stdout",
     "output_type": "stream",
     "text": [
      "Model: paws_hyp_16\n",
      "ROC AUC: 0.8788\n",
      "PR AUC: 0.5081\n"
     ]
    },
    {
     "name": "stderr",
     "output_type": "stream",
     "text": [
      "\n"
     ]
    },
    {
     "name": "stdout",
     "output_type": "stream",
     "text": [
      "Evaluating model: hyp_384\n"
     ]
    },
    {
     "name": "stderr",
     "output_type": "stream",
     "text": [
      "/tmp/ipykernel_1825589/1856010017.py:565: FutureWarning: You are using `torch.load` with `weights_only=False` (the current default value), which uses the default pickle module implicitly. It is possible to construct malicious pickle data which will execute arbitrary code during unpickling (See https://github.com/pytorch/pytorch/blob/main/SECURITY.md#untrusted-models for more details). In a future release, the default value for `weights_only` will be flipped to `True`. This limits the functions that could be executed during unpickling. Arbitrary objects will no longer be allowed to be loaded via this mode unless they are explicitly allowlisted by the user via `torch.serialization.add_safe_globals`. We recommend you start setting `weights_only=True` for any use case where you don't have full control of the loaded file. Please open an issue on GitHub for any issues related to this experimental feature.\n",
      "  model.load_state_dict(torch.load(model_path, map_location=device))\n"
     ]
    },
    {
     "name": "stdout",
     "output_type": "stream",
     "text": [
      "Initialized model\n"
     ]
    },
    {
     "name": "stderr",
     "output_type": "stream",
     "text": [
      "Collecting distances: 100%|███████████████████████████████████████████████████████████████| 3/3 [00:00<00:00, 24.28it/s]\n"
     ]
    },
    {
     "name": "stdout",
     "output_type": "stream",
     "text": [
      "Optimal parameters: alpha=0.100, beta=1.316, F1=0.600\n"
     ]
    },
    {
     "name": "stderr",
     "output_type": "stream",
     "text": [
      "Evaluating: 100%|█████████████████████████████████████████████████████████████████████████| 3/3 [00:00<00:00, 22.59it/s]"
     ]
    },
    {
     "name": "stdout",
     "output_type": "stream",
     "text": [
      "Model: hyp_384\n",
      "ROC AUC: 0.9106\n",
      "PR AUC: 0.5717\n"
     ]
    },
    {
     "name": "stderr",
     "output_type": "stream",
     "text": [
      "\n",
      "/tmp/ipykernel_1825589/1856010017.py:565: FutureWarning: You are using `torch.load` with `weights_only=False` (the current default value), which uses the default pickle module implicitly. It is possible to construct malicious pickle data which will execute arbitrary code during unpickling (See https://github.com/pytorch/pytorch/blob/main/SECURITY.md#untrusted-models for more details). In a future release, the default value for `weights_only` will be flipped to `True`. This limits the functions that could be executed during unpickling. Arbitrary objects will no longer be allowed to be loaded via this mode unless they are explicitly allowlisted by the user via `torch.serialization.add_safe_globals`. We recommend you start setting `weights_only=True` for any use case where you don't have full control of the loaded file. Please open an issue on GitHub for any issues related to this experimental feature.\n",
      "  model.load_state_dict(torch.load(model_path, map_location=device))\n"
     ]
    },
    {
     "name": "stdout",
     "output_type": "stream",
     "text": [
      "Evaluating model: hyp_192\n",
      "Initialized model\n"
     ]
    },
    {
     "name": "stderr",
     "output_type": "stream",
     "text": [
      "Collecting distances: 100%|███████████████████████████████████████████████████████████████| 3/3 [00:00<00:00, 26.05it/s]\n"
     ]
    },
    {
     "name": "stdout",
     "output_type": "stream",
     "text": [
      "Optimal parameters: alpha=0.100, beta=2.368, F1=0.632\n"
     ]
    },
    {
     "name": "stderr",
     "output_type": "stream",
     "text": [
      "Evaluating: 100%|█████████████████████████████████████████████████████████████████████████| 3/3 [00:00<00:00, 25.15it/s]"
     ]
    },
    {
     "name": "stdout",
     "output_type": "stream",
     "text": [
      "Model: hyp_192\n",
      "ROC AUC: 0.9118\n",
      "PR AUC: 0.5643\n"
     ]
    },
    {
     "name": "stderr",
     "output_type": "stream",
     "text": [
      "\n",
      "/tmp/ipykernel_1825589/1856010017.py:565: FutureWarning: You are using `torch.load` with `weights_only=False` (the current default value), which uses the default pickle module implicitly. It is possible to construct malicious pickle data which will execute arbitrary code during unpickling (See https://github.com/pytorch/pytorch/blob/main/SECURITY.md#untrusted-models for more details). In a future release, the default value for `weights_only` will be flipped to `True`. This limits the functions that could be executed during unpickling. Arbitrary objects will no longer be allowed to be loaded via this mode unless they are explicitly allowlisted by the user via `torch.serialization.add_safe_globals`. We recommend you start setting `weights_only=True` for any use case where you don't have full control of the loaded file. Please open an issue on GitHub for any issues related to this experimental feature.\n",
      "  model.load_state_dict(torch.load(model_path, map_location=device))\n"
     ]
    },
    {
     "name": "stdout",
     "output_type": "stream",
     "text": [
      "Evaluating model: hyp_96\n",
      "Initialized model\n"
     ]
    },
    {
     "name": "stderr",
     "output_type": "stream",
     "text": [
      "Collecting distances: 100%|███████████████████████████████████████████████████████████████| 3/3 [00:00<00:00, 29.65it/s]\n"
     ]
    },
    {
     "name": "stdout",
     "output_type": "stream",
     "text": [
      "Optimal parameters: alpha=1.663, beta=3.421, F1=0.632\n"
     ]
    },
    {
     "name": "stderr",
     "output_type": "stream",
     "text": [
      "Evaluating: 100%|█████████████████████████████████████████████████████████████████████████| 3/3 [00:00<00:00, 23.23it/s]"
     ]
    },
    {
     "name": "stdout",
     "output_type": "stream",
     "text": [
      "Model: hyp_96\n",
      "ROC AUC: 0.9082\n",
      "PR AUC: 0.5592\n"
     ]
    },
    {
     "name": "stderr",
     "output_type": "stream",
     "text": [
      "\n",
      "/tmp/ipykernel_1825589/1856010017.py:565: FutureWarning: You are using `torch.load` with `weights_only=False` (the current default value), which uses the default pickle module implicitly. It is possible to construct malicious pickle data which will execute arbitrary code during unpickling (See https://github.com/pytorch/pytorch/blob/main/SECURITY.md#untrusted-models for more details). In a future release, the default value for `weights_only` will be flipped to `True`. This limits the functions that could be executed during unpickling. Arbitrary objects will no longer be allowed to be loaded via this mode unless they are explicitly allowlisted by the user via `torch.serialization.add_safe_globals`. We recommend you start setting `weights_only=True` for any use case where you don't have full control of the loaded file. Please open an issue on GitHub for any issues related to this experimental feature.\n",
      "  model.load_state_dict(torch.load(model_path, map_location=device))\n"
     ]
    },
    {
     "name": "stdout",
     "output_type": "stream",
     "text": [
      "Evaluating model: hyp_64\n",
      "Initialized model\n"
     ]
    },
    {
     "name": "stderr",
     "output_type": "stream",
     "text": [
      "Collecting distances: 100%|███████████████████████████████████████████████████████████████| 3/3 [00:00<00:00, 21.67it/s]\n"
     ]
    },
    {
     "name": "stdout",
     "output_type": "stream",
     "text": [
      "Optimal parameters: alpha=0.100, beta=0.263, F1=0.593\n"
     ]
    },
    {
     "name": "stderr",
     "output_type": "stream",
     "text": [
      "Evaluating: 100%|█████████████████████████████████████████████████████████████████████████| 3/3 [00:00<00:00, 19.66it/s]"
     ]
    },
    {
     "name": "stdout",
     "output_type": "stream",
     "text": [
      "Model: hyp_64\n",
      "ROC AUC: 0.9200\n",
      "PR AUC: 0.5806\n"
     ]
    },
    {
     "name": "stderr",
     "output_type": "stream",
     "text": [
      "\n",
      "/tmp/ipykernel_1825589/1856010017.py:565: FutureWarning: You are using `torch.load` with `weights_only=False` (the current default value), which uses the default pickle module implicitly. It is possible to construct malicious pickle data which will execute arbitrary code during unpickling (See https://github.com/pytorch/pytorch/blob/main/SECURITY.md#untrusted-models for more details). In a future release, the default value for `weights_only` will be flipped to `True`. This limits the functions that could be executed during unpickling. Arbitrary objects will no longer be allowed to be loaded via this mode unless they are explicitly allowlisted by the user via `torch.serialization.add_safe_globals`. We recommend you start setting `weights_only=True` for any use case where you don't have full control of the loaded file. Please open an issue on GitHub for any issues related to this experimental feature.\n",
      "  model.load_state_dict(torch.load(model_path, map_location=device))\n"
     ]
    },
    {
     "name": "stdout",
     "output_type": "stream",
     "text": [
      "Evaluating model: hyp_48\n",
      "Initialized model\n"
     ]
    },
    {
     "name": "stderr",
     "output_type": "stream",
     "text": [
      "Collecting distances: 100%|███████████████████████████████████████████████████████████████| 3/3 [00:00<00:00, 22.62it/s]\n"
     ]
    },
    {
     "name": "stdout",
     "output_type": "stream",
     "text": [
      "Optimal parameters: alpha=0.621, beta=0.789, F1=0.625\n"
     ]
    },
    {
     "name": "stderr",
     "output_type": "stream",
     "text": [
      "Evaluating: 100%|█████████████████████████████████████████████████████████████████████████| 3/3 [00:00<00:00, 26.90it/s]"
     ]
    },
    {
     "name": "stdout",
     "output_type": "stream",
     "text": [
      "Model: hyp_48\n",
      "ROC AUC: 0.9188\n",
      "PR AUC: 0.6201\n"
     ]
    },
    {
     "name": "stderr",
     "output_type": "stream",
     "text": [
      "\n"
     ]
    },
    {
     "name": "stdout",
     "output_type": "stream",
     "text": [
      "Evaluating model: hyp_32\n",
      "Initialized model\n"
     ]
    },
    {
     "name": "stderr",
     "output_type": "stream",
     "text": [
      "/tmp/ipykernel_1825589/1856010017.py:565: FutureWarning: You are using `torch.load` with `weights_only=False` (the current default value), which uses the default pickle module implicitly. It is possible to construct malicious pickle data which will execute arbitrary code during unpickling (See https://github.com/pytorch/pytorch/blob/main/SECURITY.md#untrusted-models for more details). In a future release, the default value for `weights_only` will be flipped to `True`. This limits the functions that could be executed during unpickling. Arbitrary objects will no longer be allowed to be loaded via this mode unless they are explicitly allowlisted by the user via `torch.serialization.add_safe_globals`. We recommend you start setting `weights_only=True` for any use case where you don't have full control of the loaded file. Please open an issue on GitHub for any issues related to this experimental feature.\n",
      "  model.load_state_dict(torch.load(model_path, map_location=device))\n",
      "Collecting distances: 100%|███████████████████████████████████████████████████████████████| 3/3 [00:00<00:00, 24.06it/s]\n"
     ]
    },
    {
     "name": "stdout",
     "output_type": "stream",
     "text": [
      "Optimal parameters: alpha=0.100, beta=-4.474, F1=0.600\n"
     ]
    },
    {
     "name": "stderr",
     "output_type": "stream",
     "text": [
      "Evaluating: 100%|█████████████████████████████████████████████████████████████████████████| 3/3 [00:00<00:00, 21.00it/s]"
     ]
    },
    {
     "name": "stdout",
     "output_type": "stream",
     "text": [
      "Model: hyp_32\n",
      "ROC AUC: 0.9094\n",
      "PR AUC: 0.5479\n"
     ]
    },
    {
     "name": "stderr",
     "output_type": "stream",
     "text": [
      "\n",
      "/tmp/ipykernel_1825589/1856010017.py:565: FutureWarning: You are using `torch.load` with `weights_only=False` (the current default value), which uses the default pickle module implicitly. It is possible to construct malicious pickle data which will execute arbitrary code during unpickling (See https://github.com/pytorch/pytorch/blob/main/SECURITY.md#untrusted-models for more details). In a future release, the default value for `weights_only` will be flipped to `True`. This limits the functions that could be executed during unpickling. Arbitrary objects will no longer be allowed to be loaded via this mode unless they are explicitly allowlisted by the user via `torch.serialization.add_safe_globals`. We recommend you start setting `weights_only=True` for any use case where you don't have full control of the loaded file. Please open an issue on GitHub for any issues related to this experimental feature.\n",
      "  model.load_state_dict(torch.load(model_path, map_location=device))\n"
     ]
    },
    {
     "name": "stdout",
     "output_type": "stream",
     "text": [
      "Evaluating model: hyp_24\n",
      "Initialized model\n"
     ]
    },
    {
     "name": "stderr",
     "output_type": "stream",
     "text": [
      "Collecting distances: 100%|███████████████████████████████████████████████████████████████| 3/3 [00:00<00:00, 25.60it/s]\n"
     ]
    },
    {
     "name": "stdout",
     "output_type": "stream",
     "text": [
      "Optimal parameters: alpha=0.100, beta=-0.789, F1=0.632\n"
     ]
    },
    {
     "name": "stderr",
     "output_type": "stream",
     "text": [
      "Evaluating: 100%|█████████████████████████████████████████████████████████████████████████| 3/3 [00:00<00:00, 25.20it/s]"
     ]
    },
    {
     "name": "stdout",
     "output_type": "stream",
     "text": [
      "Model: hyp_24\n",
      "ROC AUC: 0.9129\n",
      "PR AUC: 0.5540\n"
     ]
    },
    {
     "name": "stderr",
     "output_type": "stream",
     "text": [
      "\n"
     ]
    },
    {
     "name": "stdout",
     "output_type": "stream",
     "text": [
      "Evaluating model: hyp_16\n",
      "Initialized model\n"
     ]
    },
    {
     "name": "stderr",
     "output_type": "stream",
     "text": [
      "/tmp/ipykernel_1825589/1856010017.py:565: FutureWarning: You are using `torch.load` with `weights_only=False` (the current default value), which uses the default pickle module implicitly. It is possible to construct malicious pickle data which will execute arbitrary code during unpickling (See https://github.com/pytorch/pytorch/blob/main/SECURITY.md#untrusted-models for more details). In a future release, the default value for `weights_only` will be flipped to `True`. This limits the functions that could be executed during unpickling. Arbitrary objects will no longer be allowed to be loaded via this mode unless they are explicitly allowlisted by the user via `torch.serialization.add_safe_globals`. We recommend you start setting `weights_only=True` for any use case where you don't have full control of the loaded file. Please open an issue on GitHub for any issues related to this experimental feature.\n",
      "  model.load_state_dict(torch.load(model_path, map_location=device))\n",
      "Collecting distances: 100%|███████████████████████████████████████████████████████████████| 3/3 [00:00<00:00, 20.42it/s]\n"
     ]
    },
    {
     "name": "stdout",
     "output_type": "stream",
     "text": [
      "Optimal parameters: alpha=0.100, beta=-0.263, F1=0.588\n"
     ]
    },
    {
     "name": "stderr",
     "output_type": "stream",
     "text": [
      "Evaluating: 100%|█████████████████████████████████████████████████████████████████████████| 3/3 [00:00<00:00, 25.69it/s]"
     ]
    },
    {
     "name": "stdout",
     "output_type": "stream",
     "text": [
      "Model: hyp_16\n",
      "ROC AUC: 0.8753\n",
      "PR AUC: 0.5136\n"
     ]
    },
    {
     "name": "stderr",
     "output_type": "stream",
     "text": [
      "\n"
     ]
    }
   ],
   "source": [
    "import torch\n",
    "from torch.utils.data import Dataset, DataLoader\n",
    "import torch.nn as nn\n",
    "import torch.nn.functional as F\n",
    "import csv\n",
    "import os\n",
    "from transformers import AutoTokenizer, AutoModel\n",
    "from torch.utils.data import random_split\n",
    "from sklearn.model_selection import GroupShuffleSplit\n",
    "from scipy.stats import spearmanr\n",
    "from tqdm import tqdm \n",
    "import geoopt\n",
    "from datetime import datetime\n",
    "import json\n",
    "import numpy as np\n",
    "from transformers import AutoTokenizer, AutoModel\n",
    "from sklearn.metrics import roc_curve, auc, precision_recall_curve, average_precision_score\n",
    "import matplotlib.pyplot as plt\n",
    "from tqdm import tqdm\n",
    "from scipy.special import expit  # For sigmoid function\n",
    "\n",
    "# Assuming you've already defined your model and poincare_distance function as in the original code\n",
    "# Let's redefine them here to make this script standalone\n",
    "\n",
    "class HyperbolicMapper(torch.nn.Module):\n",
    "    def __init__(self, sbert_model_name='sentence-transformers/all-MiniLM-L6-v2', output_dim=32):\n",
    "        super(HyperbolicMapper, self).__init__()\n",
    "        # Frozen SBERT\n",
    "        self.sbert = AutoModel.from_pretrained(sbert_model_name)\n",
    "        for param in self.sbert.parameters():\n",
    "            param.requires_grad = False\n",
    "        \n",
    "        sbert_hidden_dim = self.sbert.config.hidden_size\n",
    "        self.curvature = torch.nn.Parameter(torch.tensor(1.0))\n",
    "        self.temperature = torch.nn.Parameter(torch.tensor(1.0))\n",
    "        self.projection = nn.Sequential(\n",
    "            # nn.LayerNorm(sbert_hidden_dim),\n",
    "            # nn.Linear(sbert_hidden_dim, sbert_hidden_dim//2),\n",
    "            # nn.GELU(),\n",
    "            # nn.Linear(sbert_hidden_dim//2, output_dim))\n",
    "            nn.Linear(sbert_hidden_dim, output_dim))\n",
    "        print(\"Initialized model\")\n",
    "\n",
    "    def poincare_project(self, x):\n",
    "        x = x / self.temperature\n",
    "        norm = torch.norm(x, p=2, dim=-1, keepdim=True)\n",
    "        scale = (1 - 1e-5) / torch.clamp(norm * torch.sqrt(self.curvature), min=1e-5)\n",
    "        return x * scale\n",
    "        \n",
    "    def forward(self, input_ids, attention_mask):\n",
    "        with torch.no_grad():\n",
    "            sbert_output = self.sbert(input_ids=input_ids, attention_mask=attention_mask)\n",
    "            cls_embedding = sbert_output.last_hidden_state[:, 0]\n",
    "        \n",
    "        projected = self.projection(cls_embedding)\n",
    "        return self.poincare_project(projected)\n",
    "\n",
    "\n",
    "def poincare_distance(x, y, curvature=1.0, eps=1e-5):\n",
    "    \"\"\"Batch-supported Poincaré distance with curvature\"\"\"\n",
    "    sqrt_c = torch.sqrt(curvature + eps)\n",
    "\n",
    "    # Ensure same batch shape if needed\n",
    "    if x.dim() == 2 and y.dim() == 3:\n",
    "        x = x.unsqueeze(1)\n",
    "    elif x.dim() == 2 and y.dim() == 2:\n",
    "        pass\n",
    "    else:\n",
    "        raise ValueError(f\"Incompatible shapes: x {x.shape}, y {y.shape}\")\n",
    "    \n",
    "    # Compute norms\n",
    "    x_norm = torch.norm(x, p=2, dim=-1, keepdim=True) * sqrt_c\n",
    "    y_norm = torch.norm(y, p=2, dim=-1, keepdim=True) * sqrt_c\n",
    "    # Pairwise distances\n",
    "    pairwise_norm = torch.norm(x - y, p=2, dim=-1, keepdim=True) * sqrt_c\n",
    "    \n",
    "    # Distance\n",
    "    denominator = (1 - curvature * x_norm**2) * (1 - curvature * y_norm**2)\n",
    "    inside = 1 + 2 * curvature * pairwise_norm**2 / (denominator.clamp(min=eps))\n",
    "    return torch.acosh(torch.clamp(inside, min=1+eps)).squeeze(-1) / (sqrt_c + eps)\n",
    "\n",
    "\n",
    "# Dataset class for evaluating on pairs with binary labels\n",
    "class BinaryLabelDataset(Dataset):\n",
    "    def __init__(self, file_path, tokenizer, max_length=128):\n",
    "        self.data = self.read_file(file_path)\n",
    "        self.tokenizer = tokenizer\n",
    "        self.max_length = max_length\n",
    "        print(f\"Loaded {len(self.data)} sentence pairs\")\n",
    "\n",
    "    def read_file(self, file_path):\n",
    "        data = []\n",
    "        problem_rows = 0\n",
    "    \n",
    "        with open(file_path, 'r', encoding='utf-8') as file:\n",
    "            csv_reader = csv.reader(file, delimiter='\\t', quotechar=None)\n",
    "            headers = next(csv_reader, None)  # Read and skip the header row\n",
    "    \n",
    "            for row in csv_reader:\n",
    "                if len(row) == 3:\n",
    "                    sentence1, sentence2, label_str = row[0], row[2], row[1] \n",
    "                    try:\n",
    "                        # Ensure label is either 0 or 1 (binary)\n",
    "                        label = int(float(label_str))  # Support for both integer and float formats\n",
    "                        if label not in [0, 1]:\n",
    "                            # Normalize any other value to binary (0 or 1)\n",
    "                            # Typically, values > 0 could be considered paraphrases\n",
    "                            label = 1 if label > 0 else 0\n",
    "                        data.append((sentence1.strip(), sentence2.strip(), label))\n",
    "                    except:\n",
    "                        continue\n",
    "                else:\n",
    "                    problem_rows += 1\n",
    "    \n",
    "        print(\"!!!!!!total problem rows = \", problem_rows)\n",
    "        return data\n",
    "\n",
    "    def __len__(self):\n",
    "        return len(self.data)\n",
    "\n",
    "    def __getitem__(self, idx):\n",
    "        sentence1, sentence2, label = self.data[idx]\n",
    "        \n",
    "        # Tokenize both sentences\n",
    "        sent1_input = self.tokenizer(\n",
    "            sentence1,\n",
    "            padding='max_length',\n",
    "            truncation=True,\n",
    "            max_length=self.max_length,\n",
    "            return_tensors=\"pt\",\n",
    "            return_token_type_ids=False\n",
    "        )\n",
    "        \n",
    "        sent2_input = self.tokenizer(\n",
    "            sentence2,\n",
    "            padding='max_length',\n",
    "            truncation=True,\n",
    "            max_length=self.max_length,\n",
    "            return_tensors=\"pt\",\n",
    "            return_token_type_ids=False\n",
    "        )\n",
    "        \n",
    "        return {\n",
    "            'sent1_input': {k: v.squeeze(0) for k, v in sent1_input.items()},\n",
    "            'sent2_input': {k: v.squeeze(0) for k, v in sent2_input.items()},\n",
    "            'label': torch.tensor(label, dtype=torch.float32)\n",
    "        }\n",
    "\n",
    "\n",
    "def collate_fn_eval(batch):\n",
    "    sent1_inputs = {\n",
    "        k: torch.stack([item['sent1_input'][k] for item in batch])\n",
    "        for k in batch[0]['sent1_input']\n",
    "    }\n",
    "    \n",
    "    sent2_inputs = {\n",
    "        k: torch.stack([item['sent2_input'][k] for item in batch])\n",
    "        for k in batch[0]['sent2_input']\n",
    "    }\n",
    "    \n",
    "    labels = torch.stack([item['label'] for item in batch])\n",
    "    \n",
    "    return {\n",
    "        'sent1_input': sent1_inputs,\n",
    "        'sent2_input': sent2_inputs,\n",
    "        'labels': labels\n",
    "    }\n",
    "\n",
    "\n",
    "def distance_to_probability(distance, alpha=1.0, beta=0.0):\n",
    "    \"\"\"Convert hyperbolic distance to probability using sigmoid transformation.\n",
    "    \n",
    "    Args:\n",
    "        distance: Tensor of pairwise distances\n",
    "        alpha: Scaling parameter (steepness)\n",
    "        beta: Shift parameter (threshold)\n",
    "    \n",
    "    Returns:\n",
    "        Probability tensor in [0, 1]\n",
    "    \"\"\"\n",
    "    # We use negative distance because smaller distance means higher similarity\n",
    "    if isinstance(distance, torch.Tensor):\n",
    "        distance = distance.detach().cpu()\n",
    "        return torch.sigmoid(-(distance * alpha - beta))\n",
    "    \n",
    "    return expit(-(distance * alpha - beta))  # Returns np.ndarray\n",
    "    # return expit(-(distance * alpha - beta))\n",
    "\n",
    "\n",
    "def evaluate_model(model, data_loader, device, alpha=1.0, beta=0.0):\n",
    "    \"\"\"Evaluate model on binary classification task.\n",
    "    \n",
    "    Args:\n",
    "        model: Trained hyperbolic embedding model\n",
    "        data_loader: DataLoader for evaluation data\n",
    "        device: Computation device\n",
    "        alpha: Scaling parameter for distance to probability conversion\n",
    "        beta: Shift parameter for distance to probability conversion\n",
    "    \n",
    "    Returns:\n",
    "        Dictionary with evaluation metrics\n",
    "    \"\"\"\n",
    "    model.eval()\n",
    "    all_distances = []\n",
    "    all_probs = []\n",
    "    all_labels = []\n",
    "    \n",
    "    with torch.no_grad():\n",
    "        for batch in tqdm(data_loader, desc=\"Evaluating\"):\n",
    "            # Move inputs to device\n",
    "            sent1_input = {k: v.to(device) for k, v in batch['sent1_input'].items()}\n",
    "            sent2_input = {k: v.to(device) for k, v in batch['sent2_input'].items()}\n",
    "            labels = batch['labels'].to(device)\n",
    "            \n",
    "            # Get embeddings\n",
    "            sent1_embed = model(**sent1_input)\n",
    "            sent2_embed = model(**sent2_input)\n",
    "            \n",
    "            # Calculate distances\n",
    "            distances = poincare_distance(sent1_embed, sent2_embed, curvature=model.curvature)\n",
    "            \n",
    "            # Convert to probabilities (1 for same class, 0 for different class)\n",
    "            probs = distance_to_probability(distances, alpha, beta)\n",
    "            \n",
    "            # Store for later computation\n",
    "            all_distances.extend(distances.cpu().numpy())\n",
    "            all_probs.extend(probs.cpu().numpy())\n",
    "            all_labels.extend(labels.cpu().numpy())\n",
    "    \n",
    "    # Convert to numpy arrays\n",
    "    all_distances = np.array(all_distances)\n",
    "    all_probs = np.array(all_probs)\n",
    "    all_labels = np.array(all_labels)\n",
    "    \n",
    "    # Calculate metrics\n",
    "    fpr, tpr, _ = roc_curve(all_labels, all_probs)\n",
    "    roc_auc = auc(fpr, tpr)\n",
    "    \n",
    "    precision, recall, _ = precision_recall_curve(all_labels, all_probs)\n",
    "    pr_auc = average_precision_score(all_labels, all_probs)\n",
    "    \n",
    "    return {\n",
    "        'roc_auc': roc_auc,\n",
    "        'pr_auc': pr_auc,\n",
    "        'fpr': fpr,\n",
    "        'tpr': tpr,\n",
    "        'precision': precision,\n",
    "        'recall': recall,\n",
    "        'distances': all_distances,\n",
    "        'probs': all_probs,\n",
    "        'labels': all_labels\n",
    "    }\n",
    "\n",
    "\n",
    "def plot_curves(results, db_name, model_name, save_dir=\"./plots\"):\n",
    "    \"\"\"Plot ROC and PR curves for the evaluation results.\n",
    "    \n",
    "    Args:\n",
    "        results: Dictionary with evaluation metrics\n",
    "        model_name: Name of the model for plot titles\n",
    "        save_dir: Directory to save plots\n",
    "    \"\"\"\n",
    "    os.makedirs(save_dir, exist_ok=True)\n",
    "    \n",
    "    # ROC curve\n",
    "    plt.figure(figsize=(10, 8))\n",
    "    plt.plot(results['fpr'], results['tpr'], lw=2, label=f'ROC curve (AUC = {results[\"roc_auc\"]:.3f})')\n",
    "    plt.plot([0, 1], [0, 1], 'k--', lw=2)\n",
    "    plt.xlim([0.0, 1.0])\n",
    "    plt.ylim([0.0, 1.05])\n",
    "    plt.xlabel('False Positive Rate')\n",
    "    plt.ylabel('True Positive Rate')\n",
    "    plt.title(f'ROC Curve - {model_name}')\n",
    "    plt.legend(loc=\"lower right\")\n",
    "    plt.savefig(f\"{save_dir}/{db_name}_{model_name}_roc.png\")\n",
    "    plt.close()\n",
    "    \n",
    "    # PR curve\n",
    "    plt.figure(figsize=(10, 8))\n",
    "    plt.plot(results['recall'], results['precision'], lw=2, label=f'PR curve (AUC = {results[\"pr_auc\"]:.3f})')\n",
    "    plt.xlim([0.0, 1.0])\n",
    "    plt.ylim([0.0, 1.05])\n",
    "    plt.xlabel('Recall')\n",
    "    plt.ylabel('Precision')\n",
    "    plt.title(f'Precision-Recall Curve - {model_name}')\n",
    "    plt.legend(loc=\"lower left\")\n",
    "    plt.savefig(f\"{save_dir}/{db_name}_{model_name}_pr.png\")\n",
    "    plt.close()\n",
    "    \n",
    "    # Distance distribution\n",
    "    plt.figure(figsize=(12, 8))\n",
    "    positive_dist = results['distances'][results['labels'] == 1]\n",
    "    negative_dist = results['distances'][results['labels'] == 0]\n",
    "    \n",
    "    plt.hist(positive_dist, bins=50, alpha=0.5, label='Positive pairs', density=True)\n",
    "    plt.hist(negative_dist, bins=50, alpha=0.5, label='Negative pairs', density=True)\n",
    "    plt.xlabel('Hyperbolic Distance')\n",
    "    plt.ylabel('Density')\n",
    "    plt.title(f'Distance Distribution - {model_name}')\n",
    "    plt.legend()\n",
    "    plt.savefig(f\"{save_dir}/{db_name}_{model_name}_dist.png\")\n",
    "    plt.close()\n",
    "\n",
    "\n",
    "def find_optimal_threshold(labels, probs):\n",
    "    \"\"\"Find optimal threshold for binary classification.\n",
    "    \n",
    "    Args:\n",
    "        labels: Ground truth labels\n",
    "        probs: Predicted probabilities\n",
    "    \n",
    "    Returns:\n",
    "        Optimal threshold that maximizes F1 score\n",
    "    \"\"\"\n",
    "    # Calculate F1 score for different thresholds\n",
    "    f1_scores = []\n",
    "    thresholds = np.linspace(0, 1, 100)\n",
    "    \n",
    "    for threshold in thresholds:\n",
    "        predictions = (probs >= threshold).astype(int)\n",
    "        \n",
    "        # Calculate precision and recall\n",
    "        true_positives = np.sum((predictions == 1) & (labels == 1))\n",
    "        false_positives = np.sum((predictions == 1) & (labels == 0))\n",
    "        false_negatives = np.sum((predictions == 0) & (labels == 1))\n",
    "        \n",
    "        precision = true_positives / (true_positives + false_positives) if (true_positives + false_positives) > 0 else 0\n",
    "        recall = true_positives / (true_positives + false_negatives) if (true_positives + false_negatives) > 0 else 0\n",
    "        \n",
    "        f1 = 2 * precision * recall / (precision + recall) if (precision + recall) > 0 else 0\n",
    "        f1_scores.append(f1)\n",
    "    \n",
    "    # Find threshold with maximum F1 score\n",
    "    optimal_idx = np.argmax(f1_scores)\n",
    "    optimal_threshold = thresholds[optimal_idx]\n",
    "    max_f1 = f1_scores[optimal_idx]\n",
    "    \n",
    "    return optimal_threshold, max_f1\n",
    "\n",
    "\n",
    "def optimize_distance_conversion(model, eval_loader, device):\n",
    "    \"\"\"Find optimal parameters for converting distance to probability.\n",
    "    \n",
    "    Args:\n",
    "        model: Trained model\n",
    "        eval_loader: DataLoader for evaluation\n",
    "        device: Computation device\n",
    "    \n",
    "    Returns:\n",
    "        Tuple of (optimal_alpha, optimal_beta)\n",
    "    \"\"\"\n",
    "    # First, collect distances and labels\n",
    "    model.eval()\n",
    "    all_distances = []\n",
    "    all_labels = []\n",
    "    \n",
    "    with torch.no_grad():\n",
    "        for batch in tqdm(eval_loader, desc=\"Collecting distances\"):\n",
    "            sent1_input = {k: v.to(device) for k, v in batch['sent1_input'].items()}\n",
    "            sent2_input = {k: v.to(device) for k, v in batch['sent2_input'].items()}\n",
    "            labels = batch['labels'].to(device)\n",
    "            \n",
    "            sent1_embed = model(**sent1_input)\n",
    "            sent2_embed = model(**sent2_input)\n",
    "            \n",
    "            distances = poincare_distance(sent1_embed, sent2_embed, curvature=model.curvature)\n",
    "            \n",
    "            all_distances.extend(distances.cpu().numpy())\n",
    "            all_labels.extend(labels.cpu().numpy())\n",
    "    \n",
    "    all_distances = np.array(all_distances)\n",
    "    all_labels = np.array(all_labels)\n",
    "    \n",
    "    # Grid search for optimal parameters\n",
    "    best_f1 = 0\n",
    "    best_alpha = 1.0\n",
    "    best_beta = 0.0\n",
    "    \n",
    "    alphas = np.linspace(0.1, 10.0, 20)\n",
    "    betas = np.linspace(-5.0, 5.0, 20)\n",
    "    \n",
    "    for alpha in alphas:\n",
    "        for beta in betas:\n",
    "            probs = distance_to_probability(all_distances, alpha, beta)\n",
    "            _, f1 = find_optimal_threshold(all_labels, probs)\n",
    "            \n",
    "            if f1 > best_f1:\n",
    "                best_f1 = f1\n",
    "                best_alpha = alpha\n",
    "                best_beta = beta\n",
    "    \n",
    "    print(f\"Optimal parameters: alpha={best_alpha:.3f}, beta={best_beta:.3f}, F1={best_f1:.3f}\")\n",
    "    return best_alpha, best_beta\n",
    "\n",
    "\n",
    "def main():\n",
    "    # Set device\n",
    "    device = torch.device('cuda' if torch.cuda.is_available() else 'cpu')\n",
    "    print(f\"Using device: {device}\")\n",
    "    \n",
    "    # Load tokenizer\n",
    "    tokenizer = AutoTokenizer.from_pretrained('sentence-transformers/all-MiniLM-L6-v2')\n",
    "    \n",
    "    # Path to your binary labeled dataset\n",
    "    binary_dataset_path = 'AnnotatedMSR/llm_generated.txt'  # Replace with your dataset path\n",
    "    \n",
    "    # Load the binary dataset\n",
    "    binary_dataset = BinaryLabelDataset(binary_dataset_path, tokenizer)\n",
    "    \n",
    "    # Create DataLoader\n",
    "    binary_loader = DataLoader(\n",
    "        binary_dataset,\n",
    "        batch_size=32,\n",
    "        shuffle=False,\n",
    "        collate_fn=collate_fn_eval\n",
    "    )\n",
    "\n",
    "    model_dims = [384, 192, 96, 64, 48, 32, 24, 16]  # Dimensions you trained with\n",
    "    db_name = \"llm_generated\"\n",
    "    for dim in model_dims:\n",
    "        model_name = f\"paws_hyp_{dim}\"\n",
    "        model_path = f'saved_models3/{model_name}.pt'\n",
    "        \n",
    "        print(f\"Evaluating model: {model_name}\")\n",
    "        \n",
    "        # Initialize model\n",
    "        model = HyperbolicMapper(output_dim=dim).to(device)\n",
    "        \n",
    "        # Load weights\n",
    "        model.load_state_dict(torch.load(model_path, map_location=device))\n",
    "        \n",
    "        # Optimize distance conversion parameters\n",
    "        alpha, beta = optimize_distance_conversion(model, binary_loader, device)\n",
    "        \n",
    "        # Evaluate with optimized parameters\n",
    "        results = evaluate_model(model, binary_loader, device, alpha, beta)\n",
    "        \n",
    "        # Print results\n",
    "        print(f\"Model: {model_name}\")\n",
    "        print(f\"ROC AUC: {results['roc_auc']:.4f}\")\n",
    "        print(f\"PR AUC: {results['pr_auc']:.4f}\")\n",
    "\n",
    "        # Plot curves\n",
    "        plot_curves(results,db_name, model_name)\n",
    "        \n",
    "        # Save results\n",
    "        with open(f\"results/{db_name}_{model_name}_eval.json\", 'w') as f:\n",
    "            json_results = {\n",
    "                'model': model_name,\n",
    "                'roc_auc': float(results['roc_auc']),\n",
    "                'pr_auc': float(results['pr_auc']),\n",
    "                'alpha': float(alpha),\n",
    "                'beta': float(beta),\n",
    "                'optimal_threshold': float(find_optimal_threshold(results['labels'], results['probs'])[0])\n",
    "            }\n",
    "            json.dump(json_results, f, indent=2)\n",
    "\n",
    "    model_dims = [384, 192, 96, 64, 48, 32, 24, 16]  # Dimensions you trained with\n",
    "    db_name = \"llm_generated\"\n",
    "    for dim in model_dims:\n",
    "        model_name = f\"hyp_{dim}\"\n",
    "        model_path = f'saved_models3/{model_name}.pt'\n",
    "        \n",
    "        print(f\"Evaluating model: {model_name}\")\n",
    "        \n",
    "        # Initialize model\n",
    "        model = HyperbolicMapper(output_dim=dim).to(device)\n",
    "        \n",
    "        # Load weights\n",
    "        model.load_state_dict(torch.load(model_path, map_location=device))\n",
    "        \n",
    "        # Optimize distance conversion parameters\n",
    "        alpha, beta = optimize_distance_conversion(model, binary_loader, device)\n",
    "        \n",
    "        # Evaluate with optimized parameters\n",
    "        results = evaluate_model(model, binary_loader, device, alpha, beta)\n",
    "        \n",
    "        # Print results\n",
    "        print(f\"Model: {model_name}\")\n",
    "        print(f\"ROC AUC: {results['roc_auc']:.4f}\")\n",
    "        print(f\"PR AUC: {results['pr_auc']:.4f}\")\n",
    "\n",
    "        # Plot curves\n",
    "        plot_curves(results,db_name, model_name)\n",
    "        \n",
    "        # Save results\n",
    "        with open(f\"results/{db_name}_{model_name}_eval.json\", 'w') as f:\n",
    "            json_results = {\n",
    "                'model': model_name,\n",
    "                'roc_auc': float(results['roc_auc']),\n",
    "                'pr_auc': float(results['pr_auc']),\n",
    "                'alpha': float(alpha),\n",
    "                'beta': float(beta),\n",
    "                'optimal_threshold': float(find_optimal_threshold(results['labels'], results['probs'])[0])\n",
    "            }\n",
    "            json.dump(json_results, f, indent=2)\n",
    "        \n",
    "        \n",
    "    # Path to your binary labeled dataset\n",
    "    binary_dataset_path = 'AnnotatedMSR/msr_test_custom.txt'  # Replace with your dataset path\n",
    "    \n",
    "    # Load the binary dataset\n",
    "    binary_dataset = BinaryLabelDataset(binary_dataset_path, tokenizer)\n",
    "    \n",
    "    # Create DataLoader\n",
    "    binary_loader = DataLoader(\n",
    "        binary_dataset,\n",
    "        batch_size=32,\n",
    "        shuffle=False,\n",
    "        collate_fn=collate_fn_eval\n",
    "    )\n",
    "    \n",
    "    model_dims = [384, 192, 96, 64, 48, 32, 24, 16]\n",
    "    db_name = \"msr_test_custom\"\n",
    "    for dim in model_dims:\n",
    "        model_name = f\"paws_hyp_{dim}\"\n",
    "        model_path = f'saved_models3/{model_name}.pt'\n",
    "        \n",
    "        print(f\"Evaluating model: {model_name}\")\n",
    "        \n",
    "        # Initialize model\n",
    "        model = HyperbolicMapper(output_dim=dim).to(device)\n",
    "        \n",
    "        # Load weights\n",
    "        model.load_state_dict(torch.load(model_path, map_location=device))\n",
    "        \n",
    "        # Optimize distance conversion parameters\n",
    "        alpha, beta = optimize_distance_conversion(model, binary_loader, device)\n",
    "        \n",
    "        # Evaluate with optimized parameters\n",
    "        results = evaluate_model(model, binary_loader, device, alpha, beta)\n",
    "        \n",
    "        # Print results\n",
    "        print(f\"Model: {model_name}\")\n",
    "        print(f\"ROC AUC: {results['roc_auc']:.4f}\")\n",
    "        print(f\"PR AUC: {results['pr_auc']:.4f}\")\n",
    "\n",
    "        # Plot curves\n",
    "        plot_curves(results,db_name, model_name)\n",
    "        \n",
    "        # Save results\n",
    "        with open(f\"results/{db_name}_{model_name}_eval.json\", 'w') as f:\n",
    "            json_results = {\n",
    "                'model': model_name,\n",
    "                'roc_auc': float(results['roc_auc']),\n",
    "                'pr_auc': float(results['pr_auc']),\n",
    "                'alpha': float(alpha),\n",
    "                'beta': float(beta),\n",
    "                'optimal_threshold': float(find_optimal_threshold(results['labels'], results['probs'])[0])\n",
    "            }\n",
    "            json.dump(json_results, f, indent=2)\n",
    "\n",
    "    model_dims = [384, 192, 96, 64, 48, 32, 24, 16]\n",
    "    db_name = \"msr_test_custom\"\n",
    "    for dim in model_dims:\n",
    "        model_name = f\"hyp_{dim}\"\n",
    "        model_path = f'saved_models3/{model_name}.pt'\n",
    "        \n",
    "        print(f\"Evaluating model: {model_name}\")\n",
    "        \n",
    "        # Initialize model\n",
    "        model = HyperbolicMapper(output_dim=dim).to(device)\n",
    "        \n",
    "        # Load weights\n",
    "        model.load_state_dict(torch.load(model_path, map_location=device))\n",
    "        \n",
    "        # Optimize distance conversion parameters\n",
    "        alpha, beta = optimize_distance_conversion(model, binary_loader, device)\n",
    "        \n",
    "        # Evaluate with optimized parameters\n",
    "        results = evaluate_model(model, binary_loader, device, alpha, beta)\n",
    "        \n",
    "        # Print results\n",
    "        print(f\"Model: {model_name}\")\n",
    "        print(f\"ROC AUC: {results['roc_auc']:.4f}\")\n",
    "        print(f\"PR AUC: {results['pr_auc']:.4f}\")\n",
    "\n",
    "        # Plot curves\n",
    "        plot_curves(results,db_name, model_name)\n",
    "        \n",
    "        # Save results\n",
    "        with open(f\"results/{db_name}_{model_name}_eval.json\", 'w') as f:\n",
    "            json_results = {\n",
    "                'model': model_name,\n",
    "                'roc_auc': float(results['roc_auc']),\n",
    "                'pr_auc': float(results['pr_auc']),\n",
    "                'alpha': float(alpha),\n",
    "                'beta': float(beta),\n",
    "                'optimal_threshold': float(find_optimal_threshold(results['labels'], results['probs'])[0])\n",
    "            }\n",
    "            json.dump(json_results, f, indent=2)\n",
    "\n",
    "\n",
    "# if __name__ == \"__main__\":\n",
    "#     # Create directories if they don't exist\n",
    "os.makedirs(\"results\", exist_ok=True)\n",
    "os.makedirs(\"plots\", exist_ok=True)\n",
    "\n",
    "main()"
   ]
  },
  {
   "cell_type": "code",
   "execution_count": null,
   "id": "a8ee5124-3e70-4612-bd25-fb0e27e8af95",
   "metadata": {},
   "outputs": [],
   "source": []
  },
  {
   "cell_type": "code",
   "execution_count": null,
   "id": "87821461-b8aa-4a3f-b136-891f3793f81f",
   "metadata": {},
   "outputs": [],
   "source": []
  }
 ],
 "metadata": {
  "kernelspec": {
   "display_name": "Python 3 (ipykernel)",
   "language": "python",
   "name": "python3"
  },
  "language_info": {
   "codemirror_mode": {
    "name": "ipython",
    "version": 3
   },
   "file_extension": ".py",
   "mimetype": "text/x-python",
   "name": "python",
   "nbconvert_exporter": "python",
   "pygments_lexer": "ipython3",
   "version": "3.11.11"
  }
 },
 "nbformat": 4,
 "nbformat_minor": 5
}
