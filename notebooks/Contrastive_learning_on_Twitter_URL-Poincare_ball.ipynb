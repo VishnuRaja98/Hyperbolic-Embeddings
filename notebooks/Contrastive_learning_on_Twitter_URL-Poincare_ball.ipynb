{
 "cells": [
  {
   "cell_type": "code",
   "execution_count": 3,
   "id": "b9191228-a8b4-4150-afa8-118762902356",
   "metadata": {},
   "outputs": [
    {
     "name": "stdout",
     "output_type": "stream",
     "text": [
      "Max group size: 20\n",
      "unique group sizes = {8, 9, 10, 20}\n",
      "Max group size: 20\n",
      "unique group sizes = {10, 20}\n",
      "Train size: 4197\n",
      "Val size: 467\n",
      "Test size: 1010\n",
      "Test Spearman Initially: 0.5887\n"
     ]
    },
    {
     "name": "stderr",
     "output_type": "stream",
     "text": [
      "/tmp/ipykernel_465649/803016132.py:386: FutureWarning: You are using `torch.load` with `weights_only=False` (the current default value), which uses the default pickle module implicitly. It is possible to construct malicious pickle data which will execute arbitrary code during unpickling (See https://github.com/pytorch/pytorch/blob/main/SECURITY.md#untrusted-models for more details). In a future release, the default value for `weights_only` will be flipped to `True`. This limits the functions that could be executed during unpickling. Arbitrary objects will no longer be allowed to be loaded via this mode unless they are explicitly allowlisted by the user via `torch.serialization.add_safe_globals`. We recommend you start setting `weights_only=True` for any use case where you don't have full control of the loaded file. Please open an issue on GitHub for any issues related to this experimental feature.\n",
      "  model.load_state_dict(torch.load('best_model.pt'))\n"
     ]
    },
    {
     "name": "stdout",
     "output_type": "stream",
     "text": [
      "Test Spearman: 0.6650\n"
     ]
    }
   ],
   "source": [
    "import torch\n",
    "from torch.utils.data import Dataset, DataLoader\n",
    "import torch.nn as nn\n",
    "import torch.nn.functional as F\n",
    "import csv\n",
    "import os\n",
    "from transformers import AutoTokenizer, AutoModel\n",
    "from torch.utils.data import random_split\n",
    "from sklearn.model_selection import GroupShuffleSplit\n",
    "from scipy.stats import spearmanr\n",
    "from tqdm import tqdm  # make sure you have tqdm installed\n",
    "import geoopt\n",
    "# there was an error with geoopt scipy version compatibility, it was fixed by-\n",
    "# nano /cronus_data/vraja/dysarthria/lib/python3.11/site-packages/geoopt/optim/rlinesearch.py\n",
    "# added this to the import -\n",
    "# try:\n",
    "#     from scipy.optimize.linesearch import scalar_search_wolfe2, scalar_search_armijo\n",
    "# except ImportError:\n",
    "#     from scipy.optimize._linesearch import scalar_search_wolfe2, scalar_search_armijo\n",
    "torch.manual_seed(42)  # Before random_split\n",
    "base_path = \"\"\n",
    "\n",
    "os.environ[\"CUDA_VISIBLE_DEVICES\"] = \"2\"\n",
    "device = torch.device('cuda:0' if torch.cuda.is_available() else 'cpu')\n",
    "# -----------------------------\n",
    "# 1. Dataset Class\n",
    "# -----------------------------\n",
    "\n",
    "class TwitterURLDataset(Dataset):\n",
    "    def __init__(self, file_path, tokenizer, max_length=128):\n",
    "        self.data = self.read_file(file_path)\n",
    "        self.tokenizer = tokenizer\n",
    "        self.max_length = max_length\n",
    "        self.groups = self.group_data()\n",
    "        self.group_ids = [i for i, _ in enumerate(self.groups)]\n",
    "        \n",
    "        # Pre-compute maximum group size\n",
    "        self.max_group_size = max(len(group) for group in self.groups)  # Cap at 10\n",
    "        print(f\"Max group size: {self.max_group_size}\")\n",
    "        print(f\"unique group sizes = {set([len(group) for group in self.groups])}\")\n",
    "\n",
    "\n",
    "\n",
    "    def read_file(self, file_path):\n",
    "        data = []\n",
    "        with open(file_path, 'r', encoding='utf-8') as f:\n",
    "            reader = csv.reader(f, delimiter='\\t')\n",
    "            for row in reader:\n",
    "                if len(row) != 4:\n",
    "                    continue\n",
    "                sentence1, sentence2, score_str, url = row\n",
    "                try:\n",
    "                    score = int(score_str.strip('()').split(',')[0])\n",
    "                except:\n",
    "                    continue\n",
    "                data.append((sentence1.strip(), sentence2.strip(), score))\n",
    "        return data\n",
    "\n",
    "\n",
    "    def group_data(self):\n",
    "        groups = []\n",
    "        current_group = []\n",
    "        last_sentence1 = None\n",
    "        for item in self.data:\n",
    "            sentence1, sentence2, score = item\n",
    "            if sentence1 != last_sentence1 and current_group:\n",
    "                groups.append(current_group)\n",
    "                current_group = []\n",
    "            current_group.append(item)\n",
    "            last_sentence1 = sentence1\n",
    "        if current_group:\n",
    "            groups.append(current_group)\n",
    "        return groups\n",
    "\n",
    "    def __len__(self):\n",
    "        return len(self.groups)\n",
    "\n",
    "    def __getitem__(self, idx):\n",
    "        group = self.groups[idx]\n",
    "        anchor_text = group[0][0]\n",
    "        \n",
    "        # Pad group to max_group_size with dummy entries if needed\n",
    "        padded_group = group + [(\"\", \"\", 0)] * (self.max_group_size - len(group))\n",
    "        \n",
    "        sentences = [item[1] for item in padded_group]\n",
    "        scores = torch.tensor([item[2] for item in padded_group], dtype=torch.float32)\n",
    "        \n",
    "        anchor_input = self.tokenizer(\n",
    "            anchor_text, \n",
    "            padding='max_length', \n",
    "            truncation=True, \n",
    "            max_length=self.max_length, \n",
    "            return_tensors=\"pt\",\n",
    "            return_token_type_ids=False  # Add this line\n",
    "        )\n",
    "        \n",
    "        sentence_inputs = [\n",
    "            self.tokenizer(\n",
    "                s, \n",
    "                padding='max_length', \n",
    "                truncation=True, \n",
    "                max_length=self.max_length, \n",
    "                return_tensors=\"pt\",\n",
    "                return_token_type_ids=False  # Add this line\n",
    "            ) for s in sentences\n",
    "        ]\n",
    "        \n",
    "        return {\n",
    "            'anchor_input': {k: v.squeeze(0) for k, v in anchor_input.items()},\n",
    "            'sentence_inputs': [{k: v.squeeze(0) for k, v in inp.items()} for inp in sentence_inputs],\n",
    "            'scores': scores,\n",
    "            'mask': torch.tensor([1]*len(group) + [0]*(self.max_group_size - len(group)))  # Mask for real vs padded\n",
    "        }\n",
    "\n",
    "\n",
    "# -----------------------------\n",
    "# 2. Model\n",
    "# -----------------------------\n",
    "def poincare_project(x, eps=1e-5):\n",
    "    \"\"\"Projects vectors into Poincaré ball with proper scaling\"\"\"\n",
    "    norm = torch.norm(x, p=2, dim=-1, keepdim=True)\n",
    "    scale = (1 - eps) / torch.clamp(norm, min=eps)\n",
    "    return x * scale\n",
    "    \n",
    "class HyperbolicMapper(nn.Module):\n",
    "    def __init__(self, sbert_model_name='sentence-transformers/all-MiniLM-L6-v2', output_dim=32):\n",
    "        super(HyperbolicMapper, self).__init__()\n",
    "        # Frozen SBERT\n",
    "        self.sbert = AutoModel.from_pretrained(sbert_model_name)\n",
    "        for param in self.sbert.parameters():\n",
    "            param.requires_grad = False\n",
    "        \n",
    "        sbert_hidden_dim = self.sbert.config.hidden_size  # usually 384 for MiniLM\n",
    "        self.fc = nn.Linear(sbert_hidden_dim, output_dim)\n",
    "\n",
    "    def forward(self, input_ids, attention_mask):\n",
    "        with torch.no_grad():\n",
    "            sbert_output = self.sbert(input_ids=input_ids, attention_mask=attention_mask)\n",
    "            cls_embedding = sbert_output.last_hidden_state[:, 0]\n",
    "        \n",
    "        mapped = self.fc(cls_embedding)\n",
    "        return poincare_project(mapped)  # Project after mapping\n",
    "\n",
    "# -----------------------------\n",
    "# 3. Margin Ranking Loss and Poincare distance\n",
    "# -----------------------------\n",
    "\n",
    "# margin_ranking_loss = nn.MarginRankingLoss(margin=0.2)\n",
    "def hyperbolic_margin_loss(anchor, positive, negative, margin=0.2):\n",
    "    pos_dist = poincare_distance(anchor, positive)\n",
    "    neg_dist = poincare_distance(anchor, negative)\n",
    "    return F.relu(pos_dist - neg_dist + margin).mean()\n",
    "\n",
    "def poincare_distance(x, y, eps=1e-5):\n",
    "    # x: [batch_size, dim]\n",
    "    # y: [batch_size, dim]\n",
    "    x2 = torch.sum(x * x, dim=-1, keepdim=True)  # [batch_size, 1]\n",
    "    y2 = torch.sum(y * y, dim=-1, keepdim=True)  # [batch_size, 1]\n",
    "    xy = torch.sum(x * y, dim=-1, keepdim=True)  # [batch_size, 1]\n",
    "\n",
    "    num = torch.norm(x - y, p=2, dim=-1, keepdim=True) ** 2\n",
    "    denom = (1 - x2) * (1 - y2) + eps\n",
    "\n",
    "    inside = 1 + 2 * num / denom\n",
    "    dist = torch.acosh(torch.clamp(inside, min=1 + eps))\n",
    "    return dist.squeeze(-1)  # [batch_size]\n",
    "    \n",
    "# -----------------------------\n",
    "# 5. Training Step\n",
    "# -----------------------------\n",
    "\n",
    "def train_one_epoch(train_loader, model, optimizer, device):\n",
    "    model.train()\n",
    "    total_loss = 0\n",
    "    \n",
    "    # Wrap your loader with tqdm for a progress bar\n",
    "    prog_bar = tqdm(train_loader, desc=\"Training\", leave=False)\n",
    "    \n",
    "    for batch in prog_bar:\n",
    "        optimizer.zero_grad()\n",
    "        \n",
    "        anchor_input = {k: v.to(device) for k, v in batch['anchor_input'].items()}\n",
    "        anchor_embed = model(**anchor_input)\n",
    "        \n",
    "        sentence_inputs = {\n",
    "            k: v.to(device) for k, v in batch['sentence_inputs'].items()\n",
    "        }\n",
    "        sentence_embeds = model(**sentence_inputs)\n",
    "        \n",
    "        batch_size, max_group_size = batch['scores'].shape\n",
    "        sentence_embeds = sentence_embeds.view(batch_size, max_group_size, -1)\n",
    "        \n",
    "        dists = poincare_distance(\n",
    "            anchor_embed.unsqueeze(1).expand_as(sentence_embeds),\n",
    "            sentence_embeds\n",
    "        ) * batch['mask'].to(device)\n",
    "        \n",
    "        # Flip distance -> similarity\n",
    "        sims = -dists\n",
    "        \n",
    "        # Vectorized ranking loss calculation\n",
    "        scores = batch['scores'].to(device)\n",
    "        mask = batch['mask'].to(device).bool()\n",
    "        \n",
    "        # Create all valid pairs\n",
    "        pos_mask = (scores.unsqueeze(2) > scores.unsqueeze(1)) & mask.unsqueeze(2) & mask.unsqueeze(1)\n",
    "        \n",
    "        if pos_mask.any():\n",
    "            pos_sims = sims.unsqueeze(2).expand(-1, -1, max_group_size)[pos_mask]\n",
    "            neg_sims = sims.unsqueeze(1).expand(-1, max_group_size, -1)[pos_mask]\n",
    "            \n",
    "            loss = F.margin_ranking_loss(\n",
    "                pos_sims,\n",
    "                neg_sims,\n",
    "                torch.ones_like(pos_sims),\n",
    "                margin=0.2,\n",
    "                reduction='mean'\n",
    "            )\n",
    "            \n",
    "            loss.backward()\n",
    "            optimizer.step()\n",
    "            total_loss += loss.item() * pos_mask.sum().item()  # Weight by batch size\n",
    "    \n",
    "    total_samples = len(train_loader.dataset)\n",
    "    return total_loss / total_samples if total_samples > 0 else 0\n",
    "\n",
    "\n",
    "def validate(loader, model, device):\n",
    "    model.eval()\n",
    "    total_loss = 0\n",
    "    all_scores = []\n",
    "    all_sims = []\n",
    "    \n",
    "    with torch.no_grad():\n",
    "        for batch in loader:\n",
    "            anchor_input = {k: v.to(device) for k, v in batch['anchor_input'].items()}\n",
    "            anchor_embed = model(**anchor_input)\n",
    "            \n",
    "            # Process all sentences (with masking)\n",
    "            sentence_inputs = {\n",
    "                k: v.to(device) for k, v in batch['sentence_inputs'].items()\n",
    "            }\n",
    "            sentence_embeds = model(**sentence_inputs)\n",
    "            \n",
    "            # Reshape and mask\n",
    "            batch_size = len(batch['scores'])\n",
    "            max_group_size = batch['scores'].shape[1]\n",
    "            sentence_embeds = sentence_embeds.view(batch_size, max_group_size, -1)\n",
    "            mask = batch['mask'].to(device)\n",
    "            \n",
    "            # Compute similarities -> Now poincare distance\n",
    "            dists = poincare_distance(\n",
    "                anchor_embed.unsqueeze(1).expand_as(sentence_embeds),\n",
    "                sentence_embeds\n",
    "            ) * batch['mask'].to(device)\n",
    "            # Flip distance -> similarity\n",
    "            sims = -dists\n",
    "            \n",
    "            # Collect non-padded scores/similarities for correlation\n",
    "            scores = batch['scores'].to(device)\n",
    "            for i in range(batch_size):\n",
    "                real_indices = torch.where(mask[i] == 1)[0]\n",
    "                all_scores.extend(scores[i, real_indices].cpu().numpy())\n",
    "                all_sims.extend(sims[i, real_indices].cpu().numpy())\n",
    "    \n",
    "    # Compute Spearman correlation\n",
    "    if len(all_scores) > 0:\n",
    "        spearman = spearmanr(all_scores, all_sims).correlation\n",
    "    else:\n",
    "        spearman = 0.0\n",
    "    \n",
    "    return -spearman  # Lower is better (for consistency with loss)\n",
    "\n",
    "\n",
    "def collate_fn(batch):\n",
    "    # Find actual max group size in this batch\n",
    "    batch_max_len = max(len(item['mask'][item['mask'] == 1]) for item in batch)\n",
    "    \n",
    "    # Truncate all inputs to this length\n",
    "    anchor_inputs = {\n",
    "        k: torch.stack([item['anchor_input'][k] for item in batch])\n",
    "        for k in batch[0]['anchor_input']\n",
    "    }\n",
    "    \n",
    "    sentence_inputs = {\n",
    "        k: torch.stack([\n",
    "            inp[k] \n",
    "            for item in batch \n",
    "            for inp in item['sentence_inputs'][:batch_max_len]  # Only take needed elements\n",
    "        ])\n",
    "        for k in batch[0]['sentence_inputs'][0]\n",
    "    }\n",
    "    \n",
    "    scores = torch.stack([item['scores'][:batch_max_len] for item in batch])\n",
    "    masks = torch.stack([item['mask'][:batch_max_len] for item in batch])\n",
    "    \n",
    "    return {\n",
    "        'anchor_input': anchor_inputs,\n",
    "        'sentence_inputs': sentence_inputs,\n",
    "        'scores': scores,\n",
    "        'mask': masks\n",
    "    }\n",
    "\n",
    "\n",
    "tokenizer = AutoTokenizer.from_pretrained('sentence-transformers/all-MiniLM-L6-v2')\n",
    "\n",
    "\n",
    "def group_aware_split(dataset, test_size=0.1, random_state=42):\n",
    "    splitter = GroupShuffleSplit(\n",
    "        n_splits=1, \n",
    "        test_size=test_size, \n",
    "        random_state=random_state\n",
    "    )\n",
    "    train_idx, val_idx = next(splitter.split(\n",
    "        range(len(dataset)), \n",
    "        groups=dataset.group_ids  # Critical: Group by anchor IDs\n",
    "    ))\n",
    "    return (\n",
    "        torch.utils.data.Subset(dataset, train_idx),\n",
    "        torch.utils.data.Subset(dataset, val_idx)\n",
    "    )\n",
    "\n",
    "# Load datasets\n",
    "full_train_dataset = TwitterURLDataset(f'{base_path}paraphrase_dataset_emnlp2017/Twitter_URL_Corpus_train.txt', tokenizer)\n",
    "test_dataset = TwitterURLDataset(f'{base_path}paraphrase_dataset_emnlp2017/Twitter_URL_Corpus_test.txt', tokenizer)\n",
    "\n",
    "# Group-aware split (90% train, 10% val)\n",
    "train_dataset, val_dataset = group_aware_split(full_train_dataset, test_size=0.1)\n",
    "\n",
    "# For all splits (train/val/test), use the same collate_fn\n",
    "train_loader = DataLoader(\n",
    "    train_dataset, \n",
    "    batch_size=32, \n",
    "    shuffle=True, \n",
    "    collate_fn=collate_fn  # Same as training\n",
    ")\n",
    "\n",
    "val_loader = DataLoader(\n",
    "    val_dataset, \n",
    "    batch_size=32, \n",
    "    shuffle=False,  # No shuffling for val/test\n",
    "    collate_fn=collate_fn  # Same collate function!\n",
    ")\n",
    "\n",
    "test_loader = DataLoader(\n",
    "    test_dataset, \n",
    "    batch_size=32, \n",
    "    shuffle=False,\n",
    "    collate_fn=collate_fn  # Consistency is key\n",
    ")\n",
    "\n",
    "print(f\"Train size: {len(train_dataset)}\")\n",
    "print(f\"Val size: {len(val_dataset)}\")\n",
    "print(f\"Test size: {len(test_dataset)}\")\n",
    "\n",
    "# Rest of training logic (same as before)\n",
    "model = HyperbolicMapper().to(device)\n",
    "# Replace your optimizer with:\n",
    "optimizer = geoopt.optim.RiemannianAdam(\n",
    "    model.parameters(), \n",
    "    lr=1e-4,\n",
    "    stabilize=1000  # Helps with numerical stability\n",
    ")\n",
    "num_epochs = 6\n",
    "\n",
    "test_spearman = -validate(test_loader, model, device)  # Flip sign back\n",
    "print(f\"Test Spearman Initially: {test_spearman:.4f}\")\n",
    "\n",
    "best_val_loss = float('inf')\n",
    "# for epoch in range(num_epochs):\n",
    "#     print(f\"Epoch {epoch+1}/{num_epochs}\")\n",
    "\n",
    "#     train_loss = train_one_epoch(train_loader, model, optimizer, device)\n",
    "#     val_loss = validate(val_loader, model, device)\n",
    "\n",
    "#     print(f\"Epoch {epoch+1}/{num_epochs}\")\n",
    "#     print(f\"  Train Loss: {train_loss:.4f}\")\n",
    "#     print(f\"  Val Spearman (-ve):   {val_loss:.4f}\")\n",
    "\n",
    "#     if val_loss < best_val_loss:\n",
    "#         best_val_loss = val_loss\n",
    "#         torch.save(model.state_dict(), 'best_model.pt')\n",
    "#         print(f\"  -> Best model saved (val_loss improved to {best_val_loss:.4f})\")\n",
    "\n",
    "# Final test\n",
    "model.load_state_dict(torch.load('best_model.pt'))\n",
    "test_spearman = -validate(test_loader, model, device)  # Flip sign back\n",
    "print(f\"Test Spearman: {test_spearman:.4f}\")"
   ]
  },
  {
   "cell_type": "code",
   "execution_count": 4,
   "id": "550932eb-556a-4796-9989-d0a5d7b99c37",
   "metadata": {},
   "outputs": [
    {
     "name": "stderr",
     "output_type": "stream",
     "text": [
      "/tmp/ipykernel_465649/51988834.py:3: FutureWarning: You are using `torch.load` with `weights_only=False` (the current default value), which uses the default pickle module implicitly. It is possible to construct malicious pickle data which will execute arbitrary code during unpickling (See https://github.com/pytorch/pytorch/blob/main/SECURITY.md#untrusted-models for more details). In a future release, the default value for `weights_only` will be flipped to `True`. This limits the functions that could be executed during unpickling. Arbitrary objects will no longer be allowed to be loaded via this mode unless they are explicitly allowlisted by the user via `torch.serialization.add_safe_globals`. We recommend you start setting `weights_only=True` for any use case where you don't have full control of the loaded file. Please open an issue on GitHub for any issues related to this experimental feature.\n",
      "  model.load_state_dict(torch.load('best_model.pt'))\n"
     ]
    },
    {
     "name": "stdout",
     "output_type": "stream",
     "text": [
      "Test Spearman: 0.6650\n",
      "0: Epoch 1/6\n"
     ]
    },
    {
     "name": "stderr",
     "output_type": "stream",
     "text": [
      "                                                                                                                                     "
     ]
    },
    {
     "name": "stdout",
     "output_type": "stream",
     "text": [
      "Epoch 1/6\n",
      "  Train Loss: 3.7808\n",
      "  Val Spearman (-ve):   -0.7214\n",
      "  -> Best model saved (val_loss improved to -0.7214)\n",
      "0: Epoch 2/6\n"
     ]
    },
    {
     "name": "stderr",
     "output_type": "stream",
     "text": [
      "                                                                                                                                     "
     ]
    },
    {
     "name": "stdout",
     "output_type": "stream",
     "text": [
      "Epoch 2/6\n",
      "  Train Loss: 3.7311\n",
      "  Val Spearman (-ve):   -0.7237\n",
      "  -> Best model saved (val_loss improved to -0.7237)\n",
      "0: Epoch 3/6\n"
     ]
    },
    {
     "name": "stderr",
     "output_type": "stream",
     "text": [
      "                                                                                                                                     "
     ]
    },
    {
     "name": "stdout",
     "output_type": "stream",
     "text": [
      "Epoch 3/6\n",
      "  Train Loss: 3.6744\n",
      "  Val Spearman (-ve):   -0.7242\n",
      "  -> Best model saved (val_loss improved to -0.7242)\n",
      "0: Epoch 4/6\n"
     ]
    },
    {
     "name": "stderr",
     "output_type": "stream",
     "text": [
      "                                                                                                                                     "
     ]
    },
    {
     "name": "stdout",
     "output_type": "stream",
     "text": [
      "Epoch 4/6\n",
      "  Train Loss: 3.6385\n",
      "  Val Spearman (-ve):   -0.7251\n",
      "  -> Best model saved (val_loss improved to -0.7251)\n",
      "0: Epoch 5/6\n"
     ]
    },
    {
     "name": "stderr",
     "output_type": "stream",
     "text": [
      "                                                                                                                                     "
     ]
    },
    {
     "name": "stdout",
     "output_type": "stream",
     "text": [
      "Epoch 5/6\n",
      "  Train Loss: 3.6196\n",
      "  Val Spearman (-ve):   -0.7273\n",
      "  -> Best model saved (val_loss improved to -0.7273)\n",
      "0: Epoch 6/6\n"
     ]
    },
    {
     "name": "stderr",
     "output_type": "stream",
     "text": [
      "                                                                                                                                     "
     ]
    },
    {
     "name": "stdout",
     "output_type": "stream",
     "text": [
      "Epoch 6/6\n",
      "  Train Loss: 3.5654\n",
      "  Val Spearman (-ve):   -0.7272\n"
     ]
    },
    {
     "name": "stderr",
     "output_type": "stream",
     "text": [
      "/tmp/ipykernel_465649/51988834.py:24: FutureWarning: You are using `torch.load` with `weights_only=False` (the current default value), which uses the default pickle module implicitly. It is possible to construct malicious pickle data which will execute arbitrary code during unpickling (See https://github.com/pytorch/pytorch/blob/main/SECURITY.md#untrusted-models for more details). In a future release, the default value for `weights_only` will be flipped to `True`. This limits the functions that could be executed during unpickling. Arbitrary objects will no longer be allowed to be loaded via this mode unless they are explicitly allowlisted by the user via `torch.serialization.add_safe_globals`. We recommend you start setting `weights_only=True` for any use case where you don't have full control of the loaded file. Please open an issue on GitHub for any issues related to this experimental feature.\n",
      "  model.load_state_dict(torch.load('best_model.pt'))\n"
     ]
    },
    {
     "name": "stdout",
     "output_type": "stream",
     "text": [
      "Test Spearman: 0.6712\n",
      "1: Epoch 1/6\n"
     ]
    },
    {
     "name": "stderr",
     "output_type": "stream",
     "text": [
      "                                                                                                                                     "
     ]
    },
    {
     "name": "stdout",
     "output_type": "stream",
     "text": [
      "Epoch 1/6\n",
      "  Train Loss: 3.6165\n",
      "  Val Spearman (-ve):   -0.7274\n",
      "  -> Best model saved (val_loss improved to -0.7274)\n",
      "1: Epoch 2/6\n"
     ]
    },
    {
     "name": "stderr",
     "output_type": "stream",
     "text": [
      "                                                                                                                                     "
     ]
    },
    {
     "name": "stdout",
     "output_type": "stream",
     "text": [
      "Epoch 2/6\n",
      "  Train Loss: 3.5368\n",
      "  Val Spearman (-ve):   -0.7299\n",
      "  -> Best model saved (val_loss improved to -0.7299)\n",
      "1: Epoch 3/6\n"
     ]
    },
    {
     "name": "stderr",
     "output_type": "stream",
     "text": [
      "                                                                                                                                     "
     ]
    },
    {
     "name": "stdout",
     "output_type": "stream",
     "text": [
      "Epoch 3/6\n",
      "  Train Loss: 3.5419\n",
      "  Val Spearman (-ve):   -0.7307\n",
      "  -> Best model saved (val_loss improved to -0.7307)\n",
      "1: Epoch 4/6\n"
     ]
    },
    {
     "name": "stderr",
     "output_type": "stream",
     "text": [
      "                                                                                                                                     "
     ]
    },
    {
     "name": "stdout",
     "output_type": "stream",
     "text": [
      "Epoch 4/6\n",
      "  Train Loss: 3.4543\n",
      "  Val Spearman (-ve):   -0.7318\n",
      "  -> Best model saved (val_loss improved to -0.7318)\n",
      "1: Epoch 5/6\n"
     ]
    },
    {
     "name": "stderr",
     "output_type": "stream",
     "text": [
      "                                                                                                                                     "
     ]
    },
    {
     "name": "stdout",
     "output_type": "stream",
     "text": [
      "Epoch 5/6\n",
      "  Train Loss: 3.4758\n",
      "  Val Spearman (-ve):   -0.7313\n",
      "1: Epoch 6/6\n"
     ]
    },
    {
     "name": "stderr",
     "output_type": "stream",
     "text": [
      "                                                                                                                                     "
     ]
    },
    {
     "name": "stdout",
     "output_type": "stream",
     "text": [
      "Epoch 6/6\n",
      "  Train Loss: 3.4031\n",
      "  Val Spearman (-ve):   -0.7328\n",
      "  -> Best model saved (val_loss improved to -0.7328)\n",
      "Test Spearman: 0.6743\n",
      "2: Epoch 1/6\n"
     ]
    },
    {
     "name": "stderr",
     "output_type": "stream",
     "text": [
      "                                                                                                                                     "
     ]
    },
    {
     "name": "stdout",
     "output_type": "stream",
     "text": [
      "Epoch 1/6\n",
      "  Train Loss: 3.3601\n",
      "  Val Spearman (-ve):   -0.7332\n",
      "  -> Best model saved (val_loss improved to -0.7332)\n",
      "2: Epoch 2/6\n"
     ]
    },
    {
     "name": "stderr",
     "output_type": "stream",
     "text": [
      "                                                                                                                                     "
     ]
    },
    {
     "name": "stdout",
     "output_type": "stream",
     "text": [
      "Epoch 2/6\n",
      "  Train Loss: 3.3466\n",
      "  Val Spearman (-ve):   -0.7330\n",
      "2: Epoch 3/6\n"
     ]
    },
    {
     "name": "stderr",
     "output_type": "stream",
     "text": [
      "                                                                                                                                     "
     ]
    },
    {
     "name": "stdout",
     "output_type": "stream",
     "text": [
      "Epoch 3/6\n",
      "  Train Loss: 3.3898\n",
      "  Val Spearman (-ve):   -0.7337\n",
      "  -> Best model saved (val_loss improved to -0.7337)\n",
      "2: Epoch 4/6\n"
     ]
    },
    {
     "name": "stderr",
     "output_type": "stream",
     "text": [
      "                                                                                                                                     "
     ]
    },
    {
     "name": "stdout",
     "output_type": "stream",
     "text": [
      "Epoch 4/6\n",
      "  Train Loss: 3.3286\n",
      "  Val Spearman (-ve):   -0.7342\n",
      "  -> Best model saved (val_loss improved to -0.7342)\n",
      "2: Epoch 5/6\n"
     ]
    },
    {
     "name": "stderr",
     "output_type": "stream",
     "text": [
      "                                                                                                                                     "
     ]
    },
    {
     "name": "stdout",
     "output_type": "stream",
     "text": [
      "Epoch 5/6\n",
      "  Train Loss: 3.2905\n",
      "  Val Spearman (-ve):   -0.7348\n",
      "  -> Best model saved (val_loss improved to -0.7348)\n",
      "2: Epoch 6/6\n"
     ]
    },
    {
     "name": "stderr",
     "output_type": "stream",
     "text": [
      "                                                                                                                                     "
     ]
    },
    {
     "name": "stdout",
     "output_type": "stream",
     "text": [
      "Epoch 6/6\n",
      "  Train Loss: 3.2764\n",
      "  Val Spearman (-ve):   -0.7349\n",
      "  -> Best model saved (val_loss improved to -0.7349)\n",
      "Test Spearman: 0.6762\n",
      "3: Epoch 1/6\n"
     ]
    },
    {
     "name": "stderr",
     "output_type": "stream",
     "text": [
      "                                                                                                                                     "
     ]
    },
    {
     "name": "stdout",
     "output_type": "stream",
     "text": [
      "Epoch 1/6\n",
      "  Train Loss: 3.2371\n",
      "  Val Spearman (-ve):   -0.7354\n",
      "  -> Best model saved (val_loss improved to -0.7354)\n",
      "3: Epoch 2/6\n"
     ]
    },
    {
     "name": "stderr",
     "output_type": "stream",
     "text": [
      "                                                                                                                                     "
     ]
    },
    {
     "name": "stdout",
     "output_type": "stream",
     "text": [
      "Epoch 2/6\n",
      "  Train Loss: 3.2320\n",
      "  Val Spearman (-ve):   -0.7367\n",
      "  -> Best model saved (val_loss improved to -0.7367)\n",
      "3: Epoch 3/6\n"
     ]
    },
    {
     "name": "stderr",
     "output_type": "stream",
     "text": [
      "                                                                                                                                     "
     ]
    },
    {
     "name": "stdout",
     "output_type": "stream",
     "text": [
      "Epoch 3/6\n",
      "  Train Loss: 3.2431\n",
      "  Val Spearman (-ve):   -0.7374\n",
      "  -> Best model saved (val_loss improved to -0.7374)\n",
      "3: Epoch 4/6\n"
     ]
    },
    {
     "name": "stderr",
     "output_type": "stream",
     "text": [
      "                                                                                                                                     "
     ]
    },
    {
     "name": "stdout",
     "output_type": "stream",
     "text": [
      "Epoch 4/6\n",
      "  Train Loss: 3.2484\n",
      "  Val Spearman (-ve):   -0.7363\n",
      "3: Epoch 5/6\n"
     ]
    },
    {
     "name": "stderr",
     "output_type": "stream",
     "text": [
      "                                                                                                                                     "
     ]
    },
    {
     "name": "stdout",
     "output_type": "stream",
     "text": [
      "Epoch 5/6\n",
      "  Train Loss: 3.1820\n",
      "  Val Spearman (-ve):   -0.7368\n",
      "3: Epoch 6/6\n"
     ]
    },
    {
     "name": "stderr",
     "output_type": "stream",
     "text": [
      "                                                                                                                                     "
     ]
    },
    {
     "name": "stdout",
     "output_type": "stream",
     "text": [
      "Epoch 6/6\n",
      "  Train Loss: 3.1958\n",
      "  Val Spearman (-ve):   -0.7360\n",
      "Test Spearman: 0.6756\n",
      "4: Epoch 1/6\n"
     ]
    },
    {
     "name": "stderr",
     "output_type": "stream",
     "text": [
      "                                                                                                                                     "
     ]
    },
    {
     "name": "stdout",
     "output_type": "stream",
     "text": [
      "Epoch 1/6\n",
      "  Train Loss: 3.2269\n",
      "  Val Spearman (-ve):   -0.7372\n",
      "4: Epoch 2/6\n"
     ]
    },
    {
     "name": "stderr",
     "output_type": "stream",
     "text": [
      "                                                                                                                                     "
     ]
    },
    {
     "name": "stdout",
     "output_type": "stream",
     "text": [
      "Epoch 2/6\n",
      "  Train Loss: 3.2172\n",
      "  Val Spearman (-ve):   -0.7365\n",
      "4: Epoch 3/6\n"
     ]
    },
    {
     "name": "stderr",
     "output_type": "stream",
     "text": [
      "                                                                                                                                     "
     ]
    },
    {
     "name": "stdout",
     "output_type": "stream",
     "text": [
      "Epoch 3/6\n",
      "  Train Loss: 3.2118\n",
      "  Val Spearman (-ve):   -0.7361\n",
      "4: Epoch 4/6\n"
     ]
    },
    {
     "name": "stderr",
     "output_type": "stream",
     "text": [
      "                                                                                                                                     "
     ]
    },
    {
     "name": "stdout",
     "output_type": "stream",
     "text": [
      "Epoch 4/6\n",
      "  Train Loss: 3.2158\n",
      "  Val Spearman (-ve):   -0.7360\n",
      "4: Epoch 5/6\n"
     ]
    },
    {
     "name": "stderr",
     "output_type": "stream",
     "text": [
      "                                                                                                                                     "
     ]
    },
    {
     "name": "stdout",
     "output_type": "stream",
     "text": [
      "Epoch 5/6\n",
      "  Train Loss: 3.1290\n",
      "  Val Spearman (-ve):   -0.7362\n",
      "4: Epoch 6/6\n"
     ]
    },
    {
     "name": "stderr",
     "output_type": "stream",
     "text": [
      "                                                                                                                                     "
     ]
    },
    {
     "name": "stdout",
     "output_type": "stream",
     "text": [
      "Epoch 6/6\n",
      "  Train Loss: 3.1328\n",
      "  Val Spearman (-ve):   -0.7357\n",
      "Test Spearman: 0.6756\n",
      "5: Epoch 1/6\n"
     ]
    },
    {
     "name": "stderr",
     "output_type": "stream",
     "text": [
      "                                                                                                                                     "
     ]
    },
    {
     "name": "stdout",
     "output_type": "stream",
     "text": [
      "Epoch 1/6\n",
      "  Train Loss: 3.2644\n",
      "  Val Spearman (-ve):   -0.7368\n",
      "5: Epoch 2/6\n"
     ]
    },
    {
     "name": "stderr",
     "output_type": "stream",
     "text": [
      "                                                                                                                                     "
     ]
    },
    {
     "name": "stdout",
     "output_type": "stream",
     "text": [
      "Epoch 2/6\n",
      "  Train Loss: 3.2053\n",
      "  Val Spearman (-ve):   -0.7365\n",
      "5: Epoch 3/6\n"
     ]
    },
    {
     "name": "stderr",
     "output_type": "stream",
     "text": [
      "                                                                                                                                     "
     ]
    },
    {
     "name": "stdout",
     "output_type": "stream",
     "text": [
      "Epoch 3/6\n",
      "  Train Loss: 3.1543\n",
      "  Val Spearman (-ve):   -0.7360\n",
      "5: Epoch 4/6\n"
     ]
    },
    {
     "name": "stderr",
     "output_type": "stream",
     "text": [
      "                                                                                                                                     "
     ]
    },
    {
     "name": "stdout",
     "output_type": "stream",
     "text": [
      "Epoch 4/6\n",
      "  Train Loss: 3.1802\n",
      "  Val Spearman (-ve):   -0.7371\n",
      "5: Epoch 5/6\n"
     ]
    },
    {
     "name": "stderr",
     "output_type": "stream",
     "text": [
      "                                                                                                                                     "
     ]
    },
    {
     "name": "stdout",
     "output_type": "stream",
     "text": [
      "Epoch 5/6\n",
      "  Train Loss: 3.1451\n",
      "  Val Spearman (-ve):   -0.7368\n",
      "5: Epoch 6/6\n"
     ]
    },
    {
     "name": "stderr",
     "output_type": "stream",
     "text": [
      "                                                                                                                                     "
     ]
    },
    {
     "name": "stdout",
     "output_type": "stream",
     "text": [
      "Epoch 6/6\n",
      "  Train Loss: 3.1531\n",
      "  Val Spearman (-ve):   -0.7372\n",
      "Test Spearman: 0.6756\n"
     ]
    }
   ],
   "source": [
    "# Final test\n",
    "best_val_loss = -0.7197\n",
    "model.load_state_dict(torch.load('best_model.pt'))\n",
    "test_spearman = -validate(test_loader, model, device)  # Flip sign back\n",
    "print(f\"Test Spearman: {test_spearman:.4f}\")\n",
    "\n",
    "for I in range(6):\n",
    "    for epoch in range(num_epochs):\n",
    "        print(f\"{I}: Epoch {epoch+1}/{num_epochs}\")\n",
    "    \n",
    "        train_loss = train_one_epoch(train_loader, model, optimizer, device)\n",
    "        val_loss = validate(val_loader, model, device)\n",
    "    \n",
    "        print(f\"Epoch {epoch+1}/{num_epochs}\")\n",
    "        print(f\"  Train Loss: {train_loss:.4f}\")\n",
    "        print(f\"  Val Spearman (-ve):   {val_loss:.4f}\")\n",
    "    \n",
    "        if val_loss < best_val_loss:\n",
    "            best_val_loss = val_loss\n",
    "            torch.save(model.state_dict(), 'best_model.pt')\n",
    "            print(f\"  -> Best model saved (val_loss improved to {best_val_loss:.4f})\")\n",
    "\n",
    "    # Final test\n",
    "    model.load_state_dict(torch.load('best_model.pt'))\n",
    "    test_spearman = -validate(test_loader, model, device)  # Flip sign back\n",
    "    print(f\"Test Spearman: {test_spearman:.4f}\")"
   ]
  },
  {
   "cell_type": "code",
   "execution_count": 5,
   "id": "f1a88d99-0fbc-4851-91f4-e3eda9b6e5b4",
   "metadata": {},
   "outputs": [
    {
     "name": "stdout",
     "output_type": "stream",
     "text": [
      "5: Epoch 1/18\n"
     ]
    },
    {
     "name": "stderr",
     "output_type": "stream",
     "text": [
      "                                                                                                                                     "
     ]
    },
    {
     "name": "stdout",
     "output_type": "stream",
     "text": [
      "Epoch 1/18\n",
      "  Train Loss: 3.2227\n",
      "  Val Spearman (-ve):   -0.7352\n",
      "5: Epoch 2/18\n"
     ]
    },
    {
     "name": "stderr",
     "output_type": "stream",
     "text": [
      "                                                                                                                                     "
     ]
    },
    {
     "name": "stdout",
     "output_type": "stream",
     "text": [
      "Epoch 2/18\n",
      "  Train Loss: 3.2131\n",
      "  Val Spearman (-ve):   -0.7360\n",
      "5: Epoch 3/18\n"
     ]
    },
    {
     "name": "stderr",
     "output_type": "stream",
     "text": [
      "                                                                                                                                     "
     ]
    },
    {
     "name": "stdout",
     "output_type": "stream",
     "text": [
      "Epoch 3/18\n",
      "  Train Loss: 3.1717\n",
      "  Val Spearman (-ve):   -0.7360\n",
      "5: Epoch 4/18\n"
     ]
    },
    {
     "name": "stderr",
     "output_type": "stream",
     "text": [
      "                                                                                                                                     "
     ]
    },
    {
     "name": "stdout",
     "output_type": "stream",
     "text": [
      "Epoch 4/18\n",
      "  Train Loss: 3.2003\n",
      "  Val Spearman (-ve):   -0.7363\n",
      "5: Epoch 5/18\n"
     ]
    },
    {
     "name": "stderr",
     "output_type": "stream",
     "text": [
      "                                                                                                                                     "
     ]
    },
    {
     "name": "stdout",
     "output_type": "stream",
     "text": [
      "Epoch 5/18\n",
      "  Train Loss: 3.1738\n",
      "  Val Spearman (-ve):   -0.7358\n",
      "5: Epoch 6/18\n"
     ]
    },
    {
     "name": "stderr",
     "output_type": "stream",
     "text": [
      "                                                                                                                                     "
     ]
    },
    {
     "name": "stdout",
     "output_type": "stream",
     "text": [
      "Epoch 6/18\n",
      "  Train Loss: 3.1661\n",
      "  Val Spearman (-ve):   -0.7367\n",
      "5: Epoch 7/18\n"
     ]
    },
    {
     "name": "stderr",
     "output_type": "stream",
     "text": [
      "                                                                                                                                     "
     ]
    },
    {
     "name": "stdout",
     "output_type": "stream",
     "text": [
      "Epoch 7/18\n",
      "  Train Loss: 3.1481\n",
      "  Val Spearman (-ve):   -0.7379\n",
      "  -> Best model saved (val_loss improved to -0.7379)\n",
      "5: Epoch 8/18\n"
     ]
    },
    {
     "name": "stderr",
     "output_type": "stream",
     "text": [
      "                                                                                                                                     "
     ]
    },
    {
     "name": "stdout",
     "output_type": "stream",
     "text": [
      "Epoch 8/18\n",
      "  Train Loss: 3.1318\n",
      "  Val Spearman (-ve):   -0.7377\n",
      "5: Epoch 9/18\n"
     ]
    },
    {
     "name": "stderr",
     "output_type": "stream",
     "text": [
      "                                                                                                                                     "
     ]
    },
    {
     "name": "stdout",
     "output_type": "stream",
     "text": [
      "Epoch 9/18\n",
      "  Train Loss: 3.1192\n",
      "  Val Spearman (-ve):   -0.7365\n",
      "5: Epoch 10/18\n"
     ]
    },
    {
     "name": "stderr",
     "output_type": "stream",
     "text": [
      "                                                                                                                                     "
     ]
    },
    {
     "name": "stdout",
     "output_type": "stream",
     "text": [
      "Epoch 10/18\n",
      "  Train Loss: 3.1073\n",
      "  Val Spearman (-ve):   -0.7359\n",
      "5: Epoch 11/18\n"
     ]
    },
    {
     "name": "stderr",
     "output_type": "stream",
     "text": [
      "                                                                                                                                     "
     ]
    },
    {
     "name": "stdout",
     "output_type": "stream",
     "text": [
      "Epoch 11/18\n",
      "  Train Loss: 3.0807\n",
      "  Val Spearman (-ve):   -0.7371\n",
      "5: Epoch 12/18\n"
     ]
    },
    {
     "name": "stderr",
     "output_type": "stream",
     "text": [
      "                                                                                                                                     "
     ]
    },
    {
     "name": "stdout",
     "output_type": "stream",
     "text": [
      "Epoch 12/18\n",
      "  Train Loss: 3.0904\n",
      "  Val Spearman (-ve):   -0.7373\n",
      "5: Epoch 13/18\n"
     ]
    },
    {
     "name": "stderr",
     "output_type": "stream",
     "text": [
      "                                                                                                                                     "
     ]
    },
    {
     "name": "stdout",
     "output_type": "stream",
     "text": [
      "Epoch 13/18\n",
      "  Train Loss: 3.0618\n",
      "  Val Spearman (-ve):   -0.7382\n",
      "  -> Best model saved (val_loss improved to -0.7382)\n",
      "5: Epoch 14/18\n"
     ]
    },
    {
     "name": "stderr",
     "output_type": "stream",
     "text": [
      "                                                                                                                                     "
     ]
    },
    {
     "name": "stdout",
     "output_type": "stream",
     "text": [
      "Epoch 14/18\n",
      "  Train Loss: 3.1289\n",
      "  Val Spearman (-ve):   -0.7380\n",
      "5: Epoch 15/18\n"
     ]
    },
    {
     "name": "stderr",
     "output_type": "stream",
     "text": [
      "                                                                                                                                     "
     ]
    },
    {
     "name": "stdout",
     "output_type": "stream",
     "text": [
      "Epoch 15/18\n",
      "  Train Loss: 3.0577\n",
      "  Val Spearman (-ve):   -0.7374\n",
      "5: Epoch 16/18\n"
     ]
    },
    {
     "name": "stderr",
     "output_type": "stream",
     "text": [
      "                                                                                                                                     "
     ]
    },
    {
     "name": "stdout",
     "output_type": "stream",
     "text": [
      "Epoch 16/18\n",
      "  Train Loss: 3.0397\n",
      "  Val Spearman (-ve):   -0.7378\n",
      "5: Epoch 17/18\n"
     ]
    },
    {
     "name": "stderr",
     "output_type": "stream",
     "text": [
      "                                                                                                                                     "
     ]
    },
    {
     "name": "stdout",
     "output_type": "stream",
     "text": [
      "Epoch 17/18\n",
      "  Train Loss: 3.0289\n",
      "  Val Spearman (-ve):   -0.7367\n",
      "5: Epoch 18/18\n"
     ]
    },
    {
     "name": "stderr",
     "output_type": "stream",
     "text": [
      "                                                                                                                                     "
     ]
    },
    {
     "name": "stdout",
     "output_type": "stream",
     "text": [
      "Epoch 18/18\n",
      "  Train Loss: 3.0285\n",
      "  Val Spearman (-ve):   -0.7375\n"
     ]
    }
   ],
   "source": [
    "num_epochs = 18\n",
    "for epoch in range(num_epochs):\n",
    "    print(f\"{I}: Epoch {epoch+1}/{num_epochs}\")\n",
    "\n",
    "    train_loss = train_one_epoch(train_loader, model, optimizer, device)\n",
    "    val_loss = validate(val_loader, model, device)\n",
    "\n",
    "    print(f\"Epoch {epoch+1}/{num_epochs}\")\n",
    "    print(f\"  Train Loss: {train_loss:.4f}\")\n",
    "    print(f\"  Val Spearman (-ve):   {val_loss:.4f}\")\n",
    "\n",
    "    if val_loss < best_val_loss:\n",
    "        best_val_loss = val_loss\n",
    "        torch.save(model.state_dict(), 'best_model.pt')\n",
    "        print(f\"  -> Best model saved (val_loss improved to {best_val_loss:.4f})\")"
   ]
  },
  {
   "cell_type": "code",
   "execution_count": 6,
   "id": "4964f2d9-75e3-440a-a4a5-3e9671cb155d",
   "metadata": {},
   "outputs": [
    {
     "name": "stdout",
     "output_type": "stream",
     "text": [
      "Test Spearman: 0.6783\n",
      "5: Epoch 1/100\n"
     ]
    },
    {
     "name": "stderr",
     "output_type": "stream",
     "text": [
      "                                                                                                                                     "
     ]
    },
    {
     "name": "stdout",
     "output_type": "stream",
     "text": [
      "Epoch 1/100\n",
      "  Train Loss: 3.0042\n",
      "  Val Spearman (-ve):   -0.7368\n",
      "Test Spearman: 0.6787\n",
      "5: Epoch 2/100\n"
     ]
    },
    {
     "name": "stderr",
     "output_type": "stream",
     "text": [
      "                                                                                                                                     "
     ]
    },
    {
     "name": "stdout",
     "output_type": "stream",
     "text": [
      "Epoch 2/100\n",
      "  Train Loss: 2.9925\n",
      "  Val Spearman (-ve):   -0.7371\n",
      "5: Epoch 3/100\n"
     ]
    },
    {
     "name": "stderr",
     "output_type": "stream",
     "text": [
      "                                                                                                                                     "
     ]
    },
    {
     "name": "stdout",
     "output_type": "stream",
     "text": [
      "Epoch 3/100\n",
      "  Train Loss: 2.9761\n",
      "  Val Spearman (-ve):   -0.7364\n",
      "5: Epoch 4/100\n"
     ]
    },
    {
     "name": "stderr",
     "output_type": "stream",
     "text": [
      "                                                                                                                                     "
     ]
    },
    {
     "name": "stdout",
     "output_type": "stream",
     "text": [
      "Epoch 4/100\n",
      "  Train Loss: 2.9997\n",
      "  Val Spearman (-ve):   -0.7362\n",
      "5: Epoch 5/100\n"
     ]
    },
    {
     "name": "stderr",
     "output_type": "stream",
     "text": [
      "                                                                                                                                     "
     ]
    },
    {
     "name": "stdout",
     "output_type": "stream",
     "text": [
      "Epoch 5/100\n",
      "  Train Loss: 2.9472\n",
      "  Val Spearman (-ve):   -0.7375\n",
      "5: Epoch 6/100\n"
     ]
    },
    {
     "name": "stderr",
     "output_type": "stream",
     "text": [
      "                                                                                                                                     "
     ]
    },
    {
     "name": "stdout",
     "output_type": "stream",
     "text": [
      "Epoch 6/100\n",
      "  Train Loss: 3.0298\n",
      "  Val Spearman (-ve):   -0.7368\n",
      "5: Epoch 7/100\n"
     ]
    },
    {
     "name": "stderr",
     "output_type": "stream",
     "text": [
      "                                                                                                                                     "
     ]
    },
    {
     "name": "stdout",
     "output_type": "stream",
     "text": [
      "Epoch 7/100\n",
      "  Train Loss: 2.9733\n",
      "  Val Spearman (-ve):   -0.7371\n",
      "5: Epoch 8/100\n"
     ]
    },
    {
     "name": "stderr",
     "output_type": "stream",
     "text": [
      "                                                                                                                                     "
     ]
    },
    {
     "name": "stdout",
     "output_type": "stream",
     "text": [
      "Epoch 8/100\n",
      "  Train Loss: 3.0119\n",
      "  Val Spearman (-ve):   -0.7376\n",
      "5: Epoch 9/100\n"
     ]
    },
    {
     "name": "stderr",
     "output_type": "stream",
     "text": [
      "                                                                                                                                     "
     ]
    },
    {
     "name": "stdout",
     "output_type": "stream",
     "text": [
      "Epoch 9/100\n",
      "  Train Loss: 2.9781\n",
      "  Val Spearman (-ve):   -0.7384\n",
      "  -> Best model saved (val_loss improved to -0.7384)\n",
      "5: Epoch 10/100\n"
     ]
    },
    {
     "name": "stderr",
     "output_type": "stream",
     "text": [
      "                                                                                                                                     "
     ]
    },
    {
     "name": "stdout",
     "output_type": "stream",
     "text": [
      "Epoch 10/100\n",
      "  Train Loss: 2.9941\n",
      "  Val Spearman (-ve):   -0.7377\n",
      "5: Epoch 11/100\n"
     ]
    },
    {
     "name": "stderr",
     "output_type": "stream",
     "text": [
      "                                                                                                                                     "
     ]
    },
    {
     "name": "stdout",
     "output_type": "stream",
     "text": [
      "Epoch 11/100\n",
      "  Train Loss: 2.9555\n",
      "  Val Spearman (-ve):   -0.7381\n",
      "Test Spearman: 0.6808\n",
      "5: Epoch 12/100\n"
     ]
    },
    {
     "name": "stderr",
     "output_type": "stream",
     "text": [
      "                                                                                                                                     "
     ]
    },
    {
     "name": "stdout",
     "output_type": "stream",
     "text": [
      "Epoch 12/100\n",
      "  Train Loss: 2.9179\n",
      "  Val Spearman (-ve):   -0.7388\n",
      "  -> Best model saved (val_loss improved to -0.7388)\n",
      "5: Epoch 13/100\n"
     ]
    },
    {
     "name": "stderr",
     "output_type": "stream",
     "text": [
      "                                                                                                                                     "
     ]
    },
    {
     "name": "stdout",
     "output_type": "stream",
     "text": [
      "Epoch 13/100\n",
      "  Train Loss: 2.9163\n",
      "  Val Spearman (-ve):   -0.7369\n",
      "5: Epoch 14/100\n"
     ]
    },
    {
     "name": "stderr",
     "output_type": "stream",
     "text": [
      "                                                                                                                                     "
     ]
    },
    {
     "name": "stdout",
     "output_type": "stream",
     "text": [
      "Epoch 14/100\n",
      "  Train Loss: 2.9383\n",
      "  Val Spearman (-ve):   -0.7376\n",
      "5: Epoch 15/100\n"
     ]
    },
    {
     "name": "stderr",
     "output_type": "stream",
     "text": [
      "                                                                                                                                     "
     ]
    },
    {
     "name": "stdout",
     "output_type": "stream",
     "text": [
      "Epoch 15/100\n",
      "  Train Loss: 2.9515\n",
      "  Val Spearman (-ve):   -0.7386\n",
      "5: Epoch 16/100\n"
     ]
    },
    {
     "name": "stderr",
     "output_type": "stream",
     "text": [
      "                                                                                                                                     "
     ]
    },
    {
     "name": "stdout",
     "output_type": "stream",
     "text": [
      "Epoch 16/100\n",
      "  Train Loss: 2.8999\n",
      "  Val Spearman (-ve):   -0.7379\n",
      "5: Epoch 17/100\n"
     ]
    },
    {
     "name": "stderr",
     "output_type": "stream",
     "text": [
      "                                                                                                                                     "
     ]
    },
    {
     "name": "stdout",
     "output_type": "stream",
     "text": [
      "Epoch 17/100\n",
      "  Train Loss: 2.9351\n",
      "  Val Spearman (-ve):   -0.7385\n",
      "5: Epoch 18/100\n"
     ]
    },
    {
     "name": "stderr",
     "output_type": "stream",
     "text": [
      "                                                                                                                                     "
     ]
    },
    {
     "name": "stdout",
     "output_type": "stream",
     "text": [
      "Epoch 18/100\n",
      "  Train Loss: 2.9076\n",
      "  Val Spearman (-ve):   -0.7381\n",
      "5: Epoch 19/100\n"
     ]
    },
    {
     "name": "stderr",
     "output_type": "stream",
     "text": [
      "                                                                                                                                     "
     ]
    },
    {
     "name": "stdout",
     "output_type": "stream",
     "text": [
      "Epoch 19/100\n",
      "  Train Loss: 2.8981\n",
      "  Val Spearman (-ve):   -0.7376\n",
      "5: Epoch 20/100\n"
     ]
    },
    {
     "name": "stderr",
     "output_type": "stream",
     "text": [
      "                                                                                                                                     "
     ]
    },
    {
     "name": "stdout",
     "output_type": "stream",
     "text": [
      "Epoch 20/100\n",
      "  Train Loss: 2.8706\n",
      "  Val Spearman (-ve):   -0.7375\n",
      "5: Epoch 21/100\n"
     ]
    },
    {
     "name": "stderr",
     "output_type": "stream",
     "text": [
      "                                                                                                                                     "
     ]
    },
    {
     "name": "stdout",
     "output_type": "stream",
     "text": [
      "Epoch 21/100\n",
      "  Train Loss: 2.8879\n",
      "  Val Spearman (-ve):   -0.7378\n",
      "Test Spearman: 0.6806\n",
      "5: Epoch 22/100\n"
     ]
    },
    {
     "name": "stderr",
     "output_type": "stream",
     "text": [
      "                                                                                                                                     "
     ]
    },
    {
     "name": "stdout",
     "output_type": "stream",
     "text": [
      "Epoch 22/100\n",
      "  Train Loss: 2.8773\n",
      "  Val Spearman (-ve):   -0.7374\n",
      "5: Epoch 23/100\n"
     ]
    },
    {
     "name": "stderr",
     "output_type": "stream",
     "text": [
      "                                                                                                                                     "
     ]
    },
    {
     "name": "stdout",
     "output_type": "stream",
     "text": [
      "Epoch 23/100\n",
      "  Train Loss: 2.8596\n",
      "  Val Spearman (-ve):   -0.7383\n",
      "5: Epoch 24/100\n"
     ]
    },
    {
     "name": "stderr",
     "output_type": "stream",
     "text": [
      "                                                                                                                                     "
     ]
    },
    {
     "name": "stdout",
     "output_type": "stream",
     "text": [
      "Epoch 24/100\n",
      "  Train Loss: 2.8694\n",
      "  Val Spearman (-ve):   -0.7384\n",
      "5: Epoch 25/100\n"
     ]
    },
    {
     "name": "stderr",
     "output_type": "stream",
     "text": [
      "                                                                                                                                     "
     ]
    },
    {
     "name": "stdout",
     "output_type": "stream",
     "text": [
      "Epoch 25/100\n",
      "  Train Loss: 2.8802\n",
      "  Val Spearman (-ve):   -0.7383\n",
      "5: Epoch 26/100\n"
     ]
    },
    {
     "name": "stderr",
     "output_type": "stream",
     "text": [
      "                                                                                                                                     "
     ]
    },
    {
     "name": "stdout",
     "output_type": "stream",
     "text": [
      "Epoch 26/100\n",
      "  Train Loss: 2.8718\n",
      "  Val Spearman (-ve):   -0.7389\n",
      "  -> Best model saved (val_loss improved to -0.7389)\n",
      "5: Epoch 27/100\n"
     ]
    },
    {
     "name": "stderr",
     "output_type": "stream",
     "text": [
      "                                                                                                                                     "
     ]
    },
    {
     "name": "stdout",
     "output_type": "stream",
     "text": [
      "Epoch 27/100\n",
      "  Train Loss: 2.8664\n",
      "  Val Spearman (-ve):   -0.7388\n",
      "5: Epoch 28/100\n"
     ]
    },
    {
     "name": "stderr",
     "output_type": "stream",
     "text": [
      "                                                                                                                                     "
     ]
    },
    {
     "name": "stdout",
     "output_type": "stream",
     "text": [
      "Epoch 28/100\n",
      "  Train Loss: 2.8622\n",
      "  Val Spearman (-ve):   -0.7395\n",
      "  -> Best model saved (val_loss improved to -0.7395)\n",
      "5: Epoch 29/100\n"
     ]
    },
    {
     "name": "stderr",
     "output_type": "stream",
     "text": [
      "                                                                                                                                     "
     ]
    },
    {
     "name": "stdout",
     "output_type": "stream",
     "text": [
      "Epoch 29/100\n",
      "  Train Loss: 2.8899\n",
      "  Val Spearman (-ve):   -0.7401\n",
      "  -> Best model saved (val_loss improved to -0.7401)\n",
      "5: Epoch 30/100\n"
     ]
    },
    {
     "name": "stderr",
     "output_type": "stream",
     "text": [
      "                                                                                                                                     "
     ]
    },
    {
     "name": "stdout",
     "output_type": "stream",
     "text": [
      "Epoch 30/100\n",
      "  Train Loss: 2.8253\n",
      "  Val Spearman (-ve):   -0.7388\n",
      "5: Epoch 31/100\n"
     ]
    },
    {
     "name": "stderr",
     "output_type": "stream",
     "text": [
      "                                                                                                                                     "
     ]
    },
    {
     "name": "stdout",
     "output_type": "stream",
     "text": [
      "Epoch 31/100\n",
      "  Train Loss: 2.8440\n",
      "  Val Spearman (-ve):   -0.7390\n",
      "Test Spearman: 0.6820\n",
      "5: Epoch 32/100\n"
     ]
    },
    {
     "name": "stderr",
     "output_type": "stream",
     "text": [
      "                                                                                                                                     "
     ]
    },
    {
     "name": "stdout",
     "output_type": "stream",
     "text": [
      "Epoch 32/100\n",
      "  Train Loss: 2.8281\n",
      "  Val Spearman (-ve):   -0.7386\n",
      "5: Epoch 33/100\n"
     ]
    },
    {
     "name": "stderr",
     "output_type": "stream",
     "text": [
      "                                                                                                                                     "
     ]
    },
    {
     "name": "stdout",
     "output_type": "stream",
     "text": [
      "Epoch 33/100\n",
      "  Train Loss: 2.8327\n",
      "  Val Spearman (-ve):   -0.7374\n",
      "5: Epoch 34/100\n"
     ]
    },
    {
     "name": "stderr",
     "output_type": "stream",
     "text": [
      "                                                                                                                                     "
     ]
    },
    {
     "name": "stdout",
     "output_type": "stream",
     "text": [
      "Epoch 34/100\n",
      "  Train Loss: 2.8510\n",
      "  Val Spearman (-ve):   -0.7393\n",
      "5: Epoch 35/100\n"
     ]
    },
    {
     "name": "stderr",
     "output_type": "stream",
     "text": [
      "                                                                                                                                     "
     ]
    },
    {
     "name": "stdout",
     "output_type": "stream",
     "text": [
      "Epoch 35/100\n",
      "  Train Loss: 2.8230\n",
      "  Val Spearman (-ve):   -0.7377\n",
      "5: Epoch 36/100\n"
     ]
    },
    {
     "name": "stderr",
     "output_type": "stream",
     "text": [
      "                                                                                                                                     "
     ]
    },
    {
     "name": "stdout",
     "output_type": "stream",
     "text": [
      "Epoch 36/100\n",
      "  Train Loss: 2.8454\n",
      "  Val Spearman (-ve):   -0.7388\n",
      "5: Epoch 37/100\n"
     ]
    },
    {
     "name": "stderr",
     "output_type": "stream",
     "text": [
      "                                                                                                                                     "
     ]
    },
    {
     "name": "stdout",
     "output_type": "stream",
     "text": [
      "Epoch 37/100\n",
      "  Train Loss: 2.8828\n",
      "  Val Spearman (-ve):   -0.7385\n",
      "5: Epoch 38/100\n"
     ]
    },
    {
     "name": "stderr",
     "output_type": "stream",
     "text": [
      "                                                                                                                                     "
     ]
    },
    {
     "name": "stdout",
     "output_type": "stream",
     "text": [
      "Epoch 38/100\n",
      "  Train Loss: 2.8074\n",
      "  Val Spearman (-ve):   -0.7385\n",
      "5: Epoch 39/100\n"
     ]
    },
    {
     "name": "stderr",
     "output_type": "stream",
     "text": [
      "                                                                                                                                     "
     ]
    },
    {
     "name": "stdout",
     "output_type": "stream",
     "text": [
      "Epoch 39/100\n",
      "  Train Loss: 2.8068\n",
      "  Val Spearman (-ve):   -0.7385\n",
      "5: Epoch 40/100\n"
     ]
    },
    {
     "name": "stderr",
     "output_type": "stream",
     "text": [
      "                                                                                                                                     "
     ]
    },
    {
     "name": "stdout",
     "output_type": "stream",
     "text": [
      "Epoch 40/100\n",
      "  Train Loss: 2.7946\n",
      "  Val Spearman (-ve):   -0.7393\n",
      "5: Epoch 41/100\n"
     ]
    },
    {
     "name": "stderr",
     "output_type": "stream",
     "text": [
      "                                                                                                                                     "
     ]
    },
    {
     "name": "stdout",
     "output_type": "stream",
     "text": [
      "Epoch 41/100\n",
      "  Train Loss: 2.8209\n",
      "  Val Spearman (-ve):   -0.7404\n",
      "  -> Best model saved (val_loss improved to -0.7404)\n",
      "Test Spearman: 0.6821\n",
      "5: Epoch 42/100\n"
     ]
    },
    {
     "name": "stderr",
     "output_type": "stream",
     "text": [
      "                                                                                                                                     "
     ]
    },
    {
     "name": "stdout",
     "output_type": "stream",
     "text": [
      "Epoch 42/100\n",
      "  Train Loss: 2.8501\n",
      "  Val Spearman (-ve):   -0.7406\n",
      "  -> Best model saved (val_loss improved to -0.7406)\n",
      "5: Epoch 43/100\n"
     ]
    },
    {
     "name": "stderr",
     "output_type": "stream",
     "text": [
      "                                                                                                                                     "
     ]
    },
    {
     "name": "stdout",
     "output_type": "stream",
     "text": [
      "Epoch 43/100\n",
      "  Train Loss: 2.8089\n",
      "  Val Spearman (-ve):   -0.7401\n",
      "5: Epoch 44/100\n"
     ]
    },
    {
     "name": "stderr",
     "output_type": "stream",
     "text": [
      "                                                                                                                                     "
     ]
    },
    {
     "name": "stdout",
     "output_type": "stream",
     "text": [
      "Epoch 44/100\n",
      "  Train Loss: 2.8131\n",
      "  Val Spearman (-ve):   -0.7403\n",
      "5: Epoch 45/100\n"
     ]
    },
    {
     "name": "stderr",
     "output_type": "stream",
     "text": [
      "                                                                                                                                     "
     ]
    },
    {
     "name": "stdout",
     "output_type": "stream",
     "text": [
      "Epoch 45/100\n",
      "  Train Loss: 2.8199\n",
      "  Val Spearman (-ve):   -0.7408\n",
      "  -> Best model saved (val_loss improved to -0.7408)\n",
      "5: Epoch 46/100\n"
     ]
    },
    {
     "name": "stderr",
     "output_type": "stream",
     "text": [
      "                                                                                                                                     "
     ]
    },
    {
     "name": "stdout",
     "output_type": "stream",
     "text": [
      "Epoch 46/100\n",
      "  Train Loss: 2.7765\n",
      "  Val Spearman (-ve):   -0.7407\n",
      "5: Epoch 47/100\n"
     ]
    },
    {
     "name": "stderr",
     "output_type": "stream",
     "text": [
      "                                                                                                                                     "
     ]
    },
    {
     "name": "stdout",
     "output_type": "stream",
     "text": [
      "Epoch 47/100\n",
      "  Train Loss: 2.8051\n",
      "  Val Spearman (-ve):   -0.7400\n",
      "5: Epoch 48/100\n"
     ]
    },
    {
     "name": "stderr",
     "output_type": "stream",
     "text": [
      "                                                                                                                                     "
     ]
    },
    {
     "name": "stdout",
     "output_type": "stream",
     "text": [
      "Epoch 48/100\n",
      "  Train Loss: 2.7750\n",
      "  Val Spearman (-ve):   -0.7399\n",
      "5: Epoch 49/100\n"
     ]
    },
    {
     "name": "stderr",
     "output_type": "stream",
     "text": [
      "                                                                                                                                     "
     ]
    },
    {
     "name": "stdout",
     "output_type": "stream",
     "text": [
      "Epoch 49/100\n",
      "  Train Loss: 2.7985\n",
      "  Val Spearman (-ve):   -0.7388\n",
      "5: Epoch 50/100\n"
     ]
    },
    {
     "name": "stderr",
     "output_type": "stream",
     "text": [
      "                                                                                                                                     "
     ]
    },
    {
     "name": "stdout",
     "output_type": "stream",
     "text": [
      "Epoch 50/100\n",
      "  Train Loss: 2.7706\n",
      "  Val Spearman (-ve):   -0.7395\n",
      "5: Epoch 51/100\n"
     ]
    },
    {
     "name": "stderr",
     "output_type": "stream",
     "text": [
      "                                                                                                                                     "
     ]
    },
    {
     "name": "stdout",
     "output_type": "stream",
     "text": [
      "Epoch 51/100\n",
      "  Train Loss: 2.7728\n",
      "  Val Spearman (-ve):   -0.7408\n",
      "Test Spearman: 0.6827\n",
      "5: Epoch 52/100\n"
     ]
    },
    {
     "name": "stderr",
     "output_type": "stream",
     "text": [
      "                                                                                                                                     "
     ]
    },
    {
     "name": "stdout",
     "output_type": "stream",
     "text": [
      "Epoch 52/100\n",
      "  Train Loss: 2.7861\n",
      "  Val Spearman (-ve):   -0.7405\n",
      "5: Epoch 53/100\n"
     ]
    },
    {
     "name": "stderr",
     "output_type": "stream",
     "text": [
      "                                                                                                                                     "
     ]
    },
    {
     "name": "stdout",
     "output_type": "stream",
     "text": [
      "Epoch 53/100\n",
      "  Train Loss: 2.7565\n",
      "  Val Spearman (-ve):   -0.7402\n",
      "5: Epoch 54/100\n"
     ]
    },
    {
     "name": "stderr",
     "output_type": "stream",
     "text": [
      "                                                                                                                                     "
     ]
    },
    {
     "name": "stdout",
     "output_type": "stream",
     "text": [
      "Epoch 54/100\n",
      "  Train Loss: 2.7652\n",
      "  Val Spearman (-ve):   -0.7404\n",
      "5: Epoch 55/100\n"
     ]
    },
    {
     "name": "stderr",
     "output_type": "stream",
     "text": [
      "                                                                                                                                     "
     ]
    },
    {
     "name": "stdout",
     "output_type": "stream",
     "text": [
      "Epoch 55/100\n",
      "  Train Loss: 2.7654\n",
      "  Val Spearman (-ve):   -0.7403\n",
      "5: Epoch 56/100\n"
     ]
    },
    {
     "name": "stderr",
     "output_type": "stream",
     "text": [
      "                                                                                                                                     "
     ]
    },
    {
     "name": "stdout",
     "output_type": "stream",
     "text": [
      "Epoch 56/100\n",
      "  Train Loss: 2.7598\n",
      "  Val Spearman (-ve):   -0.7412\n",
      "  -> Best model saved (val_loss improved to -0.7412)\n",
      "5: Epoch 57/100\n"
     ]
    },
    {
     "name": "stderr",
     "output_type": "stream",
     "text": [
      "                                                                                                                                     "
     ]
    },
    {
     "name": "stdout",
     "output_type": "stream",
     "text": [
      "Epoch 57/100\n",
      "  Train Loss: 2.7380\n",
      "  Val Spearman (-ve):   -0.7416\n",
      "  -> Best model saved (val_loss improved to -0.7416)\n",
      "5: Epoch 58/100\n"
     ]
    },
    {
     "name": "stderr",
     "output_type": "stream",
     "text": [
      "                                                                                                                                     "
     ]
    },
    {
     "name": "stdout",
     "output_type": "stream",
     "text": [
      "Epoch 58/100\n",
      "  Train Loss: 2.7878\n",
      "  Val Spearman (-ve):   -0.7414\n",
      "5: Epoch 59/100\n"
     ]
    },
    {
     "name": "stderr",
     "output_type": "stream",
     "text": [
      "                                                                                                                                     "
     ]
    },
    {
     "name": "stdout",
     "output_type": "stream",
     "text": [
      "Epoch 59/100\n",
      "  Train Loss: 2.7682\n",
      "  Val Spearman (-ve):   -0.7398\n",
      "5: Epoch 60/100\n"
     ]
    },
    {
     "name": "stderr",
     "output_type": "stream",
     "text": [
      "                                                                                                                                     "
     ]
    },
    {
     "name": "stdout",
     "output_type": "stream",
     "text": [
      "Epoch 60/100\n",
      "  Train Loss: 2.7478\n",
      "  Val Spearman (-ve):   -0.7412\n",
      "5: Epoch 61/100\n"
     ]
    },
    {
     "name": "stderr",
     "output_type": "stream",
     "text": [
      "                                                                                                                                     "
     ]
    },
    {
     "name": "stdout",
     "output_type": "stream",
     "text": [
      "Epoch 61/100\n",
      "  Train Loss: 2.7545\n",
      "  Val Spearman (-ve):   -0.7408\n",
      "Test Spearman: 0.6827\n",
      "5: Epoch 62/100\n"
     ]
    },
    {
     "name": "stderr",
     "output_type": "stream",
     "text": [
      "                                                                                                                                     "
     ]
    },
    {
     "name": "stdout",
     "output_type": "stream",
     "text": [
      "Epoch 62/100\n",
      "  Train Loss: 2.7704\n",
      "  Val Spearman (-ve):   -0.7404\n",
      "5: Epoch 63/100\n"
     ]
    },
    {
     "name": "stderr",
     "output_type": "stream",
     "text": [
      "                                                                                                                                     "
     ]
    },
    {
     "name": "stdout",
     "output_type": "stream",
     "text": [
      "Epoch 63/100\n",
      "  Train Loss: 2.7677\n",
      "  Val Spearman (-ve):   -0.7411\n",
      "5: Epoch 64/100\n"
     ]
    },
    {
     "name": "stderr",
     "output_type": "stream",
     "text": [
      "                                                                                                                                     "
     ]
    },
    {
     "name": "stdout",
     "output_type": "stream",
     "text": [
      "Epoch 64/100\n",
      "  Train Loss: 2.8002\n",
      "  Val Spearman (-ve):   -0.7413\n",
      "5: Epoch 65/100\n"
     ]
    },
    {
     "name": "stderr",
     "output_type": "stream",
     "text": [
      "                                                                                                                                     "
     ]
    },
    {
     "name": "stdout",
     "output_type": "stream",
     "text": [
      "Epoch 65/100\n",
      "  Train Loss: 2.7091\n",
      "  Val Spearman (-ve):   -0.7427\n",
      "  -> Best model saved (val_loss improved to -0.7427)\n",
      "5: Epoch 66/100\n"
     ]
    },
    {
     "name": "stderr",
     "output_type": "stream",
     "text": [
      "                                                                                                                                     "
     ]
    },
    {
     "name": "stdout",
     "output_type": "stream",
     "text": [
      "Epoch 66/100\n",
      "  Train Loss: 2.7785\n",
      "  Val Spearman (-ve):   -0.7419\n",
      "5: Epoch 67/100\n"
     ]
    },
    {
     "name": "stderr",
     "output_type": "stream",
     "text": [
      "                                                                                                                                     "
     ]
    },
    {
     "name": "stdout",
     "output_type": "stream",
     "text": [
      "Epoch 67/100\n",
      "  Train Loss: 2.7324\n",
      "  Val Spearman (-ve):   -0.7429\n",
      "  -> Best model saved (val_loss improved to -0.7429)\n",
      "5: Epoch 68/100\n"
     ]
    },
    {
     "name": "stderr",
     "output_type": "stream",
     "text": [
      "                                                                                                                                     "
     ]
    },
    {
     "name": "stdout",
     "output_type": "stream",
     "text": [
      "Epoch 68/100\n",
      "  Train Loss: 2.7359\n",
      "  Val Spearman (-ve):   -0.7433\n",
      "  -> Best model saved (val_loss improved to -0.7433)\n",
      "5: Epoch 69/100\n"
     ]
    },
    {
     "name": "stderr",
     "output_type": "stream",
     "text": [
      "                                                                                                                                     "
     ]
    },
    {
     "name": "stdout",
     "output_type": "stream",
     "text": [
      "Epoch 69/100\n",
      "  Train Loss: 2.7707\n",
      "  Val Spearman (-ve):   -0.7437\n",
      "  -> Best model saved (val_loss improved to -0.7437)\n",
      "5: Epoch 70/100\n"
     ]
    },
    {
     "name": "stderr",
     "output_type": "stream",
     "text": [
      "                                                                                                                                     "
     ]
    },
    {
     "name": "stdout",
     "output_type": "stream",
     "text": [
      "Epoch 70/100\n",
      "  Train Loss: 2.7152\n",
      "  Val Spearman (-ve):   -0.7424\n",
      "5: Epoch 71/100\n"
     ]
    },
    {
     "name": "stderr",
     "output_type": "stream",
     "text": [
      "                                                                                                                                     "
     ]
    },
    {
     "name": "stdout",
     "output_type": "stream",
     "text": [
      "Epoch 71/100\n",
      "  Train Loss: 2.7589\n",
      "  Val Spearman (-ve):   -0.7432\n",
      "Test Spearman: 0.6819\n",
      "5: Epoch 72/100\n"
     ]
    },
    {
     "name": "stderr",
     "output_type": "stream",
     "text": [
      "                                                                                                                                     "
     ]
    },
    {
     "name": "stdout",
     "output_type": "stream",
     "text": [
      "Epoch 72/100\n",
      "  Train Loss: 2.7117\n",
      "  Val Spearman (-ve):   -0.7426\n",
      "5: Epoch 73/100\n"
     ]
    },
    {
     "name": "stderr",
     "output_type": "stream",
     "text": [
      "                                                                                                                                     "
     ]
    },
    {
     "name": "stdout",
     "output_type": "stream",
     "text": [
      "Epoch 73/100\n",
      "  Train Loss: 2.7339\n",
      "  Val Spearman (-ve):   -0.7420\n",
      "5: Epoch 74/100\n"
     ]
    },
    {
     "name": "stderr",
     "output_type": "stream",
     "text": [
      "                                                                                                                                     "
     ]
    },
    {
     "name": "stdout",
     "output_type": "stream",
     "text": [
      "Epoch 74/100\n",
      "  Train Loss: 2.7166\n",
      "  Val Spearman (-ve):   -0.7408\n",
      "5: Epoch 75/100\n"
     ]
    },
    {
     "name": "stderr",
     "output_type": "stream",
     "text": [
      "                                                                                                                                     "
     ]
    },
    {
     "name": "stdout",
     "output_type": "stream",
     "text": [
      "Epoch 75/100\n",
      "  Train Loss: 2.7735\n",
      "  Val Spearman (-ve):   -0.7423\n",
      "5: Epoch 76/100\n"
     ]
    },
    {
     "name": "stderr",
     "output_type": "stream",
     "text": [
      "                                                                                                                                     "
     ]
    },
    {
     "name": "stdout",
     "output_type": "stream",
     "text": [
      "Epoch 76/100\n",
      "  Train Loss: 2.7286\n",
      "  Val Spearman (-ve):   -0.7423\n",
      "5: Epoch 77/100\n"
     ]
    },
    {
     "name": "stderr",
     "output_type": "stream",
     "text": [
      "                                                                                                                                     "
     ]
    },
    {
     "name": "stdout",
     "output_type": "stream",
     "text": [
      "Epoch 77/100\n",
      "  Train Loss: 2.7308\n",
      "  Val Spearman (-ve):   -0.7415\n",
      "5: Epoch 78/100\n"
     ]
    },
    {
     "name": "stderr",
     "output_type": "stream",
     "text": [
      "                                                                                                                                     "
     ]
    },
    {
     "name": "stdout",
     "output_type": "stream",
     "text": [
      "Epoch 78/100\n",
      "  Train Loss: 2.7526\n",
      "  Val Spearman (-ve):   -0.7415\n",
      "5: Epoch 79/100\n"
     ]
    },
    {
     "name": "stderr",
     "output_type": "stream",
     "text": [
      "                                                                                                                                     "
     ]
    },
    {
     "name": "stdout",
     "output_type": "stream",
     "text": [
      "Epoch 79/100\n",
      "  Train Loss: 2.7198\n",
      "  Val Spearman (-ve):   -0.7408\n",
      "5: Epoch 80/100\n"
     ]
    },
    {
     "name": "stderr",
     "output_type": "stream",
     "text": [
      "                                                                                                                                     "
     ]
    },
    {
     "name": "stdout",
     "output_type": "stream",
     "text": [
      "Epoch 80/100\n",
      "  Train Loss: 2.7295\n",
      "  Val Spearman (-ve):   -0.7410\n",
      "5: Epoch 81/100\n"
     ]
    },
    {
     "name": "stderr",
     "output_type": "stream",
     "text": [
      "                                                                                                                                     "
     ]
    },
    {
     "name": "stdout",
     "output_type": "stream",
     "text": [
      "Epoch 81/100\n",
      "  Train Loss: 2.7152\n",
      "  Val Spearman (-ve):   -0.7412\n",
      "Test Spearman: 0.6819\n",
      "5: Epoch 82/100\n"
     ]
    },
    {
     "name": "stderr",
     "output_type": "stream",
     "text": [
      "                                                                                                                                     "
     ]
    },
    {
     "name": "stdout",
     "output_type": "stream",
     "text": [
      "Epoch 82/100\n",
      "  Train Loss: 2.7212\n",
      "  Val Spearman (-ve):   -0.7428\n",
      "5: Epoch 83/100\n"
     ]
    },
    {
     "name": "stderr",
     "output_type": "stream",
     "text": [
      "                                                                                                                                     "
     ]
    },
    {
     "name": "stdout",
     "output_type": "stream",
     "text": [
      "Epoch 83/100\n",
      "  Train Loss: 2.6852\n",
      "  Val Spearman (-ve):   -0.7425\n",
      "5: Epoch 84/100\n"
     ]
    },
    {
     "name": "stderr",
     "output_type": "stream",
     "text": [
      "                                                                                                                                     "
     ]
    },
    {
     "name": "stdout",
     "output_type": "stream",
     "text": [
      "Epoch 84/100\n",
      "  Train Loss: 2.7074\n",
      "  Val Spearman (-ve):   -0.7414\n",
      "5: Epoch 85/100\n"
     ]
    },
    {
     "name": "stderr",
     "output_type": "stream",
     "text": [
      "                                                                                                                                     "
     ]
    },
    {
     "name": "stdout",
     "output_type": "stream",
     "text": [
      "Epoch 85/100\n",
      "  Train Loss: 2.7421\n",
      "  Val Spearman (-ve):   -0.7419\n",
      "5: Epoch 86/100\n"
     ]
    },
    {
     "name": "stderr",
     "output_type": "stream",
     "text": [
      "                                                                                                                                     "
     ]
    },
    {
     "name": "stdout",
     "output_type": "stream",
     "text": [
      "Epoch 86/100\n",
      "  Train Loss: 2.6879\n",
      "  Val Spearman (-ve):   -0.7422\n",
      "5: Epoch 87/100\n"
     ]
    },
    {
     "name": "stderr",
     "output_type": "stream",
     "text": [
      "                                                                                                                                     "
     ]
    },
    {
     "name": "stdout",
     "output_type": "stream",
     "text": [
      "Epoch 87/100\n",
      "  Train Loss: 2.7176\n",
      "  Val Spearman (-ve):   -0.7425\n",
      "5: Epoch 88/100\n"
     ]
    },
    {
     "name": "stderr",
     "output_type": "stream",
     "text": [
      "                                                                                                                                     "
     ]
    },
    {
     "name": "stdout",
     "output_type": "stream",
     "text": [
      "Epoch 88/100\n",
      "  Train Loss: 2.7184\n",
      "  Val Spearman (-ve):   -0.7428\n",
      "5: Epoch 89/100\n"
     ]
    },
    {
     "name": "stderr",
     "output_type": "stream",
     "text": [
      "                                                                                                                                     "
     ]
    },
    {
     "name": "stdout",
     "output_type": "stream",
     "text": [
      "Epoch 89/100\n",
      "  Train Loss: 2.7037\n",
      "  Val Spearman (-ve):   -0.7416\n",
      "5: Epoch 90/100\n"
     ]
    },
    {
     "name": "stderr",
     "output_type": "stream",
     "text": [
      "                                                                                                                                     "
     ]
    },
    {
     "name": "stdout",
     "output_type": "stream",
     "text": [
      "Epoch 90/100\n",
      "  Train Loss: 2.7315\n",
      "  Val Spearman (-ve):   -0.7410\n",
      "5: Epoch 91/100\n"
     ]
    },
    {
     "name": "stderr",
     "output_type": "stream",
     "text": [
      "                                                                                                                                     "
     ]
    },
    {
     "name": "stdout",
     "output_type": "stream",
     "text": [
      "Epoch 91/100\n",
      "  Train Loss: 2.7086\n",
      "  Val Spearman (-ve):   -0.7418\n",
      "Test Spearman: 0.6819\n",
      "5: Epoch 92/100\n"
     ]
    },
    {
     "name": "stderr",
     "output_type": "stream",
     "text": [
      "                                                                                                                                     "
     ]
    },
    {
     "name": "stdout",
     "output_type": "stream",
     "text": [
      "Epoch 92/100\n",
      "  Train Loss: 2.7000\n",
      "  Val Spearman (-ve):   -0.7415\n",
      "5: Epoch 93/100\n"
     ]
    },
    {
     "name": "stderr",
     "output_type": "stream",
     "text": [
      "                                                                                                                                     "
     ]
    },
    {
     "name": "stdout",
     "output_type": "stream",
     "text": [
      "Epoch 93/100\n",
      "  Train Loss: 2.7070\n",
      "  Val Spearman (-ve):   -0.7413\n",
      "5: Epoch 94/100\n"
     ]
    },
    {
     "name": "stderr",
     "output_type": "stream",
     "text": [
      "                                                                                                                                     "
     ]
    },
    {
     "name": "stdout",
     "output_type": "stream",
     "text": [
      "Epoch 94/100\n",
      "  Train Loss: 2.7132\n",
      "  Val Spearman (-ve):   -0.7413\n",
      "5: Epoch 95/100\n"
     ]
    },
    {
     "name": "stderr",
     "output_type": "stream",
     "text": [
      "                                                                                                                                     "
     ]
    },
    {
     "name": "stdout",
     "output_type": "stream",
     "text": [
      "Epoch 95/100\n",
      "  Train Loss: 2.7046\n",
      "  Val Spearman (-ve):   -0.7431\n",
      "5: Epoch 96/100\n"
     ]
    },
    {
     "name": "stderr",
     "output_type": "stream",
     "text": [
      "                                                                                                                                     "
     ]
    },
    {
     "name": "stdout",
     "output_type": "stream",
     "text": [
      "Epoch 96/100\n",
      "  Train Loss: 2.6893\n",
      "  Val Spearman (-ve):   -0.7434\n",
      "5: Epoch 97/100\n"
     ]
    },
    {
     "name": "stderr",
     "output_type": "stream",
     "text": [
      "                                                                                                                                     "
     ]
    },
    {
     "name": "stdout",
     "output_type": "stream",
     "text": [
      "Epoch 97/100\n",
      "  Train Loss: 2.7316\n",
      "  Val Spearman (-ve):   -0.7425\n",
      "5: Epoch 98/100\n"
     ]
    },
    {
     "name": "stderr",
     "output_type": "stream",
     "text": [
      "                                                                                                                                     "
     ]
    },
    {
     "name": "stdout",
     "output_type": "stream",
     "text": [
      "Epoch 98/100\n",
      "  Train Loss: 2.7011\n",
      "  Val Spearman (-ve):   -0.7418\n",
      "5: Epoch 99/100\n"
     ]
    },
    {
     "name": "stderr",
     "output_type": "stream",
     "text": [
      "                                                                                                                                     "
     ]
    },
    {
     "name": "stdout",
     "output_type": "stream",
     "text": [
      "Epoch 99/100\n",
      "  Train Loss: 2.6789\n",
      "  Val Spearman (-ve):   -0.7414\n",
      "5: Epoch 100/100\n"
     ]
    },
    {
     "name": "stderr",
     "output_type": "stream",
     "text": [
      "                                                                                                                                     "
     ]
    },
    {
     "name": "stdout",
     "output_type": "stream",
     "text": [
      "Epoch 100/100\n",
      "  Train Loss: 2.7157\n",
      "  Val Spearman (-ve):   -0.7418\n"
     ]
    }
   ],
   "source": [
    "test_spearman = -validate(test_loader, model, device)  # Flip sign back\n",
    "print(f\"Test Spearman: {test_spearman:.4f}\")\n",
    "num_epochs = 100\n",
    "for epoch in range(num_epochs):\n",
    "    print(f\"{I}: Epoch {epoch+1}/{num_epochs}\")\n",
    "\n",
    "    train_loss = train_one_epoch(train_loader, model, optimizer, device)\n",
    "    val_loss = validate(val_loader, model, device)\n",
    "\n",
    "    print(f\"Epoch {epoch+1}/{num_epochs}\")\n",
    "    print(f\"  Train Loss: {train_loss:.4f}\")\n",
    "    print(f\"  Val Spearman (-ve):   {val_loss:.4f}\")\n",
    "\n",
    "    if val_loss < best_val_loss:\n",
    "        best_val_loss = val_loss\n",
    "        torch.save(model.state_dict(), 'best_model.pt')\n",
    "        print(f\"  -> Best model saved (val_loss improved to {best_val_loss:.4f})\")\n",
    "    if epoch%10==0:\n",
    "        test_spearman = -validate(test_loader, model, device)  # Flip sign back\n",
    "        print(f\"Test Spearman: {test_spearman:.4f}\")"
   ]
  },
  {
   "cell_type": "code",
   "execution_count": 7,
   "id": "a80049aa-ed7c-44f1-ac0c-bf1c19dce934",
   "metadata": {},
   "outputs": [
    {
     "name": "stdout",
     "output_type": "stream",
     "text": [
      "Test Spearman: 0.6825\n"
     ]
    }
   ],
   "source": [
    "test_spearman = -validate(test_loader, model, device)  # Flip sign back\n",
    "print(f\"Test Spearman: {test_spearman:.4f}\")"
   ]
  },
  {
   "cell_type": "code",
   "execution_count": 8,
   "id": "9c3f3d20-67cf-4c05-a60b-4ab91dc3542a",
   "metadata": {},
   "outputs": [
    {
     "name": "stderr",
     "output_type": "stream",
     "text": [
      "/tmp/ipykernel_465649/3579734556.py:1: FutureWarning: You are using `torch.load` with `weights_only=False` (the current default value), which uses the default pickle module implicitly. It is possible to construct malicious pickle data which will execute arbitrary code during unpickling (See https://github.com/pytorch/pytorch/blob/main/SECURITY.md#untrusted-models for more details). In a future release, the default value for `weights_only` will be flipped to `True`. This limits the functions that could be executed during unpickling. Arbitrary objects will no longer be allowed to be loaded via this mode unless they are explicitly allowlisted by the user via `torch.serialization.add_safe_globals`. We recommend you start setting `weights_only=True` for any use case where you don't have full control of the loaded file. Please open an issue on GitHub for any issues related to this experimental feature.\n",
      "  model.load_state_dict(torch.load('best_model.pt'))\n"
     ]
    },
    {
     "name": "stdout",
     "output_type": "stream",
     "text": [
      "Test Spearman: 0.6818\n"
     ]
    }
   ],
   "source": [
    "model.load_state_dict(torch.load('best_model.pt'))\n",
    "test_spearman = -validate(test_loader, model, device)  # Flip sign back\n",
    "print(f\"Test Spearman: {test_spearman:.4f}\")"
   ]
  },
  {
   "cell_type": "code",
   "execution_count": null,
   "id": "d5de0025-50cc-4742-a1df-409aff80747b",
   "metadata": {},
   "outputs": [],
   "source": []
  }
 ],
 "metadata": {
  "kernelspec": {
   "display_name": "Python 3 (ipykernel)",
   "language": "python",
   "name": "python3"
  },
  "language_info": {
   "codemirror_mode": {
    "name": "ipython",
    "version": 3
   },
   "file_extension": ".py",
   "mimetype": "text/x-python",
   "name": "python",
   "nbconvert_exporter": "python",
   "pygments_lexer": "ipython3",
   "version": "3.11.11"
  }
 },
 "nbformat": 4,
 "nbformat_minor": 5
}
